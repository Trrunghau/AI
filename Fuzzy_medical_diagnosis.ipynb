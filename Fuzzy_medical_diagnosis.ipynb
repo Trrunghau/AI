{
  "nbformat": 4,
  "nbformat_minor": 0,
  "metadata": {
    "colab": {
      "provenance": [],
      "authorship_tag": "ABX9TyN/soaNySUA+ea85b/qWLme",
      "include_colab_link": true
    },
    "kernelspec": {
      "name": "python3",
      "display_name": "Python 3"
    },
    "language_info": {
      "name": "python"
    }
  },
  "cells": [
    {
      "cell_type": "markdown",
      "metadata": {
        "id": "view-in-github",
        "colab_type": "text"
      },
      "source": [
        "<a href=\"https://colab.research.google.com/github/Trrunghau/Trrunghau/blob/homework/Fuzzy_medical_diagnosis.ipynb\" target=\"_parent\"><img src=\"https://colab.research.google.com/assets/colab-badge.svg\" alt=\"Open In Colab\"/></a>"
      ]
    },
    {
      "cell_type": "code",
      "execution_count": 2,
      "metadata": {
        "colab": {
          "base_uri": "https://localhost:8080/"
        },
        "id": "Sikyqoyd4KKD",
        "outputId": "a0125d50-5dbd-4bec-f9fe-a526a5fcefdd"
      },
      "outputs": [
        {
          "output_type": "stream",
          "name": "stdout",
          "text": [
            "Looking in indexes: https://pypi.org/simple, https://us-python.pkg.dev/colab-wheels/public/simple/\n",
            "Collecting scikit-fuzzy\n",
            "  Downloading scikit-fuzzy-0.4.2.tar.gz (993 kB)\n",
            "\u001b[2K     \u001b[90m━━━━━━━━━━━━━━━━━━━━━━━━━━━━━━━━━━━━━━\u001b[0m \u001b[32m994.0/994.0 KB\u001b[0m \u001b[31m19.2 MB/s\u001b[0m eta \u001b[36m0:00:00\u001b[0m\n",
            "\u001b[?25h  Preparing metadata (setup.py) ... \u001b[?25l\u001b[?25hdone\n",
            "Requirement already satisfied: numpy>=1.6.0 in /usr/local/lib/python3.8/dist-packages (from scikit-fuzzy) (1.22.4)\n",
            "Requirement already satisfied: scipy>=0.9.0 in /usr/local/lib/python3.8/dist-packages (from scikit-fuzzy) (1.7.3)\n",
            "Requirement already satisfied: networkx>=1.9.0 in /usr/local/lib/python3.8/dist-packages (from scikit-fuzzy) (3.0)\n",
            "Building wheels for collected packages: scikit-fuzzy\n",
            "  Building wheel for scikit-fuzzy (setup.py) ... \u001b[?25l\u001b[?25hdone\n",
            "  Created wheel for scikit-fuzzy: filename=scikit_fuzzy-0.4.2-py3-none-any.whl size=894088 sha256=f8a2cb88ed3c089ab7f5535d1e67e38491d6807fc39b8670e738b786465391f3\n",
            "  Stored in directory: /root/.cache/pip/wheels/2c/04/80/7eefb1a2de7d36aefd06432fab2a1486caf0a0596a7067391a\n",
            "Successfully built scikit-fuzzy\n",
            "Installing collected packages: scikit-fuzzy\n",
            "Successfully installed scikit-fuzzy-0.4.2\n"
          ]
        }
      ],
      "source": [
        "pip install -U scikit-fuzzy"
      ]
    },
    {
      "cell_type": "code",
      "source": [
        "import numpy as np\n",
        "import skfuzzy as fuzz\n",
        "from skfuzzy import control as crtl \n",
        "\n",
        "fever = crtl.Antecedent(np.arange(0,1,0.1),'fever')        # input\n",
        "headache = crtl.Antecedent(np.arange(0,1,0.1),'headache') \n",
        "nausea = crtl.Antecedent(np.arange(0,1,0.1),'nausea')        # input\n",
        "vomiting = crtl.Antecedent(np.arange(0,1,0.1),'vomiting') \n",
        "jaundice = crtl.Antecedent(np.arange(0,1,0.1),'jaundice')        # input\n",
        "enlarge = crtl.Antecedent(np.arange(0,1,0.1),'enlarge') \n",
        "joint = crtl.Antecedent(np.arange(0,1,0.1),'joint')        # input\n",
        "body = crtl.Antecedent(np.arange(0,1,0.1),'body') \n",
        "dizz = crtl.Antecedent(np.arange(0,1,0.1),'dizz')        # input\n",
        "lossOFappetite = crtl.Antecedent(np.arange(0,1,0.1),'lossOFappetite') \n",
        "MP = crtl.Antecedent(np.arange(0,1,0.1),'MP')        # input\n",
        "        \n",
        "conclusion = crtl.Consequent(np.arange(0,1,0.1),'conclusion')    # output\n",
        "\n",
        "conclusion['mild'] = fuzz.trimf(conclusion.universe,[0.1,0.2,0.3])\n",
        "conclusion['moderate'] = fuzz.trimf(conclusion.universe,[0.2,0.45,0.6])\n",
        "conclusion['servere'] = fuzz.trimf(conclusion.universe,[0.45,0.7,0.8])\n",
        "conclusion['very servere'] = fuzz.trimf(conclusion.universe,[0.7,0.9,1.0])\n",
        "\n",
        "fever['mild'] = fuzz.trimf(fever.universe,[0.1,0.2,0.3])\n",
        "fever['moderate'] = fuzz.trimf(fever.universe,[0.2,0.45,0.6])\n",
        "fever['servere'] = fuzz.trimf(fever.universe,[0.5,0.7,0.8])\n",
        "fever['very servere'] = fuzz.trimf(fever.universe,[0.7,0.9,1.0])\n",
        "\n",
        "headache['mild'] = fuzz.trimf(headache.universe,[0.1,0.2,0.3])\n",
        "headache['moderate'] = fuzz.trimf(headache.universe,[0.2,0.45,0.6])\n",
        "headache['servere'] = fuzz.trimf(headache.universe,[0.5,0.7,0.8])\n",
        "headache['very servere'] = fuzz.trimf(headache.universe,[0.7,0.9,1.0])\n",
        "\n",
        "nausea['mild'] = fuzz.trimf(nausea.universe,[0.1,0.2,0.4])\n",
        "nausea['moderate'] = fuzz.trimf(nausea.universe,[0.3,0.45,0.6])\n",
        "nausea['servere'] = fuzz.trimf(nausea.universe,[0.5,0.7,0.8])\n",
        "nausea['very servere'] = fuzz.trimf(nausea.universe,[0.7,0.9,1.0])\n",
        "\n",
        "vomiting['mild'] = fuzz.trimf(vomiting.universe,[0.1,0.2,0.5])\n",
        "vomiting['moderate'] = fuzz.trimf(vomiting.universe,[0.3,0.45,0.7])\n",
        "vomiting['servere'] = fuzz.trimf(vomiting.universe,[0.6,0.7,0.8])\n",
        "vomiting['very servere'] = fuzz.trimf(vomiting.universe,[0.7,0.9,1.0])\n",
        "\n",
        "jaundice['mild'] = fuzz.trimf(jaundice.universe,[0.1,0.2,0.4])\n",
        "jaundice['moderate'] = fuzz.trimf(jaundice.universe,[0.3,0.45,0.6])\n",
        "jaundice['servere'] = fuzz.trimf(jaundice.universe,[0.5,0.7,0.8])\n",
        "jaundice['very servere'] = fuzz.trimf(jaundice.universe,[0.7,0.9,1.0])\n",
        "\n",
        "enlarge['mild'] = fuzz.trimf(enlarge.universe,[0.1,0.2,0.4])\n",
        "enlarge['moderate'] = fuzz.trimf(enlarge.universe,[0.3,0.45,0.6])\n",
        "enlarge['servere'] = fuzz.trimf(enlarge.universe,[0.5,0.7,0.8])\n",
        "enlarge['very servere'] = fuzz.trimf(enlarge.universe,[0.7,0.9,1.0])\n",
        "\n",
        "joint['mild'] = fuzz.trimf(joint.universe,[0.1,0.2,0.3])\n",
        "joint['moderate'] = fuzz.trimf(joint.universe,[0.2,0.45,0.6])\n",
        "joint['servere'] = fuzz.trimf(joint.universe,[0.5,0.7,0.9])\n",
        "joint['very servere'] = fuzz.trimf(joint.universe,[0.8,0.9,1.0])\n",
        "\n",
        "body['mild'] = fuzz.trimf(body.universe,[0.1,0.2,0.3])\n",
        "body['moderate'] = fuzz.trimf(body.universe,[0.2,0.45,0.7])\n",
        "body['servere'] = fuzz.trimf(body.universe,[0.6,0.7,0.8])\n",
        "body['very servere'] = fuzz.trimf(body.universe,[0.7,0.9,1.0])\n",
        "\n",
        "dizz['mild'] = fuzz.trimf(dizz.universe,[0.1,0.2,0.5])\n",
        "dizz['moderate'] = fuzz.trimf(dizz.universe,[0.3,0.45,0.7])\n",
        "dizz['servere'] = fuzz.trimf(dizz.universe,[0.6,0.7,0.9])\n",
        "dizz['very servere'] = fuzz.trimf(dizz.universe,[0.8,0.9,1.0])\n",
        "\n",
        "lossOFappetite['mild'] = fuzz.trimf(lossOFappetite.universe,[0.1,0.2,0.4])\n",
        "lossOFappetite['moderate'] = fuzz.trimf(lossOFappetite.universe,[0.3,0.45,0.7])\n",
        "lossOFappetite['servere'] = fuzz.trimf(lossOFappetite.universe,[0.6,0.7,0.8])\n",
        "lossOFappetite['very servere'] = fuzz.trimf(lossOFappetite.universe,[0.7,0.9,1.0])\n",
        "\n",
        "MP['mild'] = fuzz.trimf(MP.universe,[0.1,0.2,0.5])\n",
        "MP['moderate'] = fuzz.trimf(MP.universe,[0.3,0.45,0.65])\n",
        "MP['servere'] = fuzz.trimf(MP.universe,[0.6,0.7,0.9])\n",
        "MP['very servere'] = fuzz.trimf(MP.universe,[0.8,0.9,1.0])\n",
        "\n",
        "\n",
        "rule1 = crtl.Rule(fever['mild']&headache['mild']&nausea['mild']&vomiting['mild']&jaundice['mild']&enlarge['mild']&joint['mild']&body['mild']&dizz['servere']&lossOFappetite['mild']&MP['mild'],conclusion['mild'])\n",
        "rule2 = crtl.Rule(fever['moderate']&headache['mild']&nausea['mild']&vomiting['mild']&jaundice['mild']&enlarge['mild']&joint['moderate']&body['moderate']&dizz['servere']&lossOFappetite['servere']&MP['moderate'],conclusion['moderate'])\n",
        "rule3 = crtl.Rule(fever['servere']&headache['moderate']&nausea['mild']&vomiting['mild']&jaundice['mild']&enlarge['mild']&joint['mild']&body['servere']&dizz['servere']&lossOFappetite['servere']&MP['moderate'],conclusion['servere'])\n",
        "rule4 = crtl.Rule(fever['very servere']&headache['mild']&nausea['mild']&vomiting['mild']&jaundice['mild']&enlarge['mild']&joint['servere']&body['servere']&dizz['mild']&lossOFappetite['mild']&MP['servere'],conclusion['very servere'])\n",
        "rule5 = crtl.Rule(fever['moderate']&headache['mild']&nausea['mild']&vomiting['moderate']&jaundice['mild']&enlarge['mild']&joint['moderate']&body['moderate']&dizz['moderate']&lossOFappetite['servere']&MP['moderate'],conclusion['moderate'])\n",
        "rule6 = crtl.Rule(fever['mild']&headache['moderate']&nausea['moderate']&vomiting['mild']&jaundice['mild']&enlarge['mild']&joint['mild']&body['mild']&dizz['moderate']&lossOFappetite['mild']&MP['mild'],conclusion['mild'])\n",
        "rule7 = crtl.Rule(fever['mild']&headache['mild']&nausea['moderate']&vomiting['moderate']&jaundice['mild']&enlarge['mild']&joint['servere']&body['servere']&dizz['moderate']&lossOFappetite['moderate']&MP['moderate'],conclusion['servere'])\n",
        "rule8 = crtl.Rule(fever['moderate']&headache['moderate']&nausea['moderate']&vomiting['moderate']&jaundice['moderate']&enlarge['moderate']&joint['moderate']&body['moderate']&dizz['moderate']&lossOFappetite['moderate']&MP['moderate'],conclusion['moderate'])\n",
        "rule9 = crtl.Rule(fever['moderate']&headache['mild']&nausea['moderate']&vomiting['moderate']&jaundice['mild']&enlarge['servere']&joint['moderate']&body['moderate']&dizz['servere']&lossOFappetite['moderate']&MP['moderate'],conclusion['moderate'])\n",
        "rule10 = crtl.Rule(fever['mild']&headache['mild']&nausea['moderate']&vomiting['moderate']&jaundice['mild']&enlarge['moderate']&joint['mild']&body['mild']&dizz['mild']&lossOFappetite['mild']&MP['mild'],conclusion['mild'])\n",
        "rule11 = crtl.Rule(fever['servere']&headache['servere']&nausea['servere']&vomiting['servere']&jaundice['servere']&enlarge['servere']&joint['servere']&body['very servere']&dizz['servere']&lossOFappetite['servere']&MP['moderate'],conclusion['very servere'])\n",
        "rule12 = crtl.Rule(fever['moderate']&headache['servere']&nausea['moderate']&vomiting['servere']&jaundice['moderate']&enlarge['servere']&joint['moderate']&body['servere']&dizz['moderate']&lossOFappetite['mild']&MP['moderate'],conclusion['servere'])\n",
        "rule13 = crtl.Rule(fever['mild']&headache['moderate']&nausea['moderate']&vomiting['mild']&jaundice['mild']&enlarge['mild']&joint['mild']&body['moderate']&dizz['mild']&lossOFappetite['moderate']&MP['moderate'],conclusion['moderate'])\n",
        "rule14 = crtl.Rule(fever['servere']&headache['servere']&nausea['moderate']&vomiting['servere']&jaundice['servere']&enlarge['servere']&joint['servere']&body['servere']&dizz['moderate']&lossOFappetite['moderate']&MP['servere'],conclusion['servere'])\n",
        "rule15 = crtl.Rule(fever['mild']&headache['mild']&nausea['mild']&vomiting['moderate']&jaundice['mild']&enlarge['mild']&joint['mild']&body['servere']&dizz['mild']&lossOFappetite['servere']&MP['moderate'],conclusion['servere'])\n",
        "rule16 = crtl.Rule(fever['very servere']&headache['moderate']&nausea['mild']&vomiting['moderate']&jaundice['servere']&enlarge['moderate']&joint['mild']&body['very servere']&dizz['mild']&lossOFappetite['servere']&MP['moderate'],conclusion['very servere'])\n",
        "rule17 = crtl.Rule(fever['mild']&headache['very servere']&nausea['moderate']&vomiting['moderate']&jaundice['mild']&enlarge['mild']&joint['mild']&body['moderate']&dizz['very servere']&lossOFappetite['mild']&MP['moderate'],conclusion['very servere'])\n",
        "rule18 = crtl.Rule(fever['moderate']&headache['very servere']&nausea['very servere']&vomiting['mild']&jaundice['servere']&enlarge['servere']&joint['moderate']&body['servere']&dizz['very servere']&lossOFappetite['very servere']&MP['servere'],conclusion['very servere'])\n",
        "rule19 = crtl.Rule(fever['moderate']&headache['moderate']&nausea['moderate']&vomiting['moderate']&jaundice['mild']&enlarge['mild']&joint['moderate']&body['moderate']&dizz['moderate']&lossOFappetite['moderate']&MP['moderate'],conclusion['moderate'])\n",
        "rule20 = crtl.Rule(fever['very servere']&headache['servere']&nausea['servere']&vomiting['servere']&jaundice['servere']&enlarge['servere']&joint['servere']&body['servere']&dizz['servere']&lossOFappetite['servere']&MP['moderate'],conclusion['very servere'])\n",
        "\n",
        "\n",
        "conclusio_ctrl = crtl.ControlSystem([rule1,rule2,rule3,rule4,rule5,rule6,rule7,rule8,rule9,rule10,rule11,rule12,rule13,rule14,rule15,rule16,rule17,rule18,rule19,rule20])\n",
        "conclusio = crtl.ControlSystemSimulation(conclusio_ctrl)\n",
        "conclusio.input['fever'] = 0.2\n",
        "conclusio.input['headache'] = 0.2\n",
        "conclusio.input['nausea'] = 0.2\n",
        "conclusio.input['vomiting'] = 0.2\n",
        "conclusio.input['jaundice'] = 0.2\n",
        "conclusio.input['enlarge'] = 0.15\n",
        "conclusio.input['joint'] = 0.3\n",
        "conclusio.input['body'] = 0.2\n",
        "conclusio.input['dizz'] = 0.7\n",
        "conclusio.input['lossOFappetite'] = 0.3\n",
        "conclusio.input['MP'] = 0.4\n",
        "\n",
        "conclusio.compute()\n",
        "print(conclusio.output['conclusion'])\n",
        "conclusion.view(sim=conclusio)\n"
      ],
      "metadata": {
        "colab": {
          "base_uri": "https://localhost:8080/",
          "height": 299
        },
        "id": "EZszpjOe4QZA",
        "outputId": "f1631457-792c-42f3-9179-0524b3c92d06"
      },
      "execution_count": 13,
      "outputs": [
        {
          "output_type": "stream",
          "name": "stdout",
          "text": [
            "0.1\n"
          ]
        },
        {
          "output_type": "display_data",
          "data": {
            "text/plain": [
              "<Figure size 432x288 with 1 Axes>"
            ],
            "image/png": "[encoded data removed]"
          },
          "metadata": {
            "needs_background": "light"
          }
        }
      ]
    },
    {
      "cell_type": "code",
      "source": [],
      "metadata": {
        "id": "caifMbqFE6ho"
      },
      "execution_count": null,
      "outputs": []
    }
  ]
}
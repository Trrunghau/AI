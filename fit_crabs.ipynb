{
  "nbformat": 4,
  "nbformat_minor": 0,
  "metadata": {
    "colab": {
      "provenance": [],
      "authorship_tag": "ABX9TyNDFvZr908vyRAM7O9SG/3D",
      "include_colab_link": true
    },
    "kernelspec": {
      "name": "python3",
      "display_name": "Python 3"
    },
    "language_info": {
      "name": "python"
    }
  },
  "cells": [
    {
      "cell_type": "markdown",
      "metadata": {
        "id": "view-in-github",
        "colab_type": "text"
      },
      "source": [
        "<a href=\"https://colab.research.google.com/github/Trrunghau/Trrunghau/blob/homework/fit_crabs.ipynb\" target=\"_parent\"><img src=\"https://colab.research.google.com/assets/colab-badge.svg\" alt=\"Open In Colab\"/></a>"
      ]
    },
    {
      "cell_type": "code",
      "execution_count": 26,
      "metadata": {
        "colab": {
          "base_uri": "https://localhost:8080/"
        },
        "id": "cKYW8CMn_3_5",
        "outputId": "535afda7-d107-4cd0-9e8c-e84c654ae824"
      },
      "outputs": [
        {
          "output_type": "stream",
          "name": "stdout",
          "text": [
            "     speies  sex  index  fontallip  rearwidth  length  width  depth\n",
            "0         1    0      1        8.1        6.7    16.1   19.0    7.0\n",
            "1         1    0      2        8.8        7.7    18.1   20.8    7.4\n",
            "2         1    0      3        9.2        7.8    19.0   22.4    7.7\n",
            "3         1    0      4        9.6        7.9    20.1   23.1    8.2\n",
            "4         1    0      5        9.8        8.0    20.3   23.0    8.2\n",
            "..      ...  ...    ...        ...        ...     ...    ...    ...\n",
            "195       0    1     46       21.4       18.0    41.2   46.2   18.7\n",
            "196       0    1     47       21.7       17.1    41.7   47.2   19.6\n",
            "197       0    1     48       21.9       17.2    42.6   47.4   19.5\n",
            "198       0    1     49       22.5       17.2    43.0   48.7   19.8\n",
            "199       0    1     50       23.1       20.2    46.2   52.5   21.1\n",
            "\n",
            "[200 rows x 8 columns]\n",
            "0    1\n",
            "1    1\n",
            "2    1\n",
            "3    1\n",
            "4    1\n",
            "Name: speies, dtype: int64\n"
          ]
        }
      ],
      "source": [
        "from sklearn.linear_model import Perceptron\n",
        "from sklearn.model_selection import train_test_split    # dữ liệu để train thì k dùng đẻ test\n",
        "from sklearn.metrics import accuracy_score\n",
        "from sklearn.preprocessing import StandardScaler    # để dữ liệu đều nhau\n",
        "\n",
        "from pandas.compat import platform\n",
        "import pandas as pd\n",
        "url = 'crabs.csv'\n",
        "dulieu = pd.read_csv(url)\n",
        "data=dulieu.replace([\"O\",\"B\",\"M\",\"F\"],[0,1,0,1])\n",
        "X = data.groupby(['sex','index','fontallip','rearwidth','length','width','depth']).head(20)\n",
        "y = data.speies\n",
        "print(X)\n",
        "print(y[:5])\n",
        "\n"
      ]
    },
    {
      "cell_type": "code",
      "source": [
        "X_train,X_test,y_train,y_test = train_test_split(X,y,test_size=0.3)\n",
        "sc = StandardScaler()\n",
        "sc.fit(X_train)\n",
        "X_train_std = sc.transform(X_train)\n",
        "X_test_std = sc.transform(X_test)\n",
        "print(X_train_std[:5],X_train[:5])\n",
        "print(y[:5])"
      ],
      "metadata": {
        "colab": {
          "base_uri": "https://localhost:8080/"
        },
        "id": "ACABw6KRBGYZ",
        "outputId": "de9f4e69-e17e-4929-a806-9abcef1576e7"
      },
      "execution_count": 27,
      "outputs": [
        {
          "output_type": "stream",
          "name": "stdout",
          "text": [
            "[[-0.90453403 -0.98581488 -0.32322429 -0.19146705 -0.52330804 -0.21186692\n",
            "  -0.33874608 -0.10042692]\n",
            " [ 1.1055416  -0.98581488 -1.55176912 -1.85098205 -1.95755971 -1.86357629\n",
            "  -1.79602724 -1.87941801]\n",
            " [-0.90453403 -0.98581488 -0.11846682  0.11793406 -0.40701737 -0.01754817\n",
            "  -0.17543009  0.12912032]\n",
            " [ 1.1055416  -0.98581488 -0.93749671 -0.97903349 -0.71712583 -0.78094326\n",
            "  -0.6528153  -0.81776204]\n",
            " [-0.90453403  1.01438923  1.45134046  1.66493957  1.64745124  1.28716343\n",
            "   1.31953937  1.53509715]]      speies  sex  index  fontallip  rearwidth  length  width  depth\n",
            "120       0    0     21       15.1       11.5    30.9   34.0   13.9\n",
            "2         1    0      3        9.2        7.8    19.0   22.4    7.7\n",
            "123       0    0     24       16.2       11.8    32.3   35.3   14.7\n",
            "11        1    0     12       12.3       11.0    26.8   31.5   11.4\n",
            "196       0    1     47       21.7       17.1    41.7   47.2   19.6\n",
            "0    1\n",
            "1    1\n",
            "2    1\n",
            "3    1\n",
            "4    1\n",
            "Name: speies, dtype: int64\n"
          ]
        }
      ]
    },
    {
      "cell_type": "code",
      "source": [
        "model = Perceptron(max_iter = 100,eta0 = 0.1,random_state = 0)\n",
        "model.fit(X_train_std,y_train)\n",
        "y_pred = model.predict(X_test_std)\n",
        "print(y_pred)\n",
        "print(y_test)\n",
        "print('độ chính xác',accuracy_score(y_test,y_pred))"
      ],
      "metadata": {
        "colab": {
          "base_uri": "https://localhost:8080/"
        },
        "id": "_tSV3tiDEth-",
        "outputId": "6e6afda0-eb54-442b-c8e5-ad57bdac5a02"
      },
      "execution_count": 28,
      "outputs": [
        {
          "output_type": "stream",
          "name": "stdout",
          "text": [
            "[1 0 1 1 0 0 1 1 1 0 1 1 0 0 0 0 1 1 1 1 1 1 0 0 1 0 1 0 1 1 0 0 1 1 1 0 0\n",
            " 1 1 1 1 1 0 1 1 0 1 1 1 1 0 1 0 1 1 0 1 1 0 0]\n",
            "89     1\n",
            "133    0\n",
            "23     1\n",
            "80     1\n",
            "193    0\n",
            "186    0\n",
            "66     1\n",
            "50     1\n",
            "48     1\n",
            "161    0\n",
            "25     1\n",
            "26     1\n",
            "137    0\n",
            "165    0\n",
            "130    0\n",
            "178    0\n",
            "45     1\n",
            "54     1\n",
            "52     1\n",
            "79     1\n",
            "12     1\n",
            "91     1\n",
            "109    0\n",
            "119    0\n",
            "63     1\n",
            "154    0\n",
            "77     1\n",
            "115    0\n",
            "8      1\n",
            "87     1\n",
            "101    0\n",
            "157    0\n",
            "92     1\n",
            "46     1\n",
            "30     1\n",
            "180    0\n",
            "183    0\n",
            "38     1\n",
            "83     1\n",
            "13     1\n",
            "22     1\n",
            "74     1\n",
            "144    0\n",
            "0      1\n",
            "28     1\n",
            "103    0\n",
            "61     1\n",
            "20     1\n",
            "3      1\n",
            "76     1\n",
            "175    0\n",
            "10     1\n",
            "166    0\n",
            "14     1\n",
            "81     1\n",
            "139    0\n",
            "41     1\n",
            "98     1\n",
            "167    0\n",
            "187    0\n",
            "Name: speies, dtype: int64\n",
            "độ chính xác 1.0\n"
          ]
        }
      ]
    },
    {
      "cell_type": "code",
      "source": [],
      "metadata": {
        "id": "uFAGyV52IhiJ"
      },
      "execution_count": null,
      "outputs": []
    }
  ]
}
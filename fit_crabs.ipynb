{
  "nbformat": 4,
  "nbformat_minor": 0,
  "metadata": {
    "colab": {
      "provenance": [],
      "authorship_tag": "ABX9TyPj+rPSCamsIQrP3hn4WBxF",
      "include_colab_link": true
    },
    "kernelspec": {
      "name": "python3",
      "display_name": "Python 3"
    },
    "language_info": {
      "name": "python"
    }
  },
  "cells": [
    {
      "cell_type": "markdown",
      "metadata": {
        "id": "view-in-github",
        "colab_type": "text"
      },
      "source": [
        "<a href=\"https://colab.research.google.com/github/Trrunghau/Trrunghau/blob/homework/fit_crabs.ipynb\" target=\"_parent\"><img src=\"https://colab.research.google.com/assets/colab-badge.svg\" alt=\"Open In Colab\"/></a>"
      ]
    },
    {
      "cell_type": "code",
      "execution_count": 4,
      "metadata": {
        "colab": {
          "base_uri": "https://localhost:8080/"
        },
        "id": "cKYW8CMn_3_5",
        "outputId": "64079b6e-25cf-4c00-b7f1-d762c5407f15"
      },
      "outputs": [
        {
          "output_type": "stream",
          "name": "stdout",
          "text": [
            "     sex  index  fontallip  rearwidth  length  width  depth\n",
            "0      0      1        8.1        6.7    16.1   19.0    7.0\n",
            "1      0      2        8.8        7.7    18.1   20.8    7.4\n",
            "2      0      3        9.2        7.8    19.0   22.4    7.7\n",
            "3      0      4        9.6        7.9    20.1   23.1    8.2\n",
            "4      0      5        9.8        8.0    20.3   23.0    8.2\n",
            "..   ...    ...        ...        ...     ...    ...    ...\n",
            "195    1     46       21.4       18.0    41.2   46.2   18.7\n",
            "196    1     47       21.7       17.1    41.7   47.2   19.6\n",
            "197    1     48       21.9       17.2    42.6   47.4   19.5\n",
            "198    1     49       22.5       17.2    43.0   48.7   19.8\n",
            "199    1     50       23.1       20.2    46.2   52.5   21.1\n",
            "\n",
            "[200 rows x 7 columns]\n",
            "0    1\n",
            "1    1\n",
            "2    1\n",
            "3    1\n",
            "4    1\n",
            "Name: speies, dtype: int64\n"
          ]
        }
      ],
      "source": [
        "from sklearn.linear_model import Perceptron\n",
        "from sklearn.model_selection import train_test_split    # dữ liệu để train thì k dùng đẻ test\n",
        "from sklearn.metrics import accuracy_score\n",
        "from sklearn.preprocessing import StandardScaler    # để dữ liệu đều nhau\n",
        "\n",
        "from pandas.compat import platform\n",
        "import pandas as pd\n",
        "url = 'crabs.csv'\n",
        "dulieu = pd.read_csv(url)\n",
        "data=dulieu.replace([\"O\",\"B\",\"M\",\"F\"],[0,1,0,1])\n",
        "X = data.drop(data.columns[0],axis=1)\n",
        "y = data.speies\n",
        "print(X)\n",
        "print(y[:5])\n",
        "\n"
      ]
    },
    {
      "cell_type": "code",
      "source": [
        "X_train,X_test,y_train,y_test = train_test_split(X,y,test_size=0.3)\n",
        "sc = StandardScaler()\n",
        "sc.fit(X_train)\n",
        "X_train_std = sc.transform(X_train)\n",
        "X_test_std = sc.transform(X_test)\n",
        "print(X_train_std[:5],X_train[:5])\n",
        "print(y[:5])"
      ],
      "metadata": {
        "colab": {
          "base_uri": "https://localhost:8080/"
        },
        "id": "ACABw6KRBGYZ",
        "outputId": "c9ff978d-47bb-472c-e79c-ca85f86225df"
      },
      "execution_count": 7,
      "outputs": [
        {
          "output_type": "stream",
          "name": "stdout",
          "text": [
            "[[ 0.94440028 -1.16682745 -0.30265197  0.14895449 -0.38487272 -0.41439433\n",
            "  -0.37435018]\n",
            " [ 0.94440028 -0.05556321 -0.76635951 -0.53941772 -0.67041686 -0.51792359\n",
            "  -0.90913614]\n",
            " [ 0.94440028 -0.40283329 -0.91126811 -0.25597034 -0.88457497 -0.64733516\n",
            "  -0.87942581]\n",
            " [-1.05887304 -0.95846541 -0.4765423  -0.98483503 -0.48481317 -0.62145284\n",
            "  -0.19608819]\n",
            " [-1.05887304 -0.4722873  -0.30265197 -0.70138765 -0.47053596 -0.58262937\n",
            "  -0.31492951]]      sex  index  fontallip  rearwidth  length  width  depth\n",
            "158    1      9       14.7       13.2    29.6   33.4   12.9\n",
            "74     1     25       13.1       11.5    27.6   32.6   11.1\n",
            "69     1     20       12.6       12.2    26.1   31.6   11.2\n",
            "111    0     12       14.1       10.4    28.9   31.8   13.5\n",
            "118    0     19       14.7       11.1    29.0   32.1   13.1\n",
            "0    1\n",
            "1    1\n",
            "2    1\n",
            "3    1\n",
            "4    1\n",
            "Name: speies, dtype: int64\n"
          ]
        }
      ]
    },
    {
      "cell_type": "code",
      "source": [
        "model = Perceptron(max_iter = 100,eta0 = 0.1,random_state = 0)\n",
        "model.fit(X_train_std,y_train)\n",
        "y_pred = model.predict(X_test_std)\n",
        "print(y_pred)\n",
        "print(y_test)\n",
        "print('độ chính xác',accuracy_score(y_test,y_pred))"
      ],
      "metadata": {
        "colab": {
          "base_uri": "https://localhost:8080/"
        },
        "id": "_tSV3tiDEth-",
        "outputId": "3bbd04df-eb57-4965-9513-d0077c7fac82"
      },
      "execution_count": 8,
      "outputs": [
        {
          "output_type": "stream",
          "name": "stdout",
          "text": [
            "[1 1 0 0 0 1 0 1 0 0 1 1 1 0 1 1 1 1 1 1 1 1 0 1 1 1 0 1 1 0 1 0 1 1 1 1 1\n",
            " 0 0 1 1 0 0 1 1 0 0 0 1 0 1 1 1 0 0 1 0 1 0 0]\n",
            "30     1\n",
            "99     1\n",
            "170    0\n",
            "116    0\n",
            "146    0\n",
            "57     1\n",
            "137    0\n",
            "41     1\n",
            "182    0\n",
            "147    0\n",
            "40     1\n",
            "7      1\n",
            "12     1\n",
            "188    0\n",
            "17     1\n",
            "96     1\n",
            "85     1\n",
            "98     1\n",
            "62     1\n",
            "9      1\n",
            "4      1\n",
            "28     1\n",
            "183    0\n",
            "53     1\n",
            "72     1\n",
            "46     1\n",
            "103    0\n",
            "27     1\n",
            "23     1\n",
            "199    0\n",
            "71     1\n",
            "164    0\n",
            "54     1\n",
            "14     1\n",
            "61     1\n",
            "5      1\n",
            "77     1\n",
            "108    0\n",
            "125    0\n",
            "18     1\n",
            "86     1\n",
            "148    0\n",
            "105    0\n",
            "67     1\n",
            "97     1\n",
            "114    0\n",
            "128    0\n",
            "138    0\n",
            "10     1\n",
            "119    0\n",
            "55     1\n",
            "79     1\n",
            "20     1\n",
            "132    0\n",
            "113    0\n",
            "100    0\n",
            "179    0\n",
            "26     1\n",
            "178    0\n",
            "160    0\n",
            "Name: speies, dtype: int64\n",
            "độ chính xác 0.9833333333333333\n"
          ]
        }
      ]
    },
    {
      "cell_type": "code",
      "source": [],
      "metadata": {
        "id": "uFAGyV52IhiJ"
      },
      "execution_count": null,
      "outputs": []
    }
  ]
}
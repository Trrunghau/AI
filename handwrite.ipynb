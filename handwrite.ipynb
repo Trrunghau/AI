{
  "nbformat": 4,
  "nbformat_minor": 0,
  "metadata": {
    "colab": {
      "provenance": [],
      "authorship_tag": "ABX9TyN++ng/Q1/0EkUt80d901yS",
      "include_colab_link": true
    },
    "kernelspec": {
      "name": "python3",
      "display_name": "Python 3"
    },
    "language_info": {
      "name": "python"
    }
  },
  "cells": [
    {
      "cell_type": "markdown",
      "metadata": {
        "id": "view-in-github",
        "colab_type": "text"
      },
      "source": [
        "<a href=\"https://colab.research.google.com/github/Trrunghau/Trrunghau/blob/homework/handwrite.ipynb\" target=\"_parent\"><img src=\"https://colab.research.google.com/assets/colab-badge.svg\" alt=\"Open In Colab\"/></a>"
      ]
    },
    {
      "cell_type": "code",
      "execution_count": 94,
      "metadata": {
        "id": "RjFzL4NplPcF"
      },
      "outputs": [],
      "source": [
        "from keras.datasets import mnist\n",
        "(train_images,train_labels),(test_images,test_labels)=mnist.load_data()"
      ]
    },
    {
      "cell_type": "code",
      "source": [
        "hinh = train_images[150]\n",
        "import matplotlib.pyplot as plt\n",
        "\n",
        "plt.imshow(hinh,cmap = plt.cm.binary)\n",
        "plt.show\n",
        "print('..',train_labels[150])\n"
      ],
      "metadata": {
        "colab": {
          "base_uri": "https://localhost:8080/",
          "height": 282
        },
        "id": "asUuw428pCCR",
        "outputId": "bc71f22d-5498-4c1e-a1b2-e68e771fc457"
      },
      "execution_count": 95,
      "outputs": [
        {
          "output_type": "stream",
          "name": "stdout",
          "text": [
            ".. 4\n"
          ]
        },
        {
          "output_type": "display_data",
          "data": {
            "text/plain": [
              "<Figure size 432x288 with 1 Axes>"
            ],
            "image/png": "[encoded data removed]"
          },
          "metadata": {
            "needs_background": "light"
          }
        }
      ]
    },
    {
      "cell_type": "code",
      "source": [
        "for i in range(15):\n",
        "  plt.subplot(3,5,i+1)\n",
        "  plt.tight_layout()\n",
        "  plt.imshow(train_images[i],cmap='gray',interpolation='none')\n",
        "  plt.title('so:{}'.format(train_labels[i]))\n",
        "  plt.xticks\n",
        "  plt.yticks([])"
      ],
      "metadata": {
        "colab": {
          "base_uri": "https://localhost:8080/",
          "height": 297
        },
        "id": "76Qi3RmerRnp",
        "outputId": "06ff4be4-65e0-4b41-9c74-754446ce7ca2"
      },
      "execution_count": 96,
      "outputs": [
        {
          "output_type": "display_data",
          "data": {
            "text/plain": [
              "<Figure size 432x288 with 15 Axes>"
            ],
            "image/png": "[encoded data removed]"
          },
          "metadata": {
            "needs_background": "light"
          }
        }
      ]
    },
    {
      "cell_type": "code",
      "source": [
        "from keras import models\n",
        "from keras.layers import Dense"
      ],
      "metadata": {
        "id": "bLa1WpeNsTbR"
      },
      "execution_count": 97,
      "outputs": []
    },
    {
      "cell_type": "code",
      "source": [
        "from keras.models.cloning import Sequential\n",
        "\n",
        "model=Sequential()\n",
        "model.add(Dense(512,activation='relu',input_shape = (28*28,),name='layout1'))\n",
        "model.add(Dense(10,activation='softmax',name='layoutN'))  # 10 layout\n",
        "model.summary()"
      ],
      "metadata": {
        "colab": {
          "base_uri": "https://localhost:8080/"
        },
        "id": "rkeQ4Mv3tgFX",
        "outputId": "97b0de31-c4cd-4923-fc55-a2f4749ed75b"
      },
      "execution_count": 98,
      "outputs": [
        {
          "output_type": "stream",
          "name": "stdout",
          "text": [
            "Model: \"sequential_1\"\n",
            "_________________________________________________________________\n",
            " Layer (type)                Output Shape              Param #   \n",
            "=================================================================\n",
            " layout1 (Dense)             (None, 512)               401920    \n",
            "                                                                 \n",
            " layoutN (Dense)             (None, 10)                5130      \n",
            "                                                                 \n",
            "=================================================================\n",
            "Total params: 407,050\n",
            "Trainable params: 407,050\n",
            "Non-trainable params: 0\n",
            "_________________________________________________________________\n"
          ]
        }
      ]
    },
    {
      "cell_type": "code",
      "source": [
        "train_images=train_images.reshape((60000,28*28)) # đổi đầu vào thành 1 dãy\n",
        "train_images=train_images.astype('float32')/255 # đổi kiểu int sang float\n",
        "test_images=test_images.reshape((10000,28*28))\n",
        "test_images=test_images.astype('float32')/255\n",
        "\n",
        "from keras.utils import to_categorical  # chuyển output sang số 1 nổi, 1 lần  \n",
        "train_labels = to_categorical(train_labels,10)\n",
        "test_labels = to_categorical(test_labels,10)"
      ],
      "metadata": {
        "id": "5N-qfbkLwUL6"
      },
      "execution_count": 99,
      "outputs": []
    },
    {
      "cell_type": "code",
      "source": [
        "model.compile(optimizer='rmsprop',loss='categorical_crossentropy',metrics= ['accuracy'])\n",
        "model.fit(train_images,train_labels,epochs=10,batch_size=128)\n",
        "test_loss,test_acc=model.evaluate(test_images,test_labels)\n",
        "print('độ chính xác:',test_acc)\n",
        "print('hàm mất mát',test_loss)"
      ],
      "metadata": {
        "colab": {
          "base_uri": "https://localhost:8080/"
        },
        "id": "ZWEshEUQzMZH",
        "outputId": "86b6732f-32c2-4669-8198-c4dce6999d40"
      },
      "execution_count": 100,
      "outputs": [
        {
          "output_type": "stream",
          "name": "stdout",
          "text": [
            "Epoch 1/10\n",
            "469/469 [==============================] - 6s 12ms/step - loss: 0.2676 - accuracy: 0.9235\n",
            "Epoch 2/10\n",
            "469/469 [==============================] - 5s 12ms/step - loss: 0.1084 - accuracy: 0.9682\n",
            "Epoch 3/10\n",
            "469/469 [==============================] - 5s 12ms/step - loss: 0.0715 - accuracy: 0.9790\n",
            "Epoch 4/10\n",
            "469/469 [==============================] - 5s 10ms/step - loss: 0.0514 - accuracy: 0.9845\n",
            "Epoch 5/10\n",
            "469/469 [==============================] - 6s 12ms/step - loss: 0.0384 - accuracy: 0.9886\n",
            "Epoch 6/10\n",
            "469/469 [==============================] - 5s 10ms/step - loss: 0.0282 - accuracy: 0.9915\n",
            "Epoch 7/10\n",
            "469/469 [==============================] - 5s 11ms/step - loss: 0.0218 - accuracy: 0.9940\n",
            "Epoch 8/10\n",
            "469/469 [==============================] - 5s 10ms/step - loss: 0.0172 - accuracy: 0.9952\n",
            "Epoch 9/10\n",
            "469/469 [==============================] - 4s 9ms/step - loss: 0.0129 - accuracy: 0.9967\n",
            "Epoch 10/10\n",
            "469/469 [==============================] - 6s 13ms/step - loss: 0.0094 - accuracy: 0.9976\n",
            "313/313 [==============================] - 1s 3ms/step - loss: 0.0600 - accuracy: 0.9833\n",
            "độ chính xác: 0.983299970626831\n",
            "hàm mất mát 0.05999981611967087\n"
          ]
        }
      ]
    },
    {
      "cell_type": "code",
      "source": [
        "model.save('model1.h5')"
      ],
      "metadata": {
        "id": "KO9wmsvC1Tp8"
      },
      "execution_count": 101,
      "outputs": []
    },
    {
      "cell_type": "code",
      "source": [
        "from keras.models import load_model\n",
        "model11 = load_model('model1.h5')\n",
        "model11.summary()\n",
        "print(model11.predict([test_images]))\n"
      ],
      "metadata": {
        "colab": {
          "base_uri": "https://localhost:8080/"
        },
        "id": "WvqnlP857yll",
        "outputId": "93e3234b-9775-44a5-82f1-3a483980a9ff"
      },
      "execution_count": 102,
      "outputs": [
        {
          "output_type": "stream",
          "name": "stdout",
          "text": [
            "Model: \"sequential_1\"\n",
            "_________________________________________________________________\n",
            " Layer (type)                Output Shape              Param #   \n",
            "=================================================================\n",
            " layout1 (Dense)             (None, 512)               401920    \n",
            "                                                                 \n",
            " layoutN (Dense)             (None, 10)                5130      \n",
            "                                                                 \n",
            "=================================================================\n",
            "Total params: 407,050\n",
            "Trainable params: 407,050\n",
            "Non-trainable params: 0\n",
            "_________________________________________________________________\n",
            "313/313 [==============================] - 1s 3ms/step\n",
            "[[1.2778486e-09 1.1976552e-10 4.5401613e-08 ... 9.9999279e-01\n",
            "  8.0714777e-09 1.6928600e-07]\n",
            " [7.3252399e-10 4.1047361e-08 9.9999994e-01 ... 2.2165367e-19\n",
            "  2.0863766e-09 1.8254326e-17]\n",
            " [4.8595282e-08 9.9974012e-01 5.3359396e-05 ... 4.1978901e-06\n",
            "  1.9321007e-04 1.4069821e-08]\n",
            " ...\n",
            " [1.4886528e-17 3.2979163e-14 3.0972147e-17 ... 5.4992894e-10\n",
            "  7.4752460e-10 2.5496863e-07]\n",
            " [7.9171600e-11 1.6149655e-13 3.2577018e-12 ... 2.1403929e-12\n",
            "  2.1538281e-06 1.2348896e-14]\n",
            " [4.8302135e-10 3.5540685e-15 3.0834085e-11 ... 8.8326425e-17\n",
            "  2.1341310e-13 9.0156818e-14]]\n"
          ]
        }
      ]
    },
    {
      "cell_type": "code",
      "source": [
        "plt.imshow(test_images[1].reshape(28,28), cmap='gray')\n",
        "import numpy as np\n",
        "y_predict = model11.predict(test_images[1].reshape(1,28*28))\n",
        "print('Giá trị dự đoán: ', np.argmax(y_predict))"
      ],
      "metadata": {
        "colab": {
          "base_uri": "https://localhost:8080/",
          "height": 300
        },
        "id": "vnSwoKrFtZ4r",
        "outputId": "8d2303df-363c-482a-da64-750a03eaf666"
      },
      "execution_count": 103,
      "outputs": [
        {
          "output_type": "stream",
          "name": "stdout",
          "text": [
            "1/1 [==============================] - 0s 87ms/step\n",
            "Giá trị dự đoán:  2\n"
          ]
        },
        {
          "output_type": "display_data",
          "data": {
            "text/plain": [
              "<Figure size 432x288 with 1 Axes>"
            ],
            "image/png": "[encoded data removed]"
          },
          "metadata": {
            "needs_background": "light"
          }
        }
      ]
    },
    {
      "cell_type": "code",
      "source": [],
      "metadata": {
        "id": "AymaW6YzstzF"
      },
      "execution_count": null,
      "outputs": []
    }
  ]
}
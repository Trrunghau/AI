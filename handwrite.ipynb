{
  "nbformat": 4,
  "nbformat_minor": 0,
  "metadata": {
    "colab": {
      "provenance": [],
      "authorship_tag": "ABX9TyPxF3mpgINC0cenMk+ZQxIX",
      "include_colab_link": true
    },
    "kernelspec": {
      "name": "python3",
      "display_name": "Python 3"
    },
    "language_info": {
      "name": "python"
    }
  },
  "cells": [
    {
      "cell_type": "markdown",
      "metadata": {
        "id": "view-in-github",
        "colab_type": "text"
      },
      "source": [
        "<a href=\"https://colab.research.google.com/github/Trrunghau/AI/blob/week9/handwrite.ipynb\" target=\"_parent\"><img src=\"https://colab.research.google.com/assets/colab-badge.svg\" alt=\"Open In Colab\"/></a>"
      ]
    },
    {
      "cell_type": "code",
      "execution_count": 21,
      "metadata": {
        "id": "RjFzL4NplPcF"
      },
      "outputs": [],
      "source": [
        "from keras.datasets import mnist\n",
        "(train_images,train_labels),(test_images,test_labels)=mnist.load_data()"
      ]
    },
    {
      "cell_type": "code",
      "source": [
        "hinh = train_images[150]\n",
        "import matplotlib.pyplot as plt\n",
        "\n",
        "plt.imshow(hinh,cmap = plt.cm.binary)\n",
        "plt.show\n",
        "print('..',train_labels[150])\n"
      ],
      "metadata": {
        "colab": {
          "base_uri": "https://localhost:8080/",
          "height": 282
        },
        "id": "asUuw428pCCR",
        "outputId": "c1db7a00-a18a-4d5c-e703-0403f5492261"
      },
      "execution_count": 22,
      "outputs": [
        {
          "output_type": "stream",
          "name": "stdout",
          "text": [
            ".. 4\n"
          ]
        },
        {
          "output_type": "display_data",
          "data": {
            "text/plain": [
              "<Figure size 432x288 with 1 Axes>"
            ],
            "image/png": "[encoded data removed]"
          },
          "metadata": {
            "needs_background": "light"
          }
        }
      ]
    },
    {
      "cell_type": "code",
      "source": [
        "for i in range(15):\n",
        "  plt.subplot(3,5,i+1)\n",
        "  plt.tight_layout()\n",
        "  plt.imshow(train_images[i],cmap='gray',interpolation='none')\n",
        "  plt.title('so:{}'.format(train_labels[i]))\n",
        "  plt.xticks\n",
        "  plt.yticks([])"
      ],
      "metadata": {
        "colab": {
          "base_uri": "https://localhost:8080/",
          "height": 297
        },
        "id": "76Qi3RmerRnp",
        "outputId": "7fa98146-102f-481e-f744-ac713338019f"
      },
      "execution_count": 23,
      "outputs": [
        {
          "output_type": "display_data",
          "data": {
            "text/plain": [
              "<Figure size 432x288 with 15 Axes>"
            ],
            "image/png": "[encoded data removed]"
          },
          "metadata": {
            "needs_background": "light"
          }
        }
      ]
    },
    {
      "cell_type": "code",
      "source": [
        "from keras import models\n",
        "from keras.layers import Dense"
      ],
      "metadata": {
        "id": "bLa1WpeNsTbR"
      },
      "execution_count": 24,
      "outputs": []
    },
    {
      "cell_type": "code",
      "source": [
        "from keras.models.cloning import Sequential\n",
        "\n",
        "model=Sequential()\n",
        "model.add(Dense(512,activation='relu',input_shape = (28*28,),name='layout1'))\n",
        "model.add(Dense(10,activation='softmax',name='layoutN'))  # 10 layout\n",
        "model.summary()"
      ],
      "metadata": {
        "colab": {
          "base_uri": "https://localhost:8080/"
        },
        "id": "rkeQ4Mv3tgFX",
        "outputId": "b96b9b68-69c9-4c16-d1c7-be9ae750fa30"
      },
      "execution_count": 25,
      "outputs": [
        {
          "output_type": "stream",
          "name": "stdout",
          "text": [
            "Model: \"sequential_1\"\n",
            "_________________________________________________________________\n",
            " Layer (type)                Output Shape              Param #   \n",
            "=================================================================\n",
            " layout1 (Dense)             (None, 512)               401920    \n",
            "                                                                 \n",
            " layoutN (Dense)             (None, 10)                5130      \n",
            "                                                                 \n",
            "=================================================================\n",
            "Total params: 407,050\n",
            "Trainable params: 407,050\n",
            "Non-trainable params: 0\n",
            "_________________________________________________________________\n"
          ]
        }
      ]
    },
    {
      "cell_type": "code",
      "source": [
        "train_images=train_images.reshape((60000,28*28)) # đổi đầu vào thành 1 dãy\n",
        "train_images=train_images.astype('float32')/255 # đổi kiểu int sang float\n",
        "test_images=test_images.reshape((10000,28*28))\n",
        "test_images=test_images.astype('float32')/255\n",
        "\n",
        "from keras.utils import to_categorical  # chuyển output sang số 1 nổi, 1 lần  \n",
        "train_labels = to_categorical(train_labels,10)\n",
        "test_labels = to_categorical(test_labels,10)"
      ],
      "metadata": {
        "id": "5N-qfbkLwUL6"
      },
      "execution_count": 26,
      "outputs": []
    },
    {
      "cell_type": "code",
      "source": [
        "model.compile(optimizer='rmsprop',loss='categorical_crossentropy',metrics= ['accuracy'])\n",
        "model.fit(train_images,train_labels,epochs=10,batch_size=128)\n",
        "test_loss,test_acc=model.evaluate(test_images,test_labels)\n",
        "print('độ chính xác:',test_acc)\n",
        "print('hàm mất mát',test_loss)"
      ],
      "metadata": {
        "colab": {
          "base_uri": "https://localhost:8080/"
        },
        "id": "ZWEshEUQzMZH",
        "outputId": "5fc2ab59-08ed-4f18-b11e-7de1e29295ba"
      },
      "execution_count": 27,
      "outputs": [
        {
          "output_type": "stream",
          "name": "stdout",
          "text": [
            "Epoch 1/10\n",
            "469/469 [==============================] - 6s 11ms/step - loss: 0.2635 - accuracy: 0.9236\n",
            "Epoch 2/10\n",
            "469/469 [==============================] - 4s 9ms/step - loss: 0.1060 - accuracy: 0.9693\n",
            "Epoch 3/10\n",
            "469/469 [==============================] - 4s 8ms/step - loss: 0.0691 - accuracy: 0.9792\n",
            "Epoch 4/10\n",
            "469/469 [==============================] - 3s 7ms/step - loss: 0.0501 - accuracy: 0.9853\n",
            "Epoch 5/10\n",
            "469/469 [==============================] - 4s 7ms/step - loss: 0.0377 - accuracy: 0.9891\n",
            "Epoch 6/10\n",
            "469/469 [==============================] - 5s 10ms/step - loss: 0.0280 - accuracy: 0.9918\n",
            "Epoch 7/10\n",
            "469/469 [==============================] - 3s 7ms/step - loss: 0.0216 - accuracy: 0.9938\n",
            "Epoch 8/10\n",
            "469/469 [==============================] - 3s 7ms/step - loss: 0.0161 - accuracy: 0.9958\n",
            "Epoch 9/10\n",
            "469/469 [==============================] - 5s 10ms/step - loss: 0.0120 - accuracy: 0.9972\n",
            "Epoch 10/10\n",
            "469/469 [==============================] - 3s 7ms/step - loss: 0.0085 - accuracy: 0.9980\n",
            "313/313 [==============================] - 1s 2ms/step - loss: 0.0605 - accuracy: 0.9825\n",
            "độ chính xác: 0.9825000166893005\n",
            "hàm mất mát 0.060529906302690506\n"
          ]
        }
      ]
    },
    {
      "cell_type": "code",
      "source": [
        "model.save('MNIST.h5')"
      ],
      "metadata": {
        "id": "KO9wmsvC1Tp8"
      },
      "execution_count": 49,
      "outputs": []
    },
    {
      "cell_type": "code",
      "source": [
        "from keras.models import load_model\n",
        "model11 = load_model('MNIST.h5')\n",
        "model11.summary()\n",
        "print(model11.predict([test_images]))\n"
      ],
      "metadata": {
        "colab": {
          "base_uri": "https://localhost:8080/"
        },
        "id": "WvqnlP857yll",
        "outputId": "ca37802f-638a-4a3d-903d-cb688495f10e"
      },
      "execution_count": 50,
      "outputs": [
        {
          "output_type": "stream",
          "name": "stdout",
          "text": [
            "Model: \"sequential_1\"\n",
            "_________________________________________________________________\n",
            " Layer (type)                Output Shape              Param #   \n",
            "=================================================================\n",
            " layout1 (Dense)             (None, 512)               401920    \n",
            "                                                                 \n",
            " layoutN (Dense)             (None, 10)                5130      \n",
            "                                                                 \n",
            "=================================================================\n",
            "Total params: 407,050\n",
            "Trainable params: 407,050\n",
            "Non-trainable params: 0\n",
            "_________________________________________________________________\n",
            "313/313 [==============================] - 1s 2ms/step\n",
            "[[6.0003131e-09 5.0646501e-12 4.1479982e-08 ... 9.9999958e-01\n",
            "  1.2716523e-09 3.1256612e-08]\n",
            " [9.2636177e-11 5.8613995e-07 9.9999934e-01 ... 9.7577613e-17\n",
            "  3.0855475e-08 1.0539393e-16]\n",
            " [1.3813437e-07 9.9946249e-01 3.0981395e-05 ... 9.1967020e-05\n",
            "  3.9035379e-04 5.5097434e-08]\n",
            " ...\n",
            " [7.2740715e-17 2.1996905e-14 6.1762714e-18 ... 3.3093738e-07\n",
            "  1.9770332e-09 7.6445716e-08]\n",
            " [3.9835024e-11 3.5551407e-13 1.4481626e-15 ... 4.1414362e-11\n",
            "  8.3870617e-07 3.1815523e-14]\n",
            " [6.4670547e-10 8.9485024e-15 2.8938832e-11 ... 4.7594190e-18\n",
            "  3.2314509e-12 1.9557914e-12]]\n"
          ]
        }
      ]
    },
    {
      "cell_type": "code",
      "source": [
        "plt.imshow(test_images[0].reshape(28,28), cmap='gray')\n",
        "import numpy as np\n",
        "y_predict = model11.predict(test_images[0].reshape(1,28*28))\n",
        "print('Giá trị dự đoán: ', np.argmax(y_predict))"
      ],
      "metadata": {
        "colab": {
          "base_uri": "https://localhost:8080/",
          "height": 300
        },
        "id": "vnSwoKrFtZ4r",
        "outputId": "ee0b5e6d-8ddb-435c-ab80-928735584434"
      },
      "execution_count": 51,
      "outputs": [
        {
          "output_type": "stream",
          "name": "stdout",
          "text": [
            "1/1 [==============================] - 0s 44ms/step\n",
            "Giá trị dự đoán:  7\n"
          ]
        },
        {
          "output_type": "display_data",
          "data": {
            "text/plain": [
              "<Figure size 432x288 with 1 Axes>"
            ],
            "image/png": "[encoded data removed]"
          },
          "metadata": {
            "needs_background": "light"
          }
        }
      ]
    },
    {
      "cell_type": "code",
      "source": [
        "from keras.utils import load_img\n",
        "from keras.utils import img_to_array\n",
        "import matplotlib.pyplot as plt\n",
        "import numpy as np\n",
        "\n",
        "img = load_img(r'6.png', target_size=(28,28))\n",
        "img = img.convert('L')\n",
        "plt.imshow(img)"
      ],
      "metadata": {
        "id": "AymaW6YzstzF",
        "outputId": "10779232-357c-4305-fe37-f8ff89bf149b",
        "colab": {
          "base_uri": "https://localhost:8080/",
          "height": 282
        }
      },
      "execution_count": 52,
      "outputs": [
        {
          "output_type": "execute_result",
          "data": {
            "text/plain": [
              "<matplotlib.image.AxesImage at 0x7fdd96442370>"
            ]
          },
          "metadata": {},
          "execution_count": 52
        },
        {
          "output_type": "display_data",
          "data": {
            "text/plain": [
              "<Figure size 432x288 with 1 Axes>"
            ],
            "image/png": "[encoded data removed]"
          },
          "metadata": {
            "needs_background": "light"
          }
        }
      ]
    },
    {
      "cell_type": "code",
      "source": [
        "model1 = load_model('MNIST.h5')\n",
        "img = img_to_array(img)\n",
        "img = img.reshape(1,28*28)\n",
        "img = img.astype('float32') / 255\n",
        "\n",
        "np.argmax(model1.predict(img),axis = -1)\n",
        "\n",
        "#predicted_label = model1.predict(img).argmax()\n",
        "#print(\"{}\".format(predicted_label))"
      ],
      "metadata": {
        "id": "SM5pybEZFK04",
        "outputId": "2d9de022-e55e-4c1c-cd88-b34e61af78b7",
        "colab": {
          "base_uri": "https://localhost:8080/"
        }
      },
      "execution_count": 53,
      "outputs": [
        {
          "output_type": "stream",
          "name": "stdout",
          "text": [
            "1/1 [==============================] - 0s 47ms/step\n"
          ]
        },
        {
          "output_type": "execute_result",
          "data": {
            "text/plain": [
              "array([6])"
            ]
          },
          "metadata": {},
          "execution_count": 53
        }
      ]
    },
    {
      "cell_type": "code",
      "source": [],
      "metadata": {
        "id": "XjNPnLbtFVge"
      },
      "execution_count": null,
      "outputs": []
    }
  ]
}
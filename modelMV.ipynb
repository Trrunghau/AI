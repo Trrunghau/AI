{
  "nbformat": 4,
  "nbformat_minor": 0,
  "metadata": {
    "colab": {
      "provenance": [],
      "mount_file_id": "1jueygeoq0VSJ3hWrUd41p96gPCxZO1pn",
      "authorship_tag": "ABX9TyNNYkf8pXoYeMvTL0lSP941",
      "include_colab_link": true
    },
    "kernelspec": {
      "name": "python3",
      "display_name": "Python 3"
    },
    "language_info": {
      "name": "python"
    }
  },
  "cells": [
    {
      "cell_type": "markdown",
      "metadata": {
        "id": "view-in-github",
        "colab_type": "text"
      },
      "source": [
        "<a href=\"https://colab.research.google.com/github/Trrunghau/AI/blob/main/modelMV.ipynb\" target=\"_parent\"><img src=\"https://colab.research.google.com/assets/colab-badge.svg\" alt=\"Open In Colab\"/></a>"
      ]
    },
    {
      "cell_type": "code",
      "execution_count": 4,
      "metadata": {
        "id": "Ox4RSbmznKeR"
      },
      "outputs": [],
      "source": [
        "# khai báo các thư viện cần sử dụng\n",
        "import tensorflow as tf\n",
        "from tensorflow import keras\n",
        "import numpy as np\n",
        "import matplotlib.pyplot as plt\n",
        "from tensorflow.keras.preprocessing.image import ImageDataGenerator\n",
        "import os\n",
        "from keras.models import Sequential\n",
        "from keras.layers import Dense, Dropout, Conv2D, MaxPooling2D, Flatten, Activation\n",
        "from keras.optimizers import Adam\n",
        "from keras.layers import LeakyReLU\n",
        "from keras.models import load_model\n",
        "from os import listdir\n",
        "from numpy import asarray,save\n",
        "from keras.utils import load_img, img_to_array"
      ]
    },
    {
      "cell_type": "code",
      "source": [
        "### thay doi ti le anh tu 0->255 thanh 0->1\n",
        "train = ImageDataGenerator(rescale =1.0/255.0,rotation_range = 0.2,\n",
        "                                   horizontal_flip = True,\n",
        "                                   vertical_flip = True,\n",
        "                                   zoom_range = 0.2)\n",
        "test = ImageDataGenerator(rescale=1.0/255.0)"
      ],
      "metadata": {
        "id": "DXU99Ieuo6VE"
      },
      "execution_count": 5,
      "outputs": []
    },
    {
      "cell_type": "code",
      "source": [
        "# lấy dữ liệu từ ggdrive\n",
        "train_data = train.flow_from_directory('/content/drive/MyDrive/train2', target_size=(64,64),batch_size = 10, class_mode='categorical')\n",
        "test_data = test.flow_from_directory('/content/drive/MyDrive/test2', target_size=(64,64), class_mode='categorical')"
      ],
      "metadata": {
        "colab": {
          "base_uri": "https://localhost:8080/"
        },
        "id": "yILWpb8do99K",
        "outputId": "004b989d-ee1b-408f-dc26-c1a4dff0bf48"
      },
      "execution_count": 6,
      "outputs": [
        {
          "output_type": "stream",
          "name": "stdout",
          "text": [
            "Found 14861 images belonging to 3 classes.\n",
            "Found 301 images belonging to 3 classes.\n"
          ]
        }
      ]
    },
    {
      "cell_type": "code",
      "source": [
        "# in ra những gì tìm được trong ggdrive\n",
        "print('train_index :', train_data.class_indices)\n",
        "print('test_index:', test_data.class_indices)"
      ],
      "metadata": {
        "colab": {
          "base_uri": "https://localhost:8080/"
        },
        "id": "dPkSuhrapOXD",
        "outputId": "03d4dd7e-761d-4abb-da47-fb4612ea0471"
      },
      "execution_count": 7,
      "outputs": [
        {
          "output_type": "stream",
          "name": "stdout",
          "text": [
            "train_index : {'covid': 0, 'normal': 1, 'pneu': 2}\n",
            "test_index: {'covid': 0, 'normal': 1, 'pneu': 2}\n"
          ]
        }
      ]
    },
    {
      "cell_type": "code",
      "source": [
        "# cấu trúc CNN\n",
        "model = Sequential()\n",
        "model.add(Conv2D(32, kernel_size=(3,3), activation='relu',kernel_initializer='he_uniform', padding='same',  input_shape=(64, 64,3)))\n",
        "model.add(LeakyReLU(alpha = 0.1))\n",
        "model.add(MaxPooling2D(pool_size=(2,2)))\n",
        "\n",
        "model.add(Conv2D(64, kernel_size=(3,3),kernel_initializer='he_uniform', padding='same', activation='relu'))\n",
        "model.add(LeakyReLU(alpha = 0.1))\n",
        "model.add(MaxPooling2D(pool_size=(2,2)))\n",
        "\n",
        "model.add(Conv2D(64, kernel_size=(3,3),kernel_initializer='he_uniform', padding='same', activation='relu'))\n",
        "model.add(LeakyReLU(alpha = 0.1))\n",
        "model.add(MaxPooling2D(pool_size=(2,2)))\n",
        "\n",
        "model.add(Conv2D(32, kernel_size=(3,3),kernel_initializer='he_uniform', padding='same', activation='relu'))\n",
        "model.add(LeakyReLU(alpha = 0.1))\n",
        "model.add(MaxPooling2D(pool_size=(2,2)))\n",
        "\n",
        "model.add(Flatten())\n",
        "model.add(Activation(\"relu\"))\n",
        "model.add(Dense(512))\n",
        "model.add(Dropout(0.4))\n",
        "model.add(Dense(3))\n",
        "model.add(Activation(\"softmax\"))\n",
        "\n",
        "model.summary()"
      ],
      "metadata": {
        "colab": {
          "base_uri": "https://localhost:8080/"
        },
        "id": "Yfz6Tt-opScM",
        "outputId": "6830bcda-e6a0-4079-d226-0cf33c44b6af"
      },
      "execution_count": 8,
      "outputs": [
        {
          "output_type": "stream",
          "name": "stdout",
          "text": [
            "Model: \"sequential\"\n",
            "_________________________________________________________________\n",
            " Layer (type)                Output Shape              Param #   \n",
            "=================================================================\n",
            " conv2d (Conv2D)             (None, 64, 64, 32)        896       \n",
            "                                                                 \n",
            " leaky_re_lu (LeakyReLU)     (None, 64, 64, 32)        0         \n",
            "                                                                 \n",
            " max_pooling2d (MaxPooling2D  (None, 32, 32, 32)       0         \n",
            " )                                                               \n",
            "                                                                 \n",
            " conv2d_1 (Conv2D)           (None, 32, 32, 64)        18496     \n",
            "                                                                 \n",
            " leaky_re_lu_1 (LeakyReLU)   (None, 32, 32, 64)        0         \n",
            "                                                                 \n",
            " max_pooling2d_1 (MaxPooling  (None, 16, 16, 64)       0         \n",
            " 2D)                                                             \n",
            "                                                                 \n",
            " conv2d_2 (Conv2D)           (None, 16, 16, 64)        36928     \n",
            "                                                                 \n",
            " leaky_re_lu_2 (LeakyReLU)   (None, 16, 16, 64)        0         \n",
            "                                                                 \n",
            " max_pooling2d_2 (MaxPooling  (None, 8, 8, 64)         0         \n",
            " 2D)                                                             \n",
            "                                                                 \n",
            " conv2d_3 (Conv2D)           (None, 8, 8, 32)          18464     \n",
            "                                                                 \n",
            " leaky_re_lu_3 (LeakyReLU)   (None, 8, 8, 32)          0         \n",
            "                                                                 \n",
            " max_pooling2d_3 (MaxPooling  (None, 4, 4, 32)         0         \n",
            " 2D)                                                             \n",
            "                                                                 \n",
            " flatten (Flatten)           (None, 512)               0         \n",
            "                                                                 \n",
            " activation (Activation)     (None, 512)               0         \n",
            "                                                                 \n",
            " dense (Dense)               (None, 512)               262656    \n",
            "                                                                 \n",
            " dropout (Dropout)           (None, 512)               0         \n",
            "                                                                 \n",
            " dense_1 (Dense)             (None, 3)                 1539      \n",
            "                                                                 \n",
            " activation_1 (Activation)   (None, 3)                 0         \n",
            "                                                                 \n",
            "=================================================================\n",
            "Total params: 338,979\n",
            "Trainable params: 338,979\n",
            "Non-trainable params: 0\n",
            "_________________________________________________________________\n"
          ]
        }
      ]
    },
    {
      "cell_type": "code",
      "source": [
        "model.compile(loss='categorical_crossentropy', optimizer=Adam(), metrics=['accuracy'])\n",
        "model.summary()"
      ],
      "metadata": {
        "colab": {
          "base_uri": "https://localhost:8080/"
        },
        "id": "8g_Kwn4Vy9XO",
        "outputId": "5c189637-8690-47e3-88c6-5a7a0ea1a9fe"
      },
      "execution_count": 9,
      "outputs": [
        {
          "output_type": "stream",
          "name": "stdout",
          "text": [
            "Model: \"sequential\"\n",
            "_________________________________________________________________\n",
            " Layer (type)                Output Shape              Param #   \n",
            "=================================================================\n",
            " conv2d (Conv2D)             (None, 64, 64, 32)        896       \n",
            "                                                                 \n",
            " leaky_re_lu (LeakyReLU)     (None, 64, 64, 32)        0         \n",
            "                                                                 \n",
            " max_pooling2d (MaxPooling2D  (None, 32, 32, 32)       0         \n",
            " )                                                               \n",
            "                                                                 \n",
            " conv2d_1 (Conv2D)           (None, 32, 32, 64)        18496     \n",
            "                                                                 \n",
            " leaky_re_lu_1 (LeakyReLU)   (None, 32, 32, 64)        0         \n",
            "                                                                 \n",
            " max_pooling2d_1 (MaxPooling  (None, 16, 16, 64)       0         \n",
            " 2D)                                                             \n",
            "                                                                 \n",
            " conv2d_2 (Conv2D)           (None, 16, 16, 64)        36928     \n",
            "                                                                 \n",
            " leaky_re_lu_2 (LeakyReLU)   (None, 16, 16, 64)        0         \n",
            "                                                                 \n",
            " max_pooling2d_2 (MaxPooling  (None, 8, 8, 64)         0         \n",
            " 2D)                                                             \n",
            "                                                                 \n",
            " conv2d_3 (Conv2D)           (None, 8, 8, 32)          18464     \n",
            "                                                                 \n",
            " leaky_re_lu_3 (LeakyReLU)   (None, 8, 8, 32)          0         \n",
            "                                                                 \n",
            " max_pooling2d_3 (MaxPooling  (None, 4, 4, 32)         0         \n",
            " 2D)                                                             \n",
            "                                                                 \n",
            " flatten (Flatten)           (None, 512)               0         \n",
            "                                                                 \n",
            " activation (Activation)     (None, 512)               0         \n",
            "                                                                 \n",
            " dense (Dense)               (None, 512)               262656    \n",
            "                                                                 \n",
            " dropout (Dropout)           (None, 512)               0         \n",
            "                                                                 \n",
            " dense_1 (Dense)             (None, 3)                 1539      \n",
            "                                                                 \n",
            " activation_1 (Activation)   (None, 3)                 0         \n",
            "                                                                 \n",
            "=================================================================\n",
            "Total params: 338,979\n",
            "Trainable params: 338,979\n",
            "Non-trainable params: 0\n",
            "_________________________________________________________________\n"
          ]
        }
      ]
    },
    {
      "cell_type": "code",
      "source": [
        "# tiến hành dừng train nếu acccuracy giảm\n",
        "callback = tf.keras.callbacks.EarlyStopping(monitor='val_accuracy',patience = 10,restore_best_weights=True)\n",
        "# tiến hành train model\n",
        "history=model.fit(train_data,epochs=85,batch_size=32,verbose=1, \n",
        "                  validation_data=test_data,callbacks=[callback])"
      ],
      "metadata": {
        "colab": {
          "base_uri": "https://localhost:8080/"
        },
        "id": "MTEIagoMpYsd",
        "outputId": "abb12b1a-8f9f-481b-feb7-f85044860ceb"
      },
      "execution_count": 10,
      "outputs": [
        {
          "output_type": "stream",
          "name": "stdout",
          "text": [
            "Epoch 1/85\n",
            "1487/1487 [==============================] - 701s 470ms/step - loss: 0.6679 - accuracy: 0.7033 - val_loss: 0.6688 - val_accuracy: 0.6545\n",
            "Epoch 2/85\n",
            "1487/1487 [==============================] - 188s 126ms/step - loss: 0.5426 - accuracy: 0.7652 - val_loss: 0.9755 - val_accuracy: 0.5382\n",
            "Epoch 3/85\n",
            "1487/1487 [==============================] - 187s 126ms/step - loss: 0.4730 - accuracy: 0.8006 - val_loss: 0.6634 - val_accuracy: 0.7076\n",
            "Epoch 4/85\n",
            "1487/1487 [==============================] - 182s 122ms/step - loss: 0.4350 - accuracy: 0.8162 - val_loss: 0.6208 - val_accuracy: 0.7575\n",
            "Epoch 5/85\n",
            "1487/1487 [==============================] - 184s 124ms/step - loss: 0.4183 - accuracy: 0.8271 - val_loss: 0.9022 - val_accuracy: 0.6711\n",
            "Epoch 6/85\n",
            "1487/1487 [==============================] - 183s 123ms/step - loss: 0.4030 - accuracy: 0.8347 - val_loss: 0.7414 - val_accuracy: 0.6977\n",
            "Epoch 7/85\n",
            "1487/1487 [==============================] - 185s 124ms/step - loss: 0.3864 - accuracy: 0.8403 - val_loss: 0.9105 - val_accuracy: 0.6744\n",
            "Epoch 8/85\n",
            "1487/1487 [==============================] - 183s 123ms/step - loss: 0.3816 - accuracy: 0.8435 - val_loss: 0.8485 - val_accuracy: 0.6944\n",
            "Epoch 9/85\n",
            "1487/1487 [==============================] - 183s 123ms/step - loss: 0.3778 - accuracy: 0.8463 - val_loss: 0.4639 - val_accuracy: 0.7841\n",
            "Epoch 10/85\n",
            "1487/1487 [==============================] - 185s 124ms/step - loss: 0.3769 - accuracy: 0.8458 - val_loss: 0.7805 - val_accuracy: 0.6811\n",
            "Epoch 11/85\n",
            "1487/1487 [==============================] - 185s 124ms/step - loss: 0.3601 - accuracy: 0.8538 - val_loss: 0.7025 - val_accuracy: 0.7143\n",
            "Epoch 12/85\n",
            "1487/1487 [==============================] - 183s 123ms/step - loss: 0.3595 - accuracy: 0.8533 - val_loss: 0.5639 - val_accuracy: 0.7575\n",
            "Epoch 13/85\n",
            "1487/1487 [==============================] - 184s 124ms/step - loss: 0.3521 - accuracy: 0.8568 - val_loss: 0.5423 - val_accuracy: 0.7608\n",
            "Epoch 14/85\n",
            "1487/1487 [==============================] - 186s 125ms/step - loss: 0.3492 - accuracy: 0.8571 - val_loss: 0.5539 - val_accuracy: 0.7741\n",
            "Epoch 15/85\n",
            "1487/1487 [==============================] - 183s 123ms/step - loss: 0.3451 - accuracy: 0.8582 - val_loss: 0.7697 - val_accuracy: 0.6910\n",
            "Epoch 16/85\n",
            "1487/1487 [==============================] - 183s 123ms/step - loss: 0.3396 - accuracy: 0.8583 - val_loss: 0.8547 - val_accuracy: 0.6844\n",
            "Epoch 17/85\n",
            "1487/1487 [==============================] - 183s 123ms/step - loss: 0.3465 - accuracy: 0.8571 - val_loss: 0.4531 - val_accuracy: 0.8306\n",
            "Epoch 18/85\n",
            "1487/1487 [==============================] - 186s 125ms/step - loss: 0.3367 - accuracy: 0.8632 - val_loss: 0.5807 - val_accuracy: 0.7708\n",
            "Epoch 19/85\n",
            "1487/1487 [==============================] - 187s 126ms/step - loss: 0.3324 - accuracy: 0.8666 - val_loss: 0.8261 - val_accuracy: 0.7209\n",
            "Epoch 20/85\n",
            "1487/1487 [==============================] - 192s 129ms/step - loss: 0.3264 - accuracy: 0.8697 - val_loss: 0.7028 - val_accuracy: 0.7309\n",
            "Epoch 21/85\n",
            "1487/1487 [==============================] - 188s 126ms/step - loss: 0.3229 - accuracy: 0.8700 - val_loss: 0.4494 - val_accuracy: 0.8272\n",
            "Epoch 22/85\n",
            "1487/1487 [==============================] - 186s 125ms/step - loss: 0.3209 - accuracy: 0.8736 - val_loss: 0.4661 - val_accuracy: 0.8073\n",
            "Epoch 23/85\n",
            "1487/1487 [==============================] - 187s 126ms/step - loss: 0.3239 - accuracy: 0.8711 - val_loss: 0.5614 - val_accuracy: 0.7641\n",
            "Epoch 24/85\n",
            "1487/1487 [==============================] - 184s 124ms/step - loss: 0.3231 - accuracy: 0.8701 - val_loss: 0.5652 - val_accuracy: 0.7608\n",
            "Epoch 25/85\n",
            "1487/1487 [==============================] - 182s 123ms/step - loss: 0.3191 - accuracy: 0.8718 - val_loss: 0.3610 - val_accuracy: 0.8671\n",
            "Epoch 26/85\n",
            "1487/1487 [==============================] - 184s 124ms/step - loss: 0.3097 - accuracy: 0.8767 - val_loss: 0.4973 - val_accuracy: 0.7874\n",
            "Epoch 27/85\n",
            "1487/1487 [==============================] - 186s 125ms/step - loss: 0.3116 - accuracy: 0.8764 - val_loss: 0.5631 - val_accuracy: 0.7575\n",
            "Epoch 28/85\n",
            "1487/1487 [==============================] - 183s 123ms/step - loss: 0.3155 - accuracy: 0.8770 - val_loss: 0.5092 - val_accuracy: 0.7973\n",
            "Epoch 29/85\n",
            "1487/1487 [==============================] - 183s 123ms/step - loss: 0.3082 - accuracy: 0.8775 - val_loss: 0.4575 - val_accuracy: 0.7940\n",
            "Epoch 30/85\n",
            "1487/1487 [==============================] - 182s 122ms/step - loss: 0.3022 - accuracy: 0.8781 - val_loss: 0.4806 - val_accuracy: 0.8173\n",
            "Epoch 31/85\n",
            "1487/1487 [==============================] - 184s 123ms/step - loss: 0.3061 - accuracy: 0.8791 - val_loss: 0.3891 - val_accuracy: 0.8405\n",
            "Epoch 32/85\n",
            "1487/1487 [==============================] - 182s 123ms/step - loss: 0.2999 - accuracy: 0.8803 - val_loss: 0.4337 - val_accuracy: 0.8140\n",
            "Epoch 33/85\n",
            "1487/1487 [==============================] - 183s 123ms/step - loss: 0.3027 - accuracy: 0.8769 - val_loss: 0.2717 - val_accuracy: 0.8970\n",
            "Epoch 34/85\n",
            "1487/1487 [==============================] - 182s 123ms/step - loss: 0.2989 - accuracy: 0.8806 - val_loss: 0.4131 - val_accuracy: 0.8239\n",
            "Epoch 35/85\n",
            "1487/1487 [==============================] - 182s 122ms/step - loss: 0.2959 - accuracy: 0.8795 - val_loss: 0.4586 - val_accuracy: 0.8272\n",
            "Epoch 36/85\n",
            "1487/1487 [==============================] - 182s 122ms/step - loss: 0.2960 - accuracy: 0.8804 - val_loss: 0.3099 - val_accuracy: 0.8704\n",
            "Epoch 37/85\n",
            "1487/1487 [==============================] - 195s 131ms/step - loss: 0.2979 - accuracy: 0.8805 - val_loss: 0.5271 - val_accuracy: 0.7973\n",
            "Epoch 38/85\n",
            "1487/1487 [==============================] - 197s 133ms/step - loss: 0.2949 - accuracy: 0.8799 - val_loss: 0.4028 - val_accuracy: 0.8306\n",
            "Epoch 39/85\n",
            "1487/1487 [==============================] - 200s 134ms/step - loss: 0.2941 - accuracy: 0.8822 - val_loss: 0.4486 - val_accuracy: 0.7940\n",
            "Epoch 40/85\n",
            "1487/1487 [==============================] - 198s 133ms/step - loss: 0.2870 - accuracy: 0.8846 - val_loss: 0.4686 - val_accuracy: 0.8173\n",
            "Epoch 41/85\n",
            "1487/1487 [==============================] - 197s 133ms/step - loss: 0.2921 - accuracy: 0.8880 - val_loss: 0.3661 - val_accuracy: 0.8538\n",
            "Epoch 42/85\n",
            "1487/1487 [==============================] - 198s 133ms/step - loss: 0.2912 - accuracy: 0.8876 - val_loss: 0.3745 - val_accuracy: 0.8571\n",
            "Epoch 43/85\n",
            "1487/1487 [==============================] - 197s 133ms/step - loss: 0.2860 - accuracy: 0.8865 - val_loss: 0.5115 - val_accuracy: 0.7874\n"
          ]
        }
      ]
    },
    {
      "cell_type": "code",
      "source": [
        "value=model.evaluate(test_data,verbose=0)\n",
        "print('loss', value[0])\n",
        "print('accuracy', value[1])"
      ],
      "metadata": {
        "colab": {
          "base_uri": "https://localhost:8080/"
        },
        "id": "v17LB5Qnpip-",
        "outputId": "be3e39ae-ac94-47e9-c26d-64ed7a85b485"
      },
      "execution_count": 11,
      "outputs": [
        {
          "output_type": "stream",
          "name": "stdout",
          "text": [
            "loss 0.2716919779777527\n",
            "accuracy 0.8970099687576294\n"
          ]
        }
      ]
    },
    {
      "cell_type": "code",
      "source": [
        "model.save('/content/drive/MyDrive/Colab Notebooks/modelMV2.h5')"
      ],
      "metadata": {
        "id": "aidXDMd2psyE"
      },
      "execution_count": 12,
      "outputs": []
    },
    {
      "cell_type": "code",
      "source": [
        "accuracy =history.history['accuracy']\n",
        "loss = history.history['loss']\n",
        "epochs=range(len(accuracy))\n",
        "\n",
        "import matplotlib.pyplot as plt\n",
        "plt.plot(epochs, accuracy, 'bo', label='Training accuracy', color='green')\n",
        "plt.plot(epochs,loss , 'b', label ='Training loss')\n",
        "plt.show()"
      ],
      "metadata": {
        "colab": {
          "base_uri": "https://localhost:8080/",
          "height": 485
        },
        "id": "GWVdP67IpyP3",
        "outputId": "1cdb41a3-7dfc-448d-e119-27f75762cbae"
      },
      "execution_count": 13,
      "outputs": [
        {
          "output_type": "stream",
          "name": "stderr",
          "text": [
            "<ipython-input-13-cabcf3b085bf>:6: UserWarning: color is redundantly defined by the 'color' keyword argument and the fmt string \"bo\" (-> color='b'). The keyword argument will take precedence.\n",
            "  plt.plot(epochs, accuracy, 'bo', label='Training accuracy', color='green')\n"
          ]
        },
        {
          "output_type": "display_data",
          "data": {
            "text/plain": [
              "<Figure size 640x480 with 1 Axes>"
            ],
            "image/png": "[encoded data removed]"
          },
          "metadata": {}
        }
      ]
    }
  ]
}
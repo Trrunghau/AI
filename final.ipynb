{
  "nbformat": 4,
  "nbformat_minor": 0,
  "metadata": {
    "colab": {
      "provenance": [],
      "mount_file_id": "1lJu4WJds-3CHBbXpl917KRYwSNB6DkBe",
      "authorship_tag": "ABX9TyN12/t+h1r0/ZWaxUCazQb/",
      "include_colab_link": true
    },
    "kernelspec": {
      "name": "python3",
      "display_name": "Python 3"
    },
    "language_info": {
      "name": "python"
    }
  },
  "cells": [
    {
      "cell_type": "markdown",
      "metadata": {
        "id": "view-in-github",
        "colab_type": "text"
      },
      "source": [
        "<a href=\"https://colab.research.google.com/github/Trrunghau/AI/blob/main/final.ipynb\" target=\"_parent\"><img src=\"https://colab.research.google.com/assets/colab-badge.svg\" alt=\"Open In Colab\"/></a>"
      ]
    },
    {
      "cell_type": "code",
      "execution_count": 7,
      "metadata": {
        "id": "Rq5e0VJIf_8Q"
      },
      "outputs": [],
      "source": [
        "import tensorflow as tf\n",
        "from tensorflow import keras\n",
        "import numpy as np\n",
        "import matplotlib.pyplot as plt\n",
        "from tensorflow.keras.preprocessing.image import ImageDataGenerator\n",
        "import os\n",
        "from keras.models import Sequential\n",
        "from keras.layers import Dense, Dropout, Conv2D, MaxPooling2D, Flatten\n",
        "from keras.optimizers import Adam\n",
        "from keras.layers import LeakyReLU\n",
        "\n",
        "from os import listdir\n",
        "from numpy import asarray,save\n",
        "from keras.utils import load_img, img_to_array"
      ]
    },
    {
      "cell_type": "code",
      "source": [
        "### thay doi ti le anh tu 0->255 thanh 0->1\n",
        "train = ImageDataGenerator(rescale =1.0/255.0)\n",
        "test = ImageDataGenerator(rescale=1.0/255.0)"
      ],
      "metadata": {
        "id": "EZ4ISDy0gFI_"
      },
      "execution_count": 8,
      "outputs": []
    },
    {
      "cell_type": "code",
      "source": [
        "train_data = train.flow_from_directory('/content/drive/MyDrive/data', target_size=(120,120), class_mode='categorical')\n",
        "test_data = test.flow_from_directory('/content/drive/MyDrive/data_test', target_size=(120,120), class_mode='categorical')"
      ],
      "metadata": {
        "colab": {
          "base_uri": "https://localhost:8080/"
        },
        "id": "rk--VepwhubQ",
        "outputId": "51ed1180-6052-49ff-8d48-cdb290c6e5c2"
      },
      "execution_count": 9,
      "outputs": [
        {
          "output_type": "stream",
          "name": "stdout",
          "text": [
            "Found 1391 images belonging to 7 classes.\n",
            "Found 323 images belonging to 7 classes.\n"
          ]
        }
      ]
    },
    {
      "cell_type": "code",
      "source": [
        "print('train_index :', train_data.class_indices)\n",
        "print('test_index:', test_data.class_indices)"
      ],
      "metadata": {
        "colab": {
          "base_uri": "https://localhost:8080/"
        },
        "id": "5W4Od-0DhyyO",
        "outputId": "38d63589-b0b7-42d0-e32c-497983aac6aa"
      },
      "execution_count": 10,
      "outputs": [
        {
          "output_type": "stream",
          "name": "stdout",
          "text": [
            "train_index : {'Corn_Blight': 0, 'Corn_Common_Rust': 1, 'Corn_Gray_Leaf_Spot': 2, 'Corn_Healthy': 3, 'bean_healthy': 4, 'bean_leaf_spot': 5, 'bean_rust': 6}\n",
            "test_index: {'Corn_Blight': 0, 'Corn_Common_Rust': 1, 'Corn_Gray_leaf_spot': 2, 'Corn_Heathy': 3, 'bean_healthy': 4, 'bean_leaf_spot': 5, 'bean_rust': 6}\n"
          ]
        }
      ]
    },
    {
      "cell_type": "code",
      "source": [
        "model= Sequential()\n",
        "## lop CNN1\n",
        "model.add(Conv2D(64, kernel_size=(3,3), activation='linear',input_shape=(120,120,3), padding='same'))\n",
        "model.add(LeakyReLU(alpha=0.1))\n",
        "model.add(MaxPooling2D((2,2), padding='same'))\n",
        "## lop CNN2\n",
        "model.add(Conv2D(128,(3,3),activation='linear', padding='same'))\n",
        "model.add(LeakyReLU(alpha=0.1))\n",
        "model.add(MaxPooling2D((2,2), padding='same'))\n",
        "## lop CNN3\n",
        "model.add(Conv2D(256,(3,3),activation='linear', padding='same'))\n",
        "model.add(LeakyReLU(alpha=0.1))\n",
        "model.add(MaxPooling2D((2,2), padding='same'))\n",
        "## lop CNN4\n",
        "model.add(Conv2D(512,(3,3),activation='linear', padding='same'))\n",
        "model.add(LeakyReLU(alpha=0.1))\n",
        "model.add(MaxPooling2D((2,2), padding='same'))\n",
        "## lop CNN5\n",
        "model.add(Conv2D(256,(3,3),activation='linear', padding='same'))\n",
        "model.add(LeakyReLU(alpha=0.1))\n",
        "model.add(MaxPooling2D((2,2), padding='same'))\n",
        "\n",
        "classes = 7"
      ],
      "metadata": {
        "id": "3Nat1eGHh2P6"
      },
      "execution_count": 11,
      "outputs": []
    },
    {
      "cell_type": "code",
      "source": [
        "# chuyen du lieu tu CNN ve ANN ( 2 chieu ve 1 chieu)\n",
        "model.add(Flatten())\n",
        "##lop hidden1\n",
        "model.add(Dense(256,activation='linear'))\n",
        "model.add(Dropout(0.5))\n",
        "model.add(LeakyReLU(alpha=0.1))\n",
        "model.add(Dense(128,activation='linear'))\n",
        "model.add(Dropout(0.5))\n",
        "# lop outpu\n",
        "model.add(Dense(classes, activation='softmax'))"
      ],
      "metadata": {
        "id": "IxYF5kySh7Vz"
      },
      "execution_count": 12,
      "outputs": []
    },
    {
      "cell_type": "code",
      "source": [
        "model.compile(loss='categorical_crossentropy', optimizer=Adam(), metrics=['accuracy'])\n",
        "model.summary()"
      ],
      "metadata": {
        "colab": {
          "base_uri": "https://localhost:8080/"
        },
        "id": "AQIku2Sfh9tc",
        "outputId": "0c7b75fe-09f6-4843-f17b-1129e7e98c86"
      },
      "execution_count": 13,
      "outputs": [
        {
          "output_type": "stream",
          "name": "stdout",
          "text": [
            "Model: \"sequential_1\"\n",
            "_________________________________________________________________\n",
            " Layer (type)                Output Shape              Param #   \n",
            "=================================================================\n",
            " conv2d_5 (Conv2D)           (None, 120, 120, 64)      1792      \n",
            "                                                                 \n",
            " leaky_re_lu_6 (LeakyReLU)   (None, 120, 120, 64)      0         \n",
            "                                                                 \n",
            " max_pooling2d_5 (MaxPooling  (None, 60, 60, 64)       0         \n",
            " 2D)                                                             \n",
            "                                                                 \n",
            " conv2d_6 (Conv2D)           (None, 60, 60, 128)       73856     \n",
            "                                                                 \n",
            " leaky_re_lu_7 (LeakyReLU)   (None, 60, 60, 128)       0         \n",
            "                                                                 \n",
            " max_pooling2d_6 (MaxPooling  (None, 30, 30, 128)      0         \n",
            " 2D)                                                             \n",
            "                                                                 \n",
            " conv2d_7 (Conv2D)           (None, 30, 30, 256)       295168    \n",
            "                                                                 \n",
            " leaky_re_lu_8 (LeakyReLU)   (None, 30, 30, 256)       0         \n",
            "                                                                 \n",
            " max_pooling2d_7 (MaxPooling  (None, 15, 15, 256)      0         \n",
            " 2D)                                                             \n",
            "                                                                 \n",
            " conv2d_8 (Conv2D)           (None, 15, 15, 512)       1180160   \n",
            "                                                                 \n",
            " leaky_re_lu_9 (LeakyReLU)   (None, 15, 15, 512)       0         \n",
            "                                                                 \n",
            " max_pooling2d_8 (MaxPooling  (None, 8, 8, 512)        0         \n",
            " 2D)                                                             \n",
            "                                                                 \n",
            " conv2d_9 (Conv2D)           (None, 8, 8, 256)         1179904   \n",
            "                                                                 \n",
            " leaky_re_lu_10 (LeakyReLU)  (None, 8, 8, 256)         0         \n",
            "                                                                 \n",
            " max_pooling2d_9 (MaxPooling  (None, 4, 4, 256)        0         \n",
            " 2D)                                                             \n",
            "                                                                 \n",
            " flatten_1 (Flatten)         (None, 4096)              0         \n",
            "                                                                 \n",
            " dense_2 (Dense)             (None, 256)               1048832   \n",
            "                                                                 \n",
            " dropout_1 (Dropout)         (None, 256)               0         \n",
            "                                                                 \n",
            " leaky_re_lu_11 (LeakyReLU)  (None, 256)               0         \n",
            "                                                                 \n",
            " dense_3 (Dense)             (None, 128)               32896     \n",
            "                                                                 \n",
            " dropout_2 (Dropout)         (None, 128)               0         \n",
            "                                                                 \n",
            " dense_4 (Dense)             (None, 7)                 903       \n",
            "                                                                 \n",
            "=================================================================\n",
            "Total params: 3,813,511\n",
            "Trainable params: 3,813,511\n",
            "Non-trainable params: 0\n",
            "_________________________________________________________________\n"
          ]
        }
      ]
    },
    {
      "cell_type": "code",
      "source": [
        "history=model.fit(train_data,epochs=30,batch_size=128,verbose=1, \n",
        "                  validation_data=test_data)"
      ],
      "metadata": {
        "colab": {
          "base_uri": "https://localhost:8080/"
        },
        "id": "r9-VRH7rh-e2",
        "outputId": "fdc4f65f-d3a0-4ee0-d7cc-0d976832a420"
      },
      "execution_count": 14,
      "outputs": [
        {
          "output_type": "stream",
          "name": "stdout",
          "text": [
            "Epoch 1/30\n",
            "44/44 [==============================] - 551s 12s/step - loss: 1.7745 - accuracy: 0.2689 - val_loss: 1.9367 - val_accuracy: 0.2167\n",
            "Epoch 2/30\n",
            "44/44 [==============================] - 220s 5s/step - loss: 1.5145 - accuracy: 0.3932 - val_loss: 1.5994 - val_accuracy: 0.3560\n",
            "Epoch 3/30\n",
            "44/44 [==============================] - 221s 5s/step - loss: 1.2785 - accuracy: 0.4874 - val_loss: 1.2358 - val_accuracy: 0.5046\n",
            "Epoch 4/30\n",
            "44/44 [==============================] - 218s 5s/step - loss: 1.1648 - accuracy: 0.5536 - val_loss: 1.2285 - val_accuracy: 0.5201\n",
            "Epoch 5/30\n",
            "44/44 [==============================] - 220s 5s/step - loss: 0.9911 - accuracy: 0.5902 - val_loss: 1.0887 - val_accuracy: 0.5356\n",
            "Epoch 6/30\n",
            "44/44 [==============================] - 222s 5s/step - loss: 0.9568 - accuracy: 0.6211 - val_loss: 1.1254 - val_accuracy: 0.5294\n",
            "Epoch 7/30\n",
            "44/44 [==============================] - 219s 5s/step - loss: 0.8488 - accuracy: 0.6664 - val_loss: 0.9766 - val_accuracy: 0.6068\n",
            "Epoch 8/30\n",
            "44/44 [==============================] - 218s 5s/step - loss: 0.7507 - accuracy: 0.6952 - val_loss: 0.9429 - val_accuracy: 0.5975\n",
            "Epoch 9/30\n",
            "44/44 [==============================] - 220s 5s/step - loss: 0.7497 - accuracy: 0.6981 - val_loss: 1.2019 - val_accuracy: 0.5604\n",
            "Epoch 10/30\n",
            "44/44 [==============================] - 221s 5s/step - loss: 0.7451 - accuracy: 0.7175 - val_loss: 0.8210 - val_accuracy: 0.6563\n",
            "Epoch 11/30\n",
            "44/44 [==============================] - 218s 5s/step - loss: 0.6533 - accuracy: 0.7434 - val_loss: 0.9788 - val_accuracy: 0.6347\n",
            "Epoch 12/30\n",
            "44/44 [==============================] - 220s 5s/step - loss: 0.6701 - accuracy: 0.7462 - val_loss: 0.8135 - val_accuracy: 0.6625\n",
            "Epoch 13/30\n",
            "44/44 [==============================] - 221s 5s/step - loss: 0.6946 - accuracy: 0.7354 - val_loss: 1.0996 - val_accuracy: 0.5882\n",
            "Epoch 14/30\n",
            "44/44 [==============================] - 222s 5s/step - loss: 0.6333 - accuracy: 0.7556 - val_loss: 0.9838 - val_accuracy: 0.6502\n",
            "Epoch 15/30\n",
            "44/44 [==============================] - 222s 5s/step - loss: 0.5666 - accuracy: 0.7872 - val_loss: 0.7967 - val_accuracy: 0.6997\n",
            "Epoch 16/30\n",
            "44/44 [==============================] - 220s 5s/step - loss: 0.4644 - accuracy: 0.8203 - val_loss: 0.8917 - val_accuracy: 0.6811\n",
            "Epoch 17/30\n",
            "44/44 [==============================] - 221s 5s/step - loss: 0.4529 - accuracy: 0.8203 - val_loss: 0.8380 - val_accuracy: 0.6873\n",
            "Epoch 18/30\n",
            "44/44 [==============================] - 222s 5s/step - loss: 0.4004 - accuracy: 0.8397 - val_loss: 0.8656 - val_accuracy: 0.7059\n",
            "Epoch 19/30\n",
            "44/44 [==============================] - 222s 5s/step - loss: 0.3182 - accuracy: 0.8799 - val_loss: 0.7686 - val_accuracy: 0.7121\n",
            "Epoch 20/30\n",
            "44/44 [==============================] - 218s 5s/step - loss: 0.2906 - accuracy: 0.8936 - val_loss: 0.9473 - val_accuracy: 0.6904\n",
            "Epoch 21/30\n",
            "44/44 [==============================] - 223s 5s/step - loss: 0.3157 - accuracy: 0.8821 - val_loss: 1.0738 - val_accuracy: 0.7090\n",
            "Epoch 22/30\n",
            "44/44 [==============================] - 222s 5s/step - loss: 0.3199 - accuracy: 0.8857 - val_loss: 0.9946 - val_accuracy: 0.7121\n",
            "Epoch 23/30\n",
            "44/44 [==============================] - 223s 5s/step - loss: 0.2649 - accuracy: 0.9044 - val_loss: 1.0748 - val_accuracy: 0.7028\n",
            "Epoch 24/30\n",
            "44/44 [==============================] - 222s 5s/step - loss: 0.2221 - accuracy: 0.9216 - val_loss: 0.9003 - val_accuracy: 0.7245\n",
            "Epoch 25/30\n",
            "44/44 [==============================] - 223s 5s/step - loss: 0.2025 - accuracy: 0.9238 - val_loss: 1.2062 - val_accuracy: 0.6935\n",
            "Epoch 26/30\n",
            "44/44 [==============================] - 218s 5s/step - loss: 0.2150 - accuracy: 0.9353 - val_loss: 1.2840 - val_accuracy: 0.6873\n",
            "Epoch 27/30\n",
            "44/44 [==============================] - 226s 5s/step - loss: 0.2086 - accuracy: 0.9331 - val_loss: 1.3040 - val_accuracy: 0.6935\n",
            "Epoch 28/30\n",
            "44/44 [==============================] - 221s 5s/step - loss: 0.2519 - accuracy: 0.9216 - val_loss: 1.5976 - val_accuracy: 0.6316\n",
            "Epoch 29/30\n",
            "44/44 [==============================] - 217s 5s/step - loss: 0.3176 - accuracy: 0.8979 - val_loss: 1.2391 - val_accuracy: 0.6625\n",
            "Epoch 30/30\n",
            "44/44 [==============================] - 221s 5s/step - loss: 0.2278 - accuracy: 0.9281 - val_loss: 1.0965 - val_accuracy: 0.7090\n"
          ]
        }
      ]
    },
    {
      "cell_type": "code",
      "source": [
        "value=model.evaluate(test_data,verbose=0)\n",
        "print('loss', value[0])\n",
        "print('accuracy', value[1])"
      ],
      "metadata": {
        "id": "vhJfI6NeiDSm",
        "colab": {
          "base_uri": "https://localhost:8080/"
        },
        "outputId": "6ae9535d-3cb9-46e5-ac56-354d7261d65a"
      },
      "execution_count": 15,
      "outputs": [
        {
          "output_type": "stream",
          "name": "stdout",
          "text": [
            "loss 1.0964778661727905\n",
            "accuracy 0.7089783549308777\n"
          ]
        }
      ]
    },
    {
      "cell_type": "code",
      "source": [
        "model.save('/content/drive/MyDrive/Colab Notebooks/modelfinal1.h5')"
      ],
      "metadata": {
        "id": "wZSiYCDFDcxw"
      },
      "execution_count": 16,
      "outputs": []
    },
    {
      "cell_type": "code",
      "source": [
        "model.save('/content/drive/MyDrive/MyPicture/VN_Foods_Data/model_food.h5')\n",
        "accuracy =history.history['accuracy']\n",
        "loss = history.history['loss']\n",
        "epochs=range(len(accuracy))\n",
        "\n",
        "import matplotlib.pyplot as plt\n",
        "plt.plot(epochs, accuracy, 'bo', label='Training accuracy', color='green')\n",
        "plt.plot(epochs,loss , 'b', label ='Training loss')\n",
        "plt.show()"
      ],
      "metadata": {
        "id": "oOlNLHFuiFh7",
        "colab": {
          "base_uri": "https://localhost:8080/",
          "height": 485
        },
        "outputId": "001a45ef-4172-42b8-d3a2-17a549d9c6d2"
      },
      "execution_count": 17,
      "outputs": [
        {
          "output_type": "stream",
          "name": "stderr",
          "text": [
            "<ipython-input-17-1135c77880a8>:7: UserWarning: color is redundantly defined by the 'color' keyword argument and the fmt string \"bo\" (-> color='b'). The keyword argument will take precedence.\n",
            "  plt.plot(epochs, accuracy, 'bo', label='Training accuracy', color='green')\n"
          ]
        },
        {
          "output_type": "display_data",
          "data": {
            "text/plain": [
              "<Figure size 640x480 with 1 Axes>"
            ],
            "image/png": "[encoded data removed]"
          },
          "metadata": {}
        }
      ]
    },
    {
      "cell_type": "code",
      "source": [
        "name_foods=['Banh cuon', 'Banh mi','Banh xeo','Bun bo Hue','Bun dau mam tom','Chao long','Com tam','Goi cuon','Mi quang','Pho']\n",
        "filePath = '/content/drive/MyDrive/MyPicture/VN_Foods/bun_dau.jpg'\n",
        "testImage = load_img(filePath, color_mode = 'rgb', target_size=(150,150))\n",
        "arrayImage = img_to_array(testImage).reshape(1,150,150,3)/255\n",
        "pred = int(np.argmax(model.predict(arrayImage)))\n",
        "print(\"Predicted: \", name_foods[pred])\n",
        "plt.imshow(testImage)"
      ],
      "metadata": {
        "id": "SRNUkhcFiH7Z",
        "colab": {
          "base_uri": "https://localhost:8080/",
          "height": 374
        },
        "outputId": "cd0d0a3f-31ad-4e55-b1a5-8c9ba3804e6d"
      },
      "execution_count": 18,
      "outputs": [
        {
          "output_type": "error",
          "ename": "FileNotFoundError",
          "evalue": "ignored",
          "traceback": [
            "\u001b[0;31m---------------------------------------------------------------------------\u001b[0m",
            "\u001b[0;31mFileNotFoundError\u001b[0m                         Traceback (most recent call last)",
            "\u001b[0;32m<ipython-input-18-a6ae8b18d266>\u001b[0m in \u001b[0;36m<cell line: 3>\u001b[0;34m()\u001b[0m\n\u001b[1;32m      1\u001b[0m \u001b[0mname_foods\u001b[0m\u001b[0;34m=\u001b[0m\u001b[0;34m[\u001b[0m\u001b[0;34m'Banh cuon'\u001b[0m\u001b[0;34m,\u001b[0m \u001b[0;34m'Banh mi'\u001b[0m\u001b[0;34m,\u001b[0m\u001b[0;34m'Banh xeo'\u001b[0m\u001b[0;34m,\u001b[0m\u001b[0;34m'Bun bo Hue'\u001b[0m\u001b[0;34m,\u001b[0m\u001b[0;34m'Bun dau mam tom'\u001b[0m\u001b[0;34m,\u001b[0m\u001b[0;34m'Chao long'\u001b[0m\u001b[0;34m,\u001b[0m\u001b[0;34m'Com tam'\u001b[0m\u001b[0;34m,\u001b[0m\u001b[0;34m'Goi cuon'\u001b[0m\u001b[0;34m,\u001b[0m\u001b[0;34m'Mi quang'\u001b[0m\u001b[0;34m,\u001b[0m\u001b[0;34m'Pho'\u001b[0m\u001b[0;34m]\u001b[0m\u001b[0;34m\u001b[0m\u001b[0;34m\u001b[0m\u001b[0m\n\u001b[1;32m      2\u001b[0m \u001b[0mfilePath\u001b[0m \u001b[0;34m=\u001b[0m \u001b[0;34m'/content/drive/MyDrive/MyPicture/VN_Foods/bun_dau.jpg'\u001b[0m\u001b[0;34m\u001b[0m\u001b[0;34m\u001b[0m\u001b[0m\n\u001b[0;32m----> 3\u001b[0;31m \u001b[0mtestImage\u001b[0m \u001b[0;34m=\u001b[0m \u001b[0mload_img\u001b[0m\u001b[0;34m(\u001b[0m\u001b[0mfilePath\u001b[0m\u001b[0;34m,\u001b[0m \u001b[0mcolor_mode\u001b[0m \u001b[0;34m=\u001b[0m \u001b[0;34m'rgb'\u001b[0m\u001b[0;34m,\u001b[0m \u001b[0mtarget_size\u001b[0m\u001b[0;34m=\u001b[0m\u001b[0;34m(\u001b[0m\u001b[0;36m150\u001b[0m\u001b[0;34m,\u001b[0m\u001b[0;36m150\u001b[0m\u001b[0;34m)\u001b[0m\u001b[0;34m)\u001b[0m\u001b[0;34m\u001b[0m\u001b[0;34m\u001b[0m\u001b[0m\n\u001b[0m\u001b[1;32m      4\u001b[0m \u001b[0marrayImage\u001b[0m \u001b[0;34m=\u001b[0m \u001b[0mimg_to_array\u001b[0m\u001b[0;34m(\u001b[0m\u001b[0mtestImage\u001b[0m\u001b[0;34m)\u001b[0m\u001b[0;34m.\u001b[0m\u001b[0mreshape\u001b[0m\u001b[0;34m(\u001b[0m\u001b[0;36m1\u001b[0m\u001b[0;34m,\u001b[0m\u001b[0;36m150\u001b[0m\u001b[0;34m,\u001b[0m\u001b[0;36m150\u001b[0m\u001b[0;34m,\u001b[0m\u001b[0;36m3\u001b[0m\u001b[0;34m)\u001b[0m\u001b[0;34m/\u001b[0m\u001b[0;36m255\u001b[0m\u001b[0;34m\u001b[0m\u001b[0;34m\u001b[0m\u001b[0m\n\u001b[1;32m      5\u001b[0m \u001b[0mpred\u001b[0m \u001b[0;34m=\u001b[0m \u001b[0mint\u001b[0m\u001b[0;34m(\u001b[0m\u001b[0mnp\u001b[0m\u001b[0;34m.\u001b[0m\u001b[0margmax\u001b[0m\u001b[0;34m(\u001b[0m\u001b[0mmodel\u001b[0m\u001b[0;34m.\u001b[0m\u001b[0mpredict\u001b[0m\u001b[0;34m(\u001b[0m\u001b[0marrayImage\u001b[0m\u001b[0;34m)\u001b[0m\u001b[0;34m)\u001b[0m\u001b[0;34m)\u001b[0m\u001b[0;34m\u001b[0m\u001b[0;34m\u001b[0m\u001b[0m\n",
            "\u001b[0;32m/usr/local/lib/python3.10/dist-packages/keras/utils/image_utils.py\u001b[0m in \u001b[0;36mload_img\u001b[0;34m(path, grayscale, color_mode, target_size, interpolation, keep_aspect_ratio)\u001b[0m\n\u001b[1;32m    420\u001b[0m         \u001b[0;32mif\u001b[0m \u001b[0misinstance\u001b[0m\u001b[0;34m(\u001b[0m\u001b[0mpath\u001b[0m\u001b[0;34m,\u001b[0m \u001b[0mpathlib\u001b[0m\u001b[0;34m.\u001b[0m\u001b[0mPath\u001b[0m\u001b[0;34m)\u001b[0m\u001b[0;34m:\u001b[0m\u001b[0;34m\u001b[0m\u001b[0;34m\u001b[0m\u001b[0m\n\u001b[1;32m    421\u001b[0m             \u001b[0mpath\u001b[0m \u001b[0;34m=\u001b[0m \u001b[0mstr\u001b[0m\u001b[0;34m(\u001b[0m\u001b[0mpath\u001b[0m\u001b[0;34m.\u001b[0m\u001b[0mresolve\u001b[0m\u001b[0;34m(\u001b[0m\u001b[0;34m)\u001b[0m\u001b[0;34m)\u001b[0m\u001b[0;34m\u001b[0m\u001b[0;34m\u001b[0m\u001b[0m\n\u001b[0;32m--> 422\u001b[0;31m         \u001b[0;32mwith\u001b[0m \u001b[0mopen\u001b[0m\u001b[0;34m(\u001b[0m\u001b[0mpath\u001b[0m\u001b[0;34m,\u001b[0m \u001b[0;34m\"rb\"\u001b[0m\u001b[0;34m)\u001b[0m \u001b[0;32mas\u001b[0m \u001b[0mf\u001b[0m\u001b[0;34m:\u001b[0m\u001b[0;34m\u001b[0m\u001b[0;34m\u001b[0m\u001b[0m\n\u001b[0m\u001b[1;32m    423\u001b[0m             \u001b[0mimg\u001b[0m \u001b[0;34m=\u001b[0m \u001b[0mpil_image\u001b[0m\u001b[0;34m.\u001b[0m\u001b[0mopen\u001b[0m\u001b[0;34m(\u001b[0m\u001b[0mio\u001b[0m\u001b[0;34m.\u001b[0m\u001b[0mBytesIO\u001b[0m\u001b[0;34m(\u001b[0m\u001b[0mf\u001b[0m\u001b[0;34m.\u001b[0m\u001b[0mread\u001b[0m\u001b[0;34m(\u001b[0m\u001b[0;34m)\u001b[0m\u001b[0;34m)\u001b[0m\u001b[0;34m)\u001b[0m\u001b[0;34m\u001b[0m\u001b[0;34m\u001b[0m\u001b[0m\n\u001b[1;32m    424\u001b[0m     \u001b[0;32melse\u001b[0m\u001b[0;34m:\u001b[0m\u001b[0;34m\u001b[0m\u001b[0;34m\u001b[0m\u001b[0m\n",
            "\u001b[0;31mFileNotFoundError\u001b[0m: [Errno 2] No such file or directory: '/content/drive/MyDrive/MyPicture/VN_Foods/bun_dau.jpg'"
          ]
        }
      ]
    }
  ]
}
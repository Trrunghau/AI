{
  "nbformat": 4,
  "nbformat_minor": 0,
  "metadata": {
    "colab": {
      "provenance": [],
      "mount_file_id": "1OwiZSU7QY-CPdAhm1ged3DlhYtn5B9kV",
      "authorship_tag": "ABX9TyMMTJzMaO9dhK7E84ylYBFM",
      "include_colab_link": true
    },
    "kernelspec": {
      "name": "python3",
      "display_name": "Python 3"
    },
    "language_info": {
      "name": "python"
    }
  },
  "cells": [
    {
      "cell_type": "markdown",
      "metadata": {
        "id": "view-in-github",
        "colab_type": "text"
      },
      "source": [
        "<a href=\"https://colab.research.google.com/github/Trrunghau/AI/blob/main/plant_disease.ipynb\" target=\"_parent\"><img src=\"https://colab.research.google.com/assets/colab-badge.svg\" alt=\"Open In Colab\"/></a>"
      ]
    },
    {
      "cell_type": "code",
      "execution_count": 25,
      "metadata": {
        "id": "Rq5e0VJIf_8Q"
      },
      "outputs": [],
      "source": [
        "import tensorflow as tf\n",
        "from tensorflow import keras\n",
        "import numpy as np\n",
        "import matplotlib.pyplot as plt\n",
        "from tensorflow.keras.preprocessing.image import ImageDataGenerator\n",
        "import os\n",
        "from keras.models import Sequential\n",
        "from keras.layers import Dense, Dropout, Conv2D, MaxPooling2D, Flatten\n",
        "from keras.optimizers import Adam\n",
        "from keras.layers import LeakyReLU\n",
        "\n",
        "from os import listdir\n",
        "from numpy import asarray,save\n",
        "from keras.utils import load_img, img_to_array"
      ]
    },
    {
      "cell_type": "code",
      "source": [
        "### thay doi ti le anh tu 0->255 thanh 0->1\n",
        "train = ImageDataGenerator(rescale =1.0/255.0)\n",
        "test = ImageDataGenerator(rescale=1.0/255.0)"
      ],
      "metadata": {
        "id": "EZ4ISDy0gFI_"
      },
      "execution_count": 26,
      "outputs": []
    },
    {
      "cell_type": "code",
      "source": [
        "train_data = train.flow_from_directory('/content/drive/MyDrive/data', target_size=(128,128), class_mode='categorical')\n",
        "test_data = test.flow_from_directory('/content/drive/MyDrive/data_test', target_size=(128,128), class_mode='categorical')"
      ],
      "metadata": {
        "colab": {
          "base_uri": "https://localhost:8080/"
        },
        "id": "rk--VepwhubQ",
        "outputId": "4738bf2d-f220-446a-89dd-2106564544cd"
      },
      "execution_count": 27,
      "outputs": [
        {
          "output_type": "stream",
          "name": "stdout",
          "text": [
            "Found 1190 images belonging to 6 classes.\n",
            "Found 262 images belonging to 6 classes.\n"
          ]
        }
      ]
    },
    {
      "cell_type": "code",
      "source": [
        "print('train_index :', train_data.class_indices)\n",
        "print('test_index:', test_data.class_indices)"
      ],
      "metadata": {
        "colab": {
          "base_uri": "https://localhost:8080/"
        },
        "id": "5W4Od-0DhyyO",
        "outputId": "703fb184-9b50-402c-981c-396eed4316b0"
      },
      "execution_count": 28,
      "outputs": [
        {
          "output_type": "stream",
          "name": "stdout",
          "text": [
            "train_index : {'Corn_Common_Rust': 0, 'Corn_Gray_Leaf_Spot': 1, 'Corn_Healthy': 2, 'bean_healthy': 3, 'bean_leaf_spot': 4, 'bean_rust': 5}\n",
            "test_index: {'Corn_Common_Rust': 0, 'Corn_Gray_leaf_spot': 1, 'Corn_Heathy': 2, 'bean_healthy': 3, 'bean_leaf_spot': 4, 'bean_rust': 5}\n"
          ]
        }
      ]
    },
    {
      "cell_type": "code",
      "source": [
        "model= Sequential()\n",
        "## lop CNN1\n",
        "model.add(Conv2D(64, kernel_size=(3,3), activation='linear',input_shape=(128,128,3), padding='same'))\n",
        "model.add(LeakyReLU(alpha=0.1))\n",
        "model.add(MaxPooling2D((2,2), padding='same'))\n",
        "## lop CNN2\n",
        "model.add(Conv2D(64,(3,3),activation='linear', padding='same'))\n",
        "model.add(LeakyReLU(alpha=0.1))\n",
        "model.add(MaxPooling2D((2,2), padding='same'))\n",
        "## lop CNN3\n",
        "model.add(Conv2D(128,(3,3),activation='linear', padding='same'))\n",
        "model.add(LeakyReLU(alpha=0.1))\n",
        "model.add(MaxPooling2D((2,2), padding='same'))\n",
        "## lop CNN4\n",
        "model.add(Conv2D(256,(3,3),activation='linear', padding='same'))\n",
        "model.add(LeakyReLU(alpha=0.1))\n",
        "model.add(MaxPooling2D((2,2), padding='same'))\n",
        "## lop CNN5\n",
        "model.add(Conv2D(512,(3,3),activation='linear', padding='same'))\n",
        "model.add(LeakyReLU(alpha=0.1))\n",
        "model.add(MaxPooling2D((2,2), padding='same'))\n",
        "\n",
        "classes = 6"
      ],
      "metadata": {
        "id": "3Nat1eGHh2P6"
      },
      "execution_count": 29,
      "outputs": []
    },
    {
      "cell_type": "code",
      "source": [
        "# chuyen du lieu tu CNN ve ANN ( 2 chieu ve 1 chieu)\n",
        "model.add(Flatten())\n",
        "##lop hidden1\n",
        "model.add(Dense(256,activation='linear'))\n",
        "model.add(Dropout(0.5))\n",
        "model.add(LeakyReLU(alpha=0.1))\n",
        "model.add(Dense(128,activation='linear'))\n",
        "model.add(Dropout(0.5))\n",
        "# lop outpu\n",
        "model.add(Dense(classes, activation='softmax'))"
      ],
      "metadata": {
        "id": "IxYF5kySh7Vz"
      },
      "execution_count": 30,
      "outputs": []
    },
    {
      "cell_type": "code",
      "source": [
        "model.compile(loss='categorical_crossentropy', optimizer=Adam(), metrics=['accuracy'])\n",
        "model.summary()"
      ],
      "metadata": {
        "colab": {
          "base_uri": "https://localhost:8080/"
        },
        "id": "AQIku2Sfh9tc",
        "outputId": "69c20b35-eb19-4d3a-ccc1-ce3dae66f376"
      },
      "execution_count": 31,
      "outputs": [
        {
          "output_type": "stream",
          "name": "stdout",
          "text": [
            "Model: \"sequential_2\"\n",
            "_________________________________________________________________\n",
            " Layer (type)                Output Shape              Param #   \n",
            "=================================================================\n",
            " conv2d_10 (Conv2D)          (None, 128, 128, 64)      1792      \n",
            "                                                                 \n",
            " leaky_re_lu_12 (LeakyReLU)  (None, 128, 128, 64)      0         \n",
            "                                                                 \n",
            " max_pooling2d_10 (MaxPoolin  (None, 64, 64, 64)       0         \n",
            " g2D)                                                            \n",
            "                                                                 \n",
            " conv2d_11 (Conv2D)          (None, 64, 64, 64)        36928     \n",
            "                                                                 \n",
            " leaky_re_lu_13 (LeakyReLU)  (None, 64, 64, 64)        0         \n",
            "                                                                 \n",
            " max_pooling2d_11 (MaxPoolin  (None, 32, 32, 64)       0         \n",
            " g2D)                                                            \n",
            "                                                                 \n",
            " conv2d_12 (Conv2D)          (None, 32, 32, 128)       73856     \n",
            "                                                                 \n",
            " leaky_re_lu_14 (LeakyReLU)  (None, 32, 32, 128)       0         \n",
            "                                                                 \n",
            " max_pooling2d_12 (MaxPoolin  (None, 16, 16, 128)      0         \n",
            " g2D)                                                            \n",
            "                                                                 \n",
            " conv2d_13 (Conv2D)          (None, 16, 16, 256)       295168    \n",
            "                                                                 \n",
            " leaky_re_lu_15 (LeakyReLU)  (None, 16, 16, 256)       0         \n",
            "                                                                 \n",
            " max_pooling2d_13 (MaxPoolin  (None, 8, 8, 256)        0         \n",
            " g2D)                                                            \n",
            "                                                                 \n",
            " conv2d_14 (Conv2D)          (None, 8, 8, 512)         1180160   \n",
            "                                                                 \n",
            " leaky_re_lu_16 (LeakyReLU)  (None, 8, 8, 512)         0         \n",
            "                                                                 \n",
            " max_pooling2d_14 (MaxPoolin  (None, 4, 4, 512)        0         \n",
            " g2D)                                                            \n",
            "                                                                 \n",
            " flatten_2 (Flatten)         (None, 8192)              0         \n",
            "                                                                 \n",
            " dense_6 (Dense)             (None, 256)               2097408   \n",
            "                                                                 \n",
            " dropout_4 (Dropout)         (None, 256)               0         \n",
            "                                                                 \n",
            " leaky_re_lu_17 (LeakyReLU)  (None, 256)               0         \n",
            "                                                                 \n",
            " dense_7 (Dense)             (None, 128)               32896     \n",
            "                                                                 \n",
            " dropout_5 (Dropout)         (None, 128)               0         \n",
            "                                                                 \n",
            " dense_8 (Dense)             (None, 6)                 774       \n",
            "                                                                 \n",
            "=================================================================\n",
            "Total params: 3,718,982\n",
            "Trainable params: 3,718,982\n",
            "Non-trainable params: 0\n",
            "_________________________________________________________________\n"
          ]
        }
      ]
    },
    {
      "cell_type": "code",
      "source": [
        "history=model.fit(train_data,epochs=25,batch_size=512,verbose=1, \n",
        "                  validation_data=test_data)"
      ],
      "metadata": {
        "colab": {
          "base_uri": "https://localhost:8080/"
        },
        "id": "r9-VRH7rh-e2",
        "outputId": "12be2cab-e654-44ad-d8ee-4dedb569f3f4"
      },
      "execution_count": 33,
      "outputs": [
        {
          "output_type": "stream",
          "name": "stdout",
          "text": [
            "Epoch 1/25\n",
            "38/38 [==============================] - 141s 4s/step - loss: 1.3942 - accuracy: 0.4076 - val_loss: 1.4975 - val_accuracy: 0.3779\n",
            "Epoch 2/25\n",
            "38/38 [==============================] - 136s 4s/step - loss: 1.1991 - accuracy: 0.5639 - val_loss: 1.2676 - val_accuracy: 0.5305\n",
            "Epoch 3/25\n",
            "38/38 [==============================] - 129s 3s/step - loss: 0.9980 - accuracy: 0.6328 - val_loss: 1.0559 - val_accuracy: 0.5954\n",
            "Epoch 4/25\n",
            "38/38 [==============================] - 128s 3s/step - loss: 0.8463 - accuracy: 0.6840 - val_loss: 0.9933 - val_accuracy: 0.6489\n",
            "Epoch 5/25\n",
            "38/38 [==============================] - 139s 4s/step - loss: 0.8166 - accuracy: 0.6975 - val_loss: 0.8689 - val_accuracy: 0.6450\n",
            "Epoch 6/25\n",
            "38/38 [==============================] - 135s 4s/step - loss: 0.7872 - accuracy: 0.7176 - val_loss: 0.7805 - val_accuracy: 0.6908\n",
            "Epoch 7/25\n",
            "38/38 [==============================] - 128s 3s/step - loss: 0.6331 - accuracy: 0.7613 - val_loss: 0.7611 - val_accuracy: 0.7061\n",
            "Epoch 8/25\n",
            "38/38 [==============================] - 128s 3s/step - loss: 0.5614 - accuracy: 0.7756 - val_loss: 0.8725 - val_accuracy: 0.6985\n",
            "Epoch 9/25\n",
            "38/38 [==============================] - 127s 3s/step - loss: 0.5051 - accuracy: 0.8050 - val_loss: 0.8534 - val_accuracy: 0.6374\n",
            "Epoch 10/25\n",
            "38/38 [==============================] - 129s 3s/step - loss: 0.4695 - accuracy: 0.8143 - val_loss: 0.7013 - val_accuracy: 0.7443\n",
            "Epoch 11/25\n",
            "38/38 [==============================] - 136s 4s/step - loss: 0.5082 - accuracy: 0.8202 - val_loss: 0.8337 - val_accuracy: 0.7099\n",
            "Epoch 12/25\n",
            "38/38 [==============================] - 128s 3s/step - loss: 0.4313 - accuracy: 0.8319 - val_loss: 0.7918 - val_accuracy: 0.7328\n",
            "Epoch 13/25\n",
            "38/38 [==============================] - 137s 4s/step - loss: 0.5279 - accuracy: 0.8118 - val_loss: 0.7367 - val_accuracy: 0.7290\n",
            "Epoch 14/25\n",
            "38/38 [==============================] - 138s 4s/step - loss: 0.4149 - accuracy: 0.8387 - val_loss: 0.6932 - val_accuracy: 0.7710\n",
            "Epoch 15/25\n",
            "38/38 [==============================] - 128s 3s/step - loss: 0.3967 - accuracy: 0.8521 - val_loss: 0.6811 - val_accuracy: 0.7863\n",
            "Epoch 16/25\n",
            "38/38 [==============================] - 126s 3s/step - loss: 0.3610 - accuracy: 0.8639 - val_loss: 0.7768 - val_accuracy: 0.7595\n",
            "Epoch 17/25\n",
            "38/38 [==============================] - 127s 3s/step - loss: 0.3872 - accuracy: 0.8647 - val_loss: 0.7224 - val_accuracy: 0.7786\n",
            "Epoch 18/25\n",
            "38/38 [==============================] - 138s 4s/step - loss: 0.3886 - accuracy: 0.8605 - val_loss: 0.5490 - val_accuracy: 0.7634\n",
            "Epoch 19/25\n",
            "38/38 [==============================] - 129s 3s/step - loss: 0.3049 - accuracy: 0.8933 - val_loss: 0.6088 - val_accuracy: 0.8015\n",
            "Epoch 20/25\n",
            "38/38 [==============================] - 126s 3s/step - loss: 0.2802 - accuracy: 0.9000 - val_loss: 0.6142 - val_accuracy: 0.8206\n",
            "Epoch 21/25\n",
            "38/38 [==============================] - 139s 4s/step - loss: 0.2522 - accuracy: 0.9084 - val_loss: 0.7306 - val_accuracy: 0.8206\n",
            "Epoch 22/25\n",
            "38/38 [==============================] - 137s 4s/step - loss: 0.2481 - accuracy: 0.8992 - val_loss: 0.7630 - val_accuracy: 0.8244\n",
            "Epoch 23/25\n",
            "38/38 [==============================] - 129s 3s/step - loss: 0.2479 - accuracy: 0.9286 - val_loss: 0.9207 - val_accuracy: 0.7328\n",
            "Epoch 24/25\n",
            "38/38 [==============================] - 137s 4s/step - loss: 0.2739 - accuracy: 0.8966 - val_loss: 0.7311 - val_accuracy: 0.7634\n",
            "Epoch 25/25\n",
            "38/38 [==============================] - 127s 3s/step - loss: 0.1938 - accuracy: 0.9210 - val_loss: 0.6423 - val_accuracy: 0.8206\n"
          ]
        }
      ]
    },
    {
      "cell_type": "code",
      "source": [
        "value=model.evaluate(test_data,verbose=0)\n",
        "print('loss', value[0])\n",
        "print('accuracy', value[1])"
      ],
      "metadata": {
        "id": "vhJfI6NeiDSm",
        "colab": {
          "base_uri": "https://localhost:8080/"
        },
        "outputId": "a596d6a7-6b08-4d98-a182-18c22dde35b4"
      },
      "execution_count": 34,
      "outputs": [
        {
          "output_type": "stream",
          "name": "stdout",
          "text": [
            "loss 0.6423370838165283\n",
            "accuracy 0.8206107020378113\n"
          ]
        }
      ]
    },
    {
      "cell_type": "code",
      "source": [
        "model.save('/content/drive/MyDrive/Colab Notebooks/modelfinalK3.h5')"
      ],
      "metadata": {
        "id": "wZSiYCDFDcxw"
      },
      "execution_count": null,
      "outputs": []
    },
    {
      "cell_type": "code",
      "source": [
        "model.save('/content/drive/MyDrive/MyPicture/VN_Foods_Data/model_food.h5')\n",
        "accuracy =history.history['accuracy']\n",
        "loss = history.history['loss']\n",
        "epochs=range(len(accuracy))\n",
        "\n",
        "import matplotlib.pyplot as plt\n",
        "plt.plot(epochs, accuracy, 'bo', label='Training accuracy', color='green')\n",
        "plt.plot(epochs,loss , 'b', label ='Training loss')\n",
        "plt.show()"
      ],
      "metadata": {
        "id": "oOlNLHFuiFh7"
      },
      "execution_count": null,
      "outputs": []
    },
    {
      "cell_type": "code",
      "source": [
        "name_foods=['Banh cuon', 'Banh mi','Banh xeo','Bun bo Hue','Bun dau mam tom','Chao long','Com tam','Goi cuon','Mi quang','Pho']\n",
        "filePath = '/content/drive/MyDrive/MyPicture/VN_Foods/bun_dau.jpg'\n",
        "testImage = load_img(filePath, color_mode = 'rgb', target_size=(150,150))\n",
        "arrayImage = img_to_array(testImage).reshape(1,150,150,3)/255\n",
        "pred = int(np.argmax(model.predict(arrayImage)))\n",
        "print(\"Predicted: \", name_foods[pred])\n",
        "plt.imshow(testImage)"
      ],
      "metadata": {
        "id": "SRNUkhcFiH7Z"
      },
      "execution_count": null,
      "outputs": []
    }
  ]
}
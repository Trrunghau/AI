{
  "nbformat": 4,
  "nbformat_minor": 0,
  "metadata": {
    "colab": {
      "provenance": [],
      "authorship_tag": "ABX9TyNE/cAK+D6sj/eVwLCKmnU5",
      "include_colab_link": true
    },
    "kernelspec": {
      "name": "python3",
      "display_name": "Python 3"
    },
    "language_info": {
      "name": "python"
    }
  },
  "cells": [
    {
      "cell_type": "markdown",
      "metadata": {
        "id": "view-in-github",
        "colab_type": "text"
      },
      "source": [
        "<a href=\"https://colab.research.google.com/github/Trrunghau/AI/blob/main/c%C3%A2n%20b%E1%BA%B1ng%20histogram.ipynb\" target=\"_parent\"><img src=\"https://colab.research.google.com/assets/colab-badge.svg\" alt=\"Open In Colab\"/></a>"
      ]
    },
    {
      "cell_type": "code",
      "execution_count": null,
      "metadata": {
        "id": "gHpSZrMn1K9m"
      },
      "outputs": [],
      "source": [
        "import cv2              # sử dụng thư viện xử lý ảnh OpenCV\n",
        "from PIL import Image   # Thư viện xử lý ảnh PILLOW hổ trợ nhiều định dạng ảnh\n",
        "import numpy as np      # Thư viện toán học, hổ trợ trính toán trong ma trận\n",
        "import tkinter as tk\n",
        "import os\n",
        "import tkinter.filedialog as fd\n",
        "def xuly(even):\n",
        "    global wd\n",
        "    v=fd.askdirectory(parent=wd, initialdir=os.getcwd(),title='chọn thư mục')\n",
        "    print(v)\n",
        "    \n",
        "def gd():\n",
        "    global wd\n",
        "    wd = tk.Tk()\n",
        "    wd.geometry('600x300')\n",
        "    wd.title('file dialog')\n",
        "    bt=tk.Button(wd,text='open')\n",
        "    bt.pack()\n",
        "    bt.bind('<Button-1>',xuly)\n",
        "gd()\n",
        "# khai báo đường dẫn file hình\n",
        "filehinh = r'lena.jpg'\n",
        "\n",
        "# đọc ảnh màu dung thư viện OpenCV\n",
        "img = cv2.imread(filehinh, cv2.IMREAD_COLOR)\n",
        "\n",
        "# đọc ảnh màu dùng thư viện PIL\n",
        "# ảnh PIL dùng để thực hiện tác vụ tính toán xử lý thay cho OpenCV\n",
        "imgPIL = Image.open(filehinh)\n",
        "\n",
        "# tạo ảnh có cùng kích thước và mode với ảnh imgPIL\n",
        "# ảnh này dùng để chứa kế quả chuyển đổi RGB sang Grayscale\n",
        "average   = Image.new(imgPIL.mode,imgPIL.size)\n",
        "lightness = Image.new(imgPIL.mode,imgPIL.size)\n",
        "luminance = Image.new(imgPIL.mode,imgPIL.size)\n",
        "\n",
        "# lấy kích thước của ảnh từ imgPIL\n",
        "width  = imgPIL.size[0]\n",
        "height = imgPIL.size[1]\n",
        "\n",
        "# mỗi ảnh là một ma trận chiều\n",
        "for x in range(width):\n",
        "    for y in range(height):\n",
        "        # lấy giá trị điểm ảnh tại vị trí x,y\n",
        "        R,G,B = imgPIL.getpixel((x,y))\n",
        "\n",
        "\n",
        "        # Công thức chuyển đổi ảnh màu sang ảnh xám dùng pp Average\n",
        "        grayAverage = np.uint8((R+G+B)/3)\n",
        "\n",
        "        #Chuyển đổi điểm ảnh màu RGB sang mức xám dùng phương pháp Lightness\n",
        "        MIN=min(R,G,B)\n",
        "        MAX=max(R,G,B)\n",
        "        grayLightness= np.uint8((MIN+MAX)/2)\n",
        "\n",
        "        #Chuyển đổi điểm ảnh màu RGB sang mức xám dùng phương pháp Luminance\n",
        "        grayLuminance= np.uint8(0.2126*R + 0.7152*G + 0.0722*B)\n",
        "\n",
        "\n",
        "        # gán giá trị múc xám vừa tính cho ảnh xám\n",
        "        average  .putpixel((x,y),(grayAverage,grayAverage,grayAverage))\n",
        "        lightness.putpixel((x,y),(grayLightness,grayLightness,grayLightness))\n",
        "        luminance.putpixel((x,y),(grayLuminance,grayLuminance,grayLuminance))\n",
        "\n",
        "# chuyển ảnh từ PIL sang OpenCv để hiển thị bằng opencv\n",
        "anhxamAverage = np.array(average)\n",
        "anhxamLightness = np.array(lightness)\n",
        "anhxamLuminance = np.array(luminance)\n",
        "\n",
        "# hiển thị ảnh dùng thư viện openCV\n",
        "cv2.imshow('Original', img)\n",
        "cv2.imshow('Average', anhxamAverage)\n",
        "cv2.imshow('Lightness', anhxamLightness)\n",
        "cv2.imshow('Luminance', anhxamLuminance)\n",
        "\n",
        "# nhấn phím bất kỳ để đóng cửa sổ hiển thị hình\n",
        "cv2.waitKey(0)\n",
        "\n",
        "# giải phóng bộ nhớ đã cấp phát cho các cửa sổ hiển thị hình\n",
        "cv2.destroyAllWindows()\n",
        "\n",
        "\n"
      ]
    }
  ]
}
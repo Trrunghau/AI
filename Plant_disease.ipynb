{
  "nbformat": 4,
  "nbformat_minor": 0,
  "metadata": {
    "colab": {
      "provenance": [],
      "mount_file_id": "https://github.com/Trrunghau/AI/blob/main/plant_disease.ipynb",
      "authorship_tag": "ABX9TyMjWyO8MOPzZRDdlVpDI+nE",
      "include_colab_link": true
    },
    "kernelspec": {
      "name": "python3",
      "display_name": "Python 3"
    },
    "language_info": {
      "name": "python"
    }
  },
  "cells": [
    {
      "cell_type": "markdown",
      "metadata": {
        "id": "view-in-github",
        "colab_type": "text"
      },
      "source": [
        "<a href=\"https://colab.research.google.com/github/Trrunghau/AI/blob/main/Plant_disease.ipynb\" target=\"_parent\"><img src=\"https://colab.research.google.com/assets/colab-badge.svg\" alt=\"Open In Colab\"/></a>"
      ]
    },
    {
      "cell_type": "code",
      "execution_count": 14,
      "metadata": {
        "id": "Rq5e0VJIf_8Q"
      },
      "outputs": [],
      "source": [
        "import tensorflow as tf\n",
        "from tensorflow import keras\n",
        "import numpy as np\n",
        "import matplotlib.pyplot as plt\n",
        "from tensorflow.keras.preprocessing.image import ImageDataGenerator\n",
        "import os\n",
        "from keras.models import Sequential\n",
        "from keras.layers import Dense, Dropout, Conv2D, MaxPooling2D, Flatten\n",
        "from keras.optimizers import Adam\n",
        "from keras.layers import LeakyReLU\n",
        "\n",
        "from os import listdir\n",
        "from numpy import asarray,save\n",
        "from keras.utils import load_img, img_to_array"
      ]
    },
    {
      "cell_type": "code",
      "source": [
        "### thay doi ti le anh tu 0->255 thanh 0->1\n",
        "train = ImageDataGenerator(rescale =1.0/255.0)\n",
        "test = ImageDataGenerator(rescale=1.0/255.0)"
      ],
      "metadata": {
        "id": "EZ4ISDy0gFI_"
      },
      "execution_count": 15,
      "outputs": []
    },
    {
      "cell_type": "code",
      "source": [
        "train_data = train.flow_from_directory('/content/drive/MyDrive/data', target_size=(128,128), class_mode='categorical')\n",
        "test_data = test.flow_from_directory('/content/drive/MyDrive/data_test', target_size=(128,128), class_mode='categorical')"
      ],
      "metadata": {
        "colab": {
          "base_uri": "https://localhost:8080/"
        },
        "id": "rk--VepwhubQ",
        "outputId": "3880d229-7155-4b47-9f5a-90266a6edb94"
      },
      "execution_count": 16,
      "outputs": [
        {
          "output_type": "stream",
          "name": "stdout",
          "text": [
            "Found 1190 images belonging to 6 classes.\n",
            "Found 262 images belonging to 6 classes.\n"
          ]
        }
      ]
    },
    {
      "cell_type": "code",
      "source": [
        "print('train_index :', train_data.class_indices)\n",
        "print('test_index:', test_data.class_indices)"
      ],
      "metadata": {
        "colab": {
          "base_uri": "https://localhost:8080/"
        },
        "id": "5W4Od-0DhyyO",
        "outputId": "ed680b73-5f20-4b6c-b901-dd3e2feacc15"
      },
      "execution_count": 17,
      "outputs": [
        {
          "output_type": "stream",
          "name": "stdout",
          "text": [
            "train_index : {'Corn_Common_Rust': 0, 'Corn_Gray_Leaf_Spot': 1, 'Corn_Healthy': 2, 'bean_healthy': 3, 'bean_leaf_spot': 4, 'bean_rust': 5}\n",
            "test_index: {'Corn_Common_Rust': 0, 'Corn_Gray_leaf_spot': 1, 'Corn_Heathy': 2, 'bean_healthy': 3, 'bean_leaf_spot': 4, 'bean_rust': 5}\n"
          ]
        }
      ]
    },
    {
      "cell_type": "code",
      "source": [
        "model= Sequential()\n",
        "## lop CNN1\n",
        "model.add(Conv2D(64, kernel_size=(3,3), activation='linear',input_shape=(128,128,3), padding='same'))\n",
        "model.add(LeakyReLU(alpha=0.1))\n",
        "model.add(MaxPooling2D((2,2), padding='same'))\n",
        "## lop CNN2\n",
        "model.add(Conv2D(64,(3,3),activation='linear', padding='same'))\n",
        "model.add(LeakyReLU(alpha=0.1))\n",
        "model.add(MaxPooling2D((2,2), padding='same'))\n",
        "## lop CNN3\n",
        "model.add(Conv2D(128,(3,3),activation='linear', padding='same'))\n",
        "model.add(LeakyReLU(alpha=0.1))\n",
        "model.add(MaxPooling2D((2,2), padding='same'))\n",
        "## lop CNN4\n",
        "model.add(Conv2D(256,(3,3),activation='linear', padding='same'))\n",
        "model.add(LeakyReLU(alpha=0.1))\n",
        "model.add(MaxPooling2D((2,2), padding='same'))\n",
        "## lop CNN5\n",
        "model.add(Conv2D(512,(3,3),activation='linear', padding='same'))\n",
        "model.add(LeakyReLU(alpha=0.1))\n",
        "model.add(MaxPooling2D((2,2), padding='same'))\n",
        "\n",
        "classes = 6"
      ],
      "metadata": {
        "id": "3Nat1eGHh2P6"
      },
      "execution_count": 18,
      "outputs": []
    },
    {
      "cell_type": "code",
      "source": [
        "# chuyen du lieu tu CNN ve ANN ( 2 chieu ve 1 chieu)\n",
        "model.add(Flatten())\n",
        "##lop hidden1\n",
        "model.add(Dense(256,activation='linear'))\n",
        "model.add(Dropout(0.5))\n",
        "model.add(LeakyReLU(alpha=0.1))\n",
        "model.add(Dense(128,activation='linear'))\n",
        "model.add(Dropout(0.5))\n",
        "# lop outpu\n",
        "model.add(Dense(classes, activation='softmax'))"
      ],
      "metadata": {
        "id": "IxYF5kySh7Vz"
      },
      "execution_count": 19,
      "outputs": []
    },
    {
      "cell_type": "code",
      "source": [
        "model.compile(loss='categorical_crossentropy', optimizer=Adam(), metrics=['accuracy'])\n",
        "model.summary()"
      ],
      "metadata": {
        "colab": {
          "base_uri": "https://localhost:8080/"
        },
        "id": "AQIku2Sfh9tc",
        "outputId": "7e04308a-5fa9-46f6-b72a-0fa61b1f76bb"
      },
      "execution_count": 20,
      "outputs": [
        {
          "output_type": "stream",
          "name": "stdout",
          "text": [
            "Model: \"sequential_1\"\n",
            "_________________________________________________________________\n",
            " Layer (type)                Output Shape              Param #   \n",
            "=================================================================\n",
            " conv2d_5 (Conv2D)           (None, 128, 128, 64)      1792      \n",
            "                                                                 \n",
            " leaky_re_lu_6 (LeakyReLU)   (None, 128, 128, 64)      0         \n",
            "                                                                 \n",
            " max_pooling2d_5 (MaxPooling  (None, 64, 64, 64)       0         \n",
            " 2D)                                                             \n",
            "                                                                 \n",
            " conv2d_6 (Conv2D)           (None, 64, 64, 64)        36928     \n",
            "                                                                 \n",
            " leaky_re_lu_7 (LeakyReLU)   (None, 64, 64, 64)        0         \n",
            "                                                                 \n",
            " max_pooling2d_6 (MaxPooling  (None, 32, 32, 64)       0         \n",
            " 2D)                                                             \n",
            "                                                                 \n",
            " conv2d_7 (Conv2D)           (None, 32, 32, 128)       73856     \n",
            "                                                                 \n",
            " leaky_re_lu_8 (LeakyReLU)   (None, 32, 32, 128)       0         \n",
            "                                                                 \n",
            " max_pooling2d_7 (MaxPooling  (None, 16, 16, 128)      0         \n",
            " 2D)                                                             \n",
            "                                                                 \n",
            " conv2d_8 (Conv2D)           (None, 16, 16, 256)       295168    \n",
            "                                                                 \n",
            " leaky_re_lu_9 (LeakyReLU)   (None, 16, 16, 256)       0         \n",
            "                                                                 \n",
            " max_pooling2d_8 (MaxPooling  (None, 8, 8, 256)        0         \n",
            " 2D)                                                             \n",
            "                                                                 \n",
            " conv2d_9 (Conv2D)           (None, 8, 8, 512)         1180160   \n",
            "                                                                 \n",
            " leaky_re_lu_10 (LeakyReLU)  (None, 8, 8, 512)         0         \n",
            "                                                                 \n",
            " max_pooling2d_9 (MaxPooling  (None, 4, 4, 512)        0         \n",
            " 2D)                                                             \n",
            "                                                                 \n",
            " flatten_1 (Flatten)         (None, 8192)              0         \n",
            "                                                                 \n",
            " dense_3 (Dense)             (None, 256)               2097408   \n",
            "                                                                 \n",
            " dropout_2 (Dropout)         (None, 256)               0         \n",
            "                                                                 \n",
            " leaky_re_lu_11 (LeakyReLU)  (None, 256)               0         \n",
            "                                                                 \n",
            " dense_4 (Dense)             (None, 128)               32896     \n",
            "                                                                 \n",
            " dropout_3 (Dropout)         (None, 128)               0         \n",
            "                                                                 \n",
            " dense_5 (Dense)             (None, 6)                 774       \n",
            "                                                                 \n",
            "=================================================================\n",
            "Total params: 3,718,982\n",
            "Trainable params: 3,718,982\n",
            "Non-trainable params: 0\n",
            "_________________________________________________________________\n"
          ]
        }
      ]
    },
    {
      "cell_type": "code",
      "source": [
        "history=model.fit(train_data,epochs=30,batch_size=512,verbose=1, \n",
        "                  validation_data=test_data)"
      ],
      "metadata": {
        "colab": {
          "base_uri": "https://localhost:8080/"
        },
        "id": "r9-VRH7rh-e2",
        "outputId": "c76e2a90-66e1-40a1-db2d-e11f0f5c7fb9"
      },
      "execution_count": 21,
      "outputs": [
        {
          "output_type": "stream",
          "name": "stdout",
          "text": [
            "Epoch 1/30\n",
            "38/38 [==============================] - 150s 4s/step - loss: 1.5792 - accuracy: 0.3597 - val_loss: 1.3819 - val_accuracy: 0.4275\n",
            "Epoch 2/30\n",
            "38/38 [==============================] - 138s 4s/step - loss: 1.0250 - accuracy: 0.6059 - val_loss: 1.1141 - val_accuracy: 0.6069\n",
            "Epoch 3/30\n",
            "38/38 [==============================] - 127s 3s/step - loss: 0.9052 - accuracy: 0.6756 - val_loss: 1.1576 - val_accuracy: 0.5382\n",
            "Epoch 4/30\n",
            "38/38 [==============================] - 138s 4s/step - loss: 0.7205 - accuracy: 0.7437 - val_loss: 1.1177 - val_accuracy: 0.5802\n",
            "Epoch 5/30\n",
            "38/38 [==============================] - 137s 4s/step - loss: 0.6316 - accuracy: 0.7723 - val_loss: 1.1107 - val_accuracy: 0.5687\n",
            "Epoch 6/30\n",
            "38/38 [==============================] - 128s 3s/step - loss: 0.6183 - accuracy: 0.7748 - val_loss: 1.0799 - val_accuracy: 0.6260\n",
            "Epoch 7/30\n",
            "38/38 [==============================] - 137s 4s/step - loss: 0.5708 - accuracy: 0.7958 - val_loss: 0.6781 - val_accuracy: 0.7519\n",
            "Epoch 8/30\n",
            "38/38 [==============================] - 129s 3s/step - loss: 0.4893 - accuracy: 0.8235 - val_loss: 0.7239 - val_accuracy: 0.7214\n",
            "Epoch 9/30\n",
            "38/38 [==============================] - 128s 3s/step - loss: 0.5047 - accuracy: 0.8210 - val_loss: 0.6340 - val_accuracy: 0.7481\n",
            "Epoch 10/30\n",
            "38/38 [==============================] - 137s 4s/step - loss: 0.4344 - accuracy: 0.8378 - val_loss: 0.7099 - val_accuracy: 0.7328\n",
            "Epoch 11/30\n",
            "38/38 [==============================] - 128s 3s/step - loss: 0.3709 - accuracy: 0.8664 - val_loss: 0.5357 - val_accuracy: 0.7748\n",
            "Epoch 12/30\n",
            "38/38 [==============================] - 126s 3s/step - loss: 0.3592 - accuracy: 0.8697 - val_loss: 0.5179 - val_accuracy: 0.7748\n",
            "Epoch 13/30\n",
            "38/38 [==============================] - 138s 4s/step - loss: 0.3244 - accuracy: 0.8790 - val_loss: 0.6195 - val_accuracy: 0.7901\n",
            "Epoch 14/30\n",
            "38/38 [==============================] - 137s 4s/step - loss: 0.3382 - accuracy: 0.8782 - val_loss: 0.5026 - val_accuracy: 0.8092\n",
            "Epoch 15/30\n",
            "38/38 [==============================] - 126s 3s/step - loss: 0.2610 - accuracy: 0.8983 - val_loss: 0.5558 - val_accuracy: 0.8244\n",
            "Epoch 16/30\n",
            "38/38 [==============================] - 139s 4s/step - loss: 0.2321 - accuracy: 0.9193 - val_loss: 0.7338 - val_accuracy: 0.7634\n",
            "Epoch 17/30\n",
            "38/38 [==============================] - 140s 4s/step - loss: 0.1852 - accuracy: 0.9420 - val_loss: 0.7071 - val_accuracy: 0.8321\n",
            "Epoch 18/30\n",
            "38/38 [==============================] - 130s 3s/step - loss: 0.2862 - accuracy: 0.8950 - val_loss: 0.6801 - val_accuracy: 0.8015\n",
            "Epoch 19/30\n",
            "38/38 [==============================] - 139s 4s/step - loss: 0.1906 - accuracy: 0.9286 - val_loss: 0.7421 - val_accuracy: 0.8053\n",
            "Epoch 20/30\n",
            "38/38 [==============================] - 127s 3s/step - loss: 0.1703 - accuracy: 0.9403 - val_loss: 0.7090 - val_accuracy: 0.7672\n",
            "Epoch 21/30\n",
            "38/38 [==============================] - 138s 4s/step - loss: 0.1154 - accuracy: 0.9513 - val_loss: 0.7312 - val_accuracy: 0.8206\n",
            "Epoch 22/30\n",
            "38/38 [==============================] - 128s 3s/step - loss: 0.0914 - accuracy: 0.9664 - val_loss: 0.7717 - val_accuracy: 0.8282\n",
            "Epoch 23/30\n",
            "38/38 [==============================] - 127s 3s/step - loss: 0.1017 - accuracy: 0.9655 - val_loss: 0.6992 - val_accuracy: 0.8282\n",
            "Epoch 24/30\n",
            "38/38 [==============================] - 128s 3s/step - loss: 0.1709 - accuracy: 0.9420 - val_loss: 0.9362 - val_accuracy: 0.7634\n",
            "Epoch 25/30\n",
            "38/38 [==============================] - 138s 4s/step - loss: 0.1220 - accuracy: 0.9538 - val_loss: 0.8891 - val_accuracy: 0.7863\n",
            "Epoch 26/30\n",
            "38/38 [==============================] - 138s 4s/step - loss: 0.1188 - accuracy: 0.9580 - val_loss: 1.2325 - val_accuracy: 0.7786\n",
            "Epoch 27/30\n",
            "38/38 [==============================] - 138s 4s/step - loss: 0.0930 - accuracy: 0.9664 - val_loss: 1.1195 - val_accuracy: 0.7786\n",
            "Epoch 28/30\n",
            "38/38 [==============================] - 138s 4s/step - loss: 0.0740 - accuracy: 0.9739 - val_loss: 0.8683 - val_accuracy: 0.8435\n",
            "Epoch 29/30\n",
            "38/38 [==============================] - 136s 4s/step - loss: 0.3923 - accuracy: 0.9109 - val_loss: 0.7305 - val_accuracy: 0.7786\n",
            "Epoch 30/30\n",
            "38/38 [==============================] - 137s 4s/step - loss: 0.1770 - accuracy: 0.9479 - val_loss: 1.0788 - val_accuracy: 0.8015\n"
          ]
        }
      ]
    },
    {
      "cell_type": "code",
      "source": [
        "value=model.evaluate(test_data,verbose=0)\n",
        "print('loss', value[0])\n",
        "print('accuracy', value[1])"
      ],
      "metadata": {
        "id": "vhJfI6NeiDSm",
        "colab": {
          "base_uri": "https://localhost:8080/"
        },
        "outputId": "0a5ca887-afac-45c5-fc39-71b43edcc9d4"
      },
      "execution_count": 22,
      "outputs": [
        {
          "output_type": "stream",
          "name": "stdout",
          "text": [
            "loss 1.0787616968154907\n",
            "accuracy 0.8015267252922058\n"
          ]
        }
      ]
    },
    {
      "cell_type": "code",
      "source": [
        "model.save('/content/drive/MyDrive/Colab Notebooks/modelfinalK4.h5')"
      ],
      "metadata": {
        "id": "wZSiYCDFDcxw"
      },
      "execution_count": 23,
      "outputs": []
    },
    {
      "cell_type": "code",
      "source": [
        "\n",
        "accuracy =history.history['accuracy']\n",
        "loss = history.history['loss']\n",
        "epochs=range(len(accuracy))\n",
        "\n",
        "import matplotlib.pyplot as plt\n",
        "plt.plot(epochs, accuracy, 'bo', label='Training accuracy', color='green')\n",
        "plt.plot(epochs,loss , 'b', label ='Training loss')\n",
        "plt.show()"
      ],
      "metadata": {
        "id": "oOlNLHFuiFh7",
        "outputId": "6213fe0a-11f6-4d51-e6c8-6a5220d499af",
        "colab": {
          "base_uri": "https://localhost:8080/",
          "height": 485
        }
      },
      "execution_count": 24,
      "outputs": [
        {
          "output_type": "stream",
          "name": "stderr",
          "text": [
            "<ipython-input-24-1135c77880a8>:7: UserWarning: color is redundantly defined by the 'color' keyword argument and the fmt string \"bo\" (-> color='b'). The keyword argument will take precedence.\n",
            "  plt.plot(epochs, accuracy, 'bo', label='Training accuracy', color='green')\n"
          ]
        },
        {
          "output_type": "display_data",
          "data": {
            "text/plain": [
              "<Figure size 640x480 with 1 Axes>"
            ],
            "image/png": "[encoded data removed]"
          },
          "metadata": {}
        }
      ]
    },
    {
      "cell_type": "code",
      "source": [
        "name_foods=['Banh cuon', 'Banh mi','Banh xeo','Bun bo Hue','Bun dau mam tom','Chao long','Com tam','Goi cuon','Mi quang','Pho']\n",
        "filePath = '/content/drive/MyDrive/MyPicture/VN_Foods/bun_dau.jpg'\n",
        "testImage = load_img(filePath, color_mode = 'rgb', target_size=(150,150))\n",
        "arrayImage = img_to_array(testImage).reshape(1,150,150,3)/255\n",
        "pred = int(np.argmax(model.predict(arrayImage)))\n",
        "print(\"Predicted: \", name_foods[pred])\n",
        "plt.imshow(testImage)"
      ],
      "metadata": {
        "id": "SRNUkhcFiH7Z",
        "outputId": "d636d8a4-98dc-49aa-db41-ce2c83dcd336",
        "colab": {
          "base_uri": "https://localhost:8080/",
          "height": 391
        }
      },
      "execution_count": 25,
      "outputs": [
        {
          "output_type": "error",
          "ename": "FileNotFoundError",
          "evalue": "ignored",
          "traceback": [
            "\u001b[0;31m---------------------------------------------------------------------------\u001b[0m",
            "\u001b[0;31mFileNotFoundError\u001b[0m                         Traceback (most recent call last)",
            "\u001b[0;32m<ipython-input-25-a6ae8b18d266>\u001b[0m in \u001b[0;36m<cell line: 3>\u001b[0;34m()\u001b[0m\n\u001b[1;32m      1\u001b[0m \u001b[0mname_foods\u001b[0m\u001b[0;34m=\u001b[0m\u001b[0;34m[\u001b[0m\u001b[0;34m'Banh cuon'\u001b[0m\u001b[0;34m,\u001b[0m \u001b[0;34m'Banh mi'\u001b[0m\u001b[0;34m,\u001b[0m\u001b[0;34m'Banh xeo'\u001b[0m\u001b[0;34m,\u001b[0m\u001b[0;34m'Bun bo Hue'\u001b[0m\u001b[0;34m,\u001b[0m\u001b[0;34m'Bun dau mam tom'\u001b[0m\u001b[0;34m,\u001b[0m\u001b[0;34m'Chao long'\u001b[0m\u001b[0;34m,\u001b[0m\u001b[0;34m'Com tam'\u001b[0m\u001b[0;34m,\u001b[0m\u001b[0;34m'Goi cuon'\u001b[0m\u001b[0;34m,\u001b[0m\u001b[0;34m'Mi quang'\u001b[0m\u001b[0;34m,\u001b[0m\u001b[0;34m'Pho'\u001b[0m\u001b[0;34m]\u001b[0m\u001b[0;34m\u001b[0m\u001b[0;34m\u001b[0m\u001b[0m\n\u001b[1;32m      2\u001b[0m \u001b[0mfilePath\u001b[0m \u001b[0;34m=\u001b[0m \u001b[0;34m'/content/drive/MyDrive/MyPicture/VN_Foods/bun_dau.jpg'\u001b[0m\u001b[0;34m\u001b[0m\u001b[0;34m\u001b[0m\u001b[0m\n\u001b[0;32m----> 3\u001b[0;31m \u001b[0mtestImage\u001b[0m \u001b[0;34m=\u001b[0m \u001b[0mload_img\u001b[0m\u001b[0;34m(\u001b[0m\u001b[0mfilePath\u001b[0m\u001b[0;34m,\u001b[0m \u001b[0mcolor_mode\u001b[0m \u001b[0;34m=\u001b[0m \u001b[0;34m'rgb'\u001b[0m\u001b[0;34m,\u001b[0m \u001b[0mtarget_size\u001b[0m\u001b[0;34m=\u001b[0m\u001b[0;34m(\u001b[0m\u001b[0;36m150\u001b[0m\u001b[0;34m,\u001b[0m\u001b[0;36m150\u001b[0m\u001b[0;34m)\u001b[0m\u001b[0;34m)\u001b[0m\u001b[0;34m\u001b[0m\u001b[0;34m\u001b[0m\u001b[0m\n\u001b[0m\u001b[1;32m      4\u001b[0m \u001b[0marrayImage\u001b[0m \u001b[0;34m=\u001b[0m \u001b[0mimg_to_array\u001b[0m\u001b[0;34m(\u001b[0m\u001b[0mtestImage\u001b[0m\u001b[0;34m)\u001b[0m\u001b[0;34m.\u001b[0m\u001b[0mreshape\u001b[0m\u001b[0;34m(\u001b[0m\u001b[0;36m1\u001b[0m\u001b[0;34m,\u001b[0m\u001b[0;36m150\u001b[0m\u001b[0;34m,\u001b[0m\u001b[0;36m150\u001b[0m\u001b[0;34m,\u001b[0m\u001b[0;36m3\u001b[0m\u001b[0;34m)\u001b[0m\u001b[0;34m/\u001b[0m\u001b[0;36m255\u001b[0m\u001b[0;34m\u001b[0m\u001b[0;34m\u001b[0m\u001b[0m\n\u001b[1;32m      5\u001b[0m \u001b[0mpred\u001b[0m \u001b[0;34m=\u001b[0m \u001b[0mint\u001b[0m\u001b[0;34m(\u001b[0m\u001b[0mnp\u001b[0m\u001b[0;34m.\u001b[0m\u001b[0margmax\u001b[0m\u001b[0;34m(\u001b[0m\u001b[0mmodel\u001b[0m\u001b[0;34m.\u001b[0m\u001b[0mpredict\u001b[0m\u001b[0;34m(\u001b[0m\u001b[0marrayImage\u001b[0m\u001b[0;34m)\u001b[0m\u001b[0;34m)\u001b[0m\u001b[0;34m)\u001b[0m\u001b[0;34m\u001b[0m\u001b[0;34m\u001b[0m\u001b[0m\n",
            "\u001b[0;32m/usr/local/lib/python3.10/dist-packages/keras/utils/image_utils.py\u001b[0m in \u001b[0;36mload_img\u001b[0;34m(path, grayscale, color_mode, target_size, interpolation, keep_aspect_ratio)\u001b[0m\n\u001b[1;32m    420\u001b[0m         \u001b[0;32mif\u001b[0m \u001b[0misinstance\u001b[0m\u001b[0;34m(\u001b[0m\u001b[0mpath\u001b[0m\u001b[0;34m,\u001b[0m \u001b[0mpathlib\u001b[0m\u001b[0;34m.\u001b[0m\u001b[0mPath\u001b[0m\u001b[0;34m)\u001b[0m\u001b[0;34m:\u001b[0m\u001b[0;34m\u001b[0m\u001b[0;34m\u001b[0m\u001b[0m\n\u001b[1;32m    421\u001b[0m             \u001b[0mpath\u001b[0m \u001b[0;34m=\u001b[0m \u001b[0mstr\u001b[0m\u001b[0;34m(\u001b[0m\u001b[0mpath\u001b[0m\u001b[0;34m.\u001b[0m\u001b[0mresolve\u001b[0m\u001b[0;34m(\u001b[0m\u001b[0;34m)\u001b[0m\u001b[0;34m)\u001b[0m\u001b[0;34m\u001b[0m\u001b[0;34m\u001b[0m\u001b[0m\n\u001b[0;32m--> 422\u001b[0;31m         \u001b[0;32mwith\u001b[0m \u001b[0mopen\u001b[0m\u001b[0;34m(\u001b[0m\u001b[0mpath\u001b[0m\u001b[0;34m,\u001b[0m \u001b[0;34m\"rb\"\u001b[0m\u001b[0;34m)\u001b[0m \u001b[0;32mas\u001b[0m \u001b[0mf\u001b[0m\u001b[0;34m:\u001b[0m\u001b[0;34m\u001b[0m\u001b[0;34m\u001b[0m\u001b[0m\n\u001b[0m\u001b[1;32m    423\u001b[0m             \u001b[0mimg\u001b[0m \u001b[0;34m=\u001b[0m \u001b[0mpil_image\u001b[0m\u001b[0;34m.\u001b[0m\u001b[0mopen\u001b[0m\u001b[0;34m(\u001b[0m\u001b[0mio\u001b[0m\u001b[0;34m.\u001b[0m\u001b[0mBytesIO\u001b[0m\u001b[0;34m(\u001b[0m\u001b[0mf\u001b[0m\u001b[0;34m.\u001b[0m\u001b[0mread\u001b[0m\u001b[0;34m(\u001b[0m\u001b[0;34m)\u001b[0m\u001b[0;34m)\u001b[0m\u001b[0;34m)\u001b[0m\u001b[0;34m\u001b[0m\u001b[0;34m\u001b[0m\u001b[0m\n\u001b[1;32m    424\u001b[0m     \u001b[0;32melse\u001b[0m\u001b[0;34m:\u001b[0m\u001b[0;34m\u001b[0m\u001b[0;34m\u001b[0m\u001b[0m\n",
            "\u001b[0;31mFileNotFoundError\u001b[0m: [Errno 2] No such file or directory: '/content/drive/MyDrive/MyPicture/VN_Foods/bun_dau.jpg'"
          ]
        }
      ]
    }
  ]
}
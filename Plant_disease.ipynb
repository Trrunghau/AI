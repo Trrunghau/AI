{
  "nbformat": 4,
  "nbformat_minor": 0,
  "metadata": {
    "colab": {
      "provenance": [],
      "mount_file_id": "https://github.com/Trrunghau/AI/blob/main/Plant_disease.ipynb",
      "authorship_tag": "ABX9TyPVEV4vOhEYV6ryhCe9Jq7W",
      "include_colab_link": true
    },
    "kernelspec": {
      "name": "python3",
      "display_name": "Python 3"
    },
    "language_info": {
      "name": "python"
    }
  },
  "cells": [
    {
      "cell_type": "markdown",
      "metadata": {
        "id": "view-in-github",
        "colab_type": "text"
      },
      "source": [
        "<a href=\"https://colab.research.google.com/github/Trrunghau/AI/blob/main/Plant_disease.ipynb\" target=\"_parent\"><img src=\"https://colab.research.google.com/assets/colab-badge.svg\" alt=\"Open In Colab\"/></a>"
      ]
    },
    {
      "cell_type": "code",
      "execution_count": 19,
      "metadata": {
        "id": "Rq5e0VJIf_8Q"
      },
      "outputs": [],
      "source": [
        "import tensorflow as tf\n",
        "from tensorflow import keras\n",
        "import numpy as np\n",
        "import matplotlib.pyplot as plt\n",
        "from tensorflow.keras.preprocessing.image import ImageDataGenerator\n",
        "import os\n",
        "from keras.models import Sequential\n",
        "from keras.layers import Dense, Dropout, Conv2D, MaxPooling2D, Flatten\n",
        "from keras.optimizers import Adam\n",
        "from keras.layers import LeakyReLU\n",
        "from keras.models import load_model\n",
        "from os import listdir\n",
        "from numpy import asarray,save\n",
        "from keras.utils import load_img, img_to_array"
      ]
    },
    {
      "cell_type": "code",
      "source": [
        "### thay doi ti le anh tu 0->255 thanh 0->1\n",
        "train = ImageDataGenerator(rescale =1.0/255.0,rotation_range = 0.2,\n",
        "                                   horizontal_flip = True,\n",
        "                                   vertical_flip = True,\n",
        "                                   zoom_range = 0.2)\n",
        "test = ImageDataGenerator(rescale=1.0/255.0)"
      ],
      "metadata": {
        "id": "EZ4ISDy0gFI_"
      },
      "execution_count": 20,
      "outputs": []
    },
    {
      "cell_type": "code",
      "source": [
        "train_data = train.flow_from_directory('/content/drive/MyDrive/data', target_size=(128,128),batch_size = 10, class_mode='categorical')\n",
        "test_data = test.flow_from_directory('/content/drive/MyDrive/data_test', target_size=(128,128), class_mode='categorical')"
      ],
      "metadata": {
        "colab": {
          "base_uri": "https://localhost:8080/"
        },
        "id": "rk--VepwhubQ",
        "outputId": "081f5242-0186-460f-b403-af0027e5717f"
      },
      "execution_count": 21,
      "outputs": [
        {
          "output_type": "stream",
          "name": "stdout",
          "text": [
            "Found 1190 images belonging to 6 classes.\n",
            "Found 219 images belonging to 6 classes.\n"
          ]
        }
      ]
    },
    {
      "cell_type": "code",
      "source": [
        "print('train_index :', train_data.class_indices)\n",
        "print('test_index:', test_data.class_indices)"
      ],
      "metadata": {
        "colab": {
          "base_uri": "https://localhost:8080/"
        },
        "id": "5W4Od-0DhyyO",
        "outputId": "4a7d3958-62d8-4b34-d8de-f3a3d483d848"
      },
      "execution_count": 22,
      "outputs": [
        {
          "output_type": "stream",
          "name": "stdout",
          "text": [
            "train_index : {'Corn_Common_Rust': 0, 'Corn_Gray_Leaf_Spot': 1, 'Corn_Healthy': 2, 'bean_healthy': 3, 'bean_leaf_spot': 4, 'bean_rust': 5}\n",
            "test_index: {'Corn_Common_Rust': 0, 'Corn_Gray_leaf_spot': 1, 'Corn_Heathy': 2, 'bean_healthy': 3, 'bean_leaf_spot': 4, 'bean_rust': 5}\n"
          ]
        }
      ]
    },
    {
      "cell_type": "code",
      "source": [
        "model= Sequential()\n",
        "## lop CNN1\n",
        "model.add(Conv2D(128, kernel_size=(3,3), activation='relu',input_shape=(128,128,3), padding='same'))\n",
        "model.add(MaxPooling2D((2,2), padding='same'))\n",
        "## lop CNN2\n",
        "model.add(Conv2D(64,(3,3),activation='relu', padding='same'))\n",
        "model.add(MaxPooling2D((2,2), padding='same'))\n",
        "## lop CNN3\n",
        "model.add(Conv2D(32,(3,3),activation='relu', padding='same'))\n",
        "model.add(MaxPooling2D((2,2), padding='same'))\n",
        "## lop CNN4\n",
        "model.add(Conv2D(16,(3,3),activation='relu', padding='same'))\n",
        "model.add(MaxPooling2D((2,2), padding='same'))\n",
        "## lop CNN5\n",
        "model.add(Conv2D(8,(3,3),activation='relu', padding='same'))\n",
        "model.add(MaxPooling2D((2,2), padding='same'))\n",
        "\n",
        "classes = 6"
      ],
      "metadata": {
        "id": "3Nat1eGHh2P6"
      },
      "execution_count": 23,
      "outputs": []
    },
    {
      "cell_type": "code",
      "source": [
        "# chuyen du lieu tu CNN ve ANN ( 2 chieu ve 1 chieu)\n",
        "model.add(Flatten())\n",
        "##lop hidden1\n",
        "model.add(Dense(1024,activation='relu'))\n",
        "model.add(Dropout(0.4))\n",
        "model.add(Dense(512,activation='relu'))\n",
        "model.add(Dropout(0.4))\n",
        "# lop outpu\n",
        "model.add(Dense(classes, activation='softmax'))"
      ],
      "metadata": {
        "id": "IxYF5kySh7Vz"
      },
      "execution_count": 24,
      "outputs": []
    },
    {
      "cell_type": "code",
      "source": [
        "model.compile(loss='categorical_crossentropy', optimizer=Adam(), metrics=['accuracy'])\n",
        "model.summary()"
      ],
      "metadata": {
        "colab": {
          "base_uri": "https://localhost:8080/"
        },
        "id": "AQIku2Sfh9tc",
        "outputId": "25096705-4922-4c8b-d2c6-bb82935d0ef3"
      },
      "execution_count": 25,
      "outputs": [
        {
          "output_type": "stream",
          "name": "stdout",
          "text": [
            "Model: \"sequential_2\"\n",
            "_________________________________________________________________\n",
            " Layer (type)                Output Shape              Param #   \n",
            "=================================================================\n",
            " conv2d_10 (Conv2D)          (None, 128, 128, 128)     3584      \n",
            "                                                                 \n",
            " max_pooling2d_10 (MaxPoolin  (None, 64, 64, 128)      0         \n",
            " g2D)                                                            \n",
            "                                                                 \n",
            " conv2d_11 (Conv2D)          (None, 64, 64, 64)        73792     \n",
            "                                                                 \n",
            " max_pooling2d_11 (MaxPoolin  (None, 32, 32, 64)       0         \n",
            " g2D)                                                            \n",
            "                                                                 \n",
            " conv2d_12 (Conv2D)          (None, 32, 32, 32)        18464     \n",
            "                                                                 \n",
            " max_pooling2d_12 (MaxPoolin  (None, 16, 16, 32)       0         \n",
            " g2D)                                                            \n",
            "                                                                 \n",
            " conv2d_13 (Conv2D)          (None, 16, 16, 16)        4624      \n",
            "                                                                 \n",
            " max_pooling2d_13 (MaxPoolin  (None, 8, 8, 16)         0         \n",
            " g2D)                                                            \n",
            "                                                                 \n",
            " conv2d_14 (Conv2D)          (None, 8, 8, 8)           1160      \n",
            "                                                                 \n",
            " max_pooling2d_14 (MaxPoolin  (None, 4, 4, 8)          0         \n",
            " g2D)                                                            \n",
            "                                                                 \n",
            " flatten_2 (Flatten)         (None, 128)               0         \n",
            "                                                                 \n",
            " dense_6 (Dense)             (None, 1024)              132096    \n",
            "                                                                 \n",
            " dropout_4 (Dropout)         (None, 1024)              0         \n",
            "                                                                 \n",
            " dense_7 (Dense)             (None, 512)               524800    \n",
            "                                                                 \n",
            " dropout_5 (Dropout)         (None, 512)               0         \n",
            "                                                                 \n",
            " dense_8 (Dense)             (None, 6)                 3078      \n",
            "                                                                 \n",
            "=================================================================\n",
            "Total params: 761,598\n",
            "Trainable params: 761,598\n",
            "Non-trainable params: 0\n",
            "_________________________________________________________________\n"
          ]
        }
      ]
    },
    {
      "cell_type": "code",
      "source": [
        "history=model.fit(train_data,epochs=80,batch_size=256,verbose=1, \n",
        "                  validation_data=test_data)"
      ],
      "metadata": {
        "colab": {
          "base_uri": "https://localhost:8080/"
        },
        "id": "r9-VRH7rh-e2",
        "outputId": "446f1f6e-cc9a-48c1-f276-30bae02d88c6"
      },
      "execution_count": null,
      "outputs": [
        {
          "output_type": "stream",
          "name": "stdout",
          "text": [
            "Epoch 1/80\n",
            "119/119 [==============================] - 146s 1s/step - loss: 1.6112 - accuracy: 0.2723 - val_loss: 1.7699 - val_accuracy: 0.2740\n",
            "Epoch 2/80\n",
            "119/119 [==============================] - 143s 1s/step - loss: 1.4649 - accuracy: 0.3395 - val_loss: 1.7750 - val_accuracy: 0.1781\n",
            "Epoch 3/80\n",
            "119/119 [==============================] - 142s 1s/step - loss: 1.4731 - accuracy: 0.3294 - val_loss: 1.7473 - val_accuracy: 0.2922\n",
            "Epoch 4/80\n",
            "119/119 [==============================] - 142s 1s/step - loss: 1.4177 - accuracy: 0.3824 - val_loss: 1.5748 - val_accuracy: 0.3699\n",
            "Epoch 5/80\n",
            "119/119 [==============================] - 140s 1s/step - loss: 1.1180 - accuracy: 0.5765 - val_loss: 1.1801 - val_accuracy: 0.5342\n",
            "Epoch 6/80\n",
            "119/119 [==============================] - 140s 1s/step - loss: 0.9297 - accuracy: 0.6420 - val_loss: 1.0835 - val_accuracy: 0.5799\n",
            "Epoch 7/80\n",
            "119/119 [==============================] - 142s 1s/step - loss: 0.8481 - accuracy: 0.6714 - val_loss: 0.9938 - val_accuracy: 0.6119\n",
            "Epoch 8/80\n",
            "119/119 [==============================] - 140s 1s/step - loss: 0.7552 - accuracy: 0.7126 - val_loss: 0.9320 - val_accuracy: 0.6119\n",
            "Epoch 9/80\n",
            "119/119 [==============================] - 143s 1s/step - loss: 0.7036 - accuracy: 0.7193 - val_loss: 1.1172 - val_accuracy: 0.6027\n",
            "Epoch 10/80\n",
            "119/119 [==============================] - 138s 1s/step - loss: 0.6837 - accuracy: 0.7496 - val_loss: 0.8292 - val_accuracy: 0.6758\n",
            "Epoch 11/80\n",
            "119/119 [==============================] - 141s 1s/step - loss: 0.6523 - accuracy: 0.7504 - val_loss: 0.9434 - val_accuracy: 0.6347\n",
            "Epoch 12/80\n",
            "119/119 [==============================] - 141s 1s/step - loss: 0.6635 - accuracy: 0.7445 - val_loss: 0.7848 - val_accuracy: 0.6530\n",
            "Epoch 13/80\n",
            "119/119 [==============================] - 142s 1s/step - loss: 0.5780 - accuracy: 0.7731 - val_loss: 0.9355 - val_accuracy: 0.6301\n",
            "Epoch 14/80\n",
            "119/119 [==============================] - 141s 1s/step - loss: 0.5837 - accuracy: 0.7773 - val_loss: 0.7395 - val_accuracy: 0.6804\n",
            "Epoch 15/80\n",
            "119/119 [==============================] - 142s 1s/step - loss: 0.5500 - accuracy: 0.7849 - val_loss: 0.7243 - val_accuracy: 0.6575\n",
            "Epoch 16/80\n",
            "119/119 [==============================] - 139s 1s/step - loss: 0.5427 - accuracy: 0.7840 - val_loss: 0.7694 - val_accuracy: 0.6621\n",
            "Epoch 17/80\n",
            "119/119 [==============================] - 142s 1s/step - loss: 0.5026 - accuracy: 0.7924 - val_loss: 0.7931 - val_accuracy: 0.6621\n",
            "Epoch 18/80\n",
            "119/119 [==============================] - 141s 1s/step - loss: 0.4976 - accuracy: 0.8076 - val_loss: 0.6709 - val_accuracy: 0.6758\n",
            "Epoch 19/80\n",
            "119/119 [==============================] - 142s 1s/step - loss: 0.5005 - accuracy: 0.8160 - val_loss: 0.8860 - val_accuracy: 0.6393\n",
            "Epoch 20/80\n",
            "119/119 [==============================] - 141s 1s/step - loss: 0.4930 - accuracy: 0.7958 - val_loss: 0.7283 - val_accuracy: 0.7032\n",
            "Epoch 21/80\n",
            "119/119 [==============================] - 142s 1s/step - loss: 0.4813 - accuracy: 0.8151 - val_loss: 0.7257 - val_accuracy: 0.6941\n",
            "Epoch 22/80\n",
            "119/119 [==============================] - 140s 1s/step - loss: 0.4965 - accuracy: 0.8151 - val_loss: 0.6467 - val_accuracy: 0.7306\n",
            "Epoch 23/80\n",
            "119/119 [==============================] - 142s 1s/step - loss: 0.4613 - accuracy: 0.8193 - val_loss: 0.6027 - val_accuracy: 0.7534\n",
            "Epoch 24/80\n",
            "119/119 [==============================] - 140s 1s/step - loss: 0.4719 - accuracy: 0.8092 - val_loss: 0.6041 - val_accuracy: 0.7763\n",
            "Epoch 25/80\n",
            "119/119 [==============================] - 142s 1s/step - loss: 0.4033 - accuracy: 0.8336 - val_loss: 0.6261 - val_accuracy: 0.7306\n",
            "Epoch 26/80\n",
            "119/119 [==============================] - 139s 1s/step - loss: 0.4441 - accuracy: 0.8252 - val_loss: 0.8449 - val_accuracy: 0.6804\n",
            "Epoch 27/80\n",
            "119/119 [==============================] - 142s 1s/step - loss: 0.4373 - accuracy: 0.8269 - val_loss: 0.8293 - val_accuracy: 0.7306\n",
            "Epoch 28/80\n",
            "119/119 [==============================] - 141s 1s/step - loss: 0.4673 - accuracy: 0.8235 - val_loss: 0.6715 - val_accuracy: 0.7078\n",
            "Epoch 29/80\n",
            "119/119 [==============================] - 142s 1s/step - loss: 0.4365 - accuracy: 0.8319 - val_loss: 0.5498 - val_accuracy: 0.8037\n",
            "Epoch 30/80\n",
            "119/119 [==============================] - 141s 1s/step - loss: 0.4087 - accuracy: 0.8361 - val_loss: 0.5123 - val_accuracy: 0.8265\n",
            "Epoch 31/80\n",
            "119/119 [==============================] - 144s 1s/step - loss: 0.4204 - accuracy: 0.8403 - val_loss: 0.7363 - val_accuracy: 0.7169\n",
            "Epoch 32/80\n",
            "119/119 [==============================] - 144s 1s/step - loss: 0.4242 - accuracy: 0.8370 - val_loss: 0.6158 - val_accuracy: 0.7671\n",
            "Epoch 33/80\n",
            "119/119 [==============================] - 143s 1s/step - loss: 0.3912 - accuracy: 0.8403 - val_loss: 0.7272 - val_accuracy: 0.7169\n",
            "Epoch 34/80\n",
            "119/119 [==============================] - 144s 1s/step - loss: 0.3852 - accuracy: 0.8471 - val_loss: 0.6491 - val_accuracy: 0.7215\n",
            "Epoch 35/80\n",
            "119/119 [==============================] - 143s 1s/step - loss: 0.3781 - accuracy: 0.8496 - val_loss: 0.7517 - val_accuracy: 0.7032\n",
            "Epoch 36/80\n",
            "119/119 [==============================] - 144s 1s/step - loss: 0.3784 - accuracy: 0.8462 - val_loss: 0.5514 - val_accuracy: 0.7808\n",
            "Epoch 37/80\n",
            "119/119 [==============================] - 144s 1s/step - loss: 0.3831 - accuracy: 0.8487 - val_loss: 0.6226 - val_accuracy: 0.7534\n",
            "Epoch 38/80\n",
            "119/119 [==============================] - 144s 1s/step - loss: 0.3695 - accuracy: 0.8462 - val_loss: 0.5702 - val_accuracy: 0.7489\n",
            "Epoch 39/80\n",
            "119/119 [==============================] - 145s 1s/step - loss: 0.3565 - accuracy: 0.8555 - val_loss: 0.5945 - val_accuracy: 0.7260\n",
            "Epoch 40/80\n",
            "119/119 [==============================] - 144s 1s/step - loss: 0.3779 - accuracy: 0.8555 - val_loss: 0.5509 - val_accuracy: 0.7717\n",
            "Epoch 41/80\n",
            "119/119 [==============================] - 146s 1s/step - loss: 0.4326 - accuracy: 0.8395 - val_loss: 0.7678 - val_accuracy: 0.6849\n",
            "Epoch 42/80\n",
            "119/119 [==============================] - 145s 1s/step - loss: 0.4073 - accuracy: 0.8445 - val_loss: 0.6235 - val_accuracy: 0.7443\n",
            "Epoch 43/80\n",
            "119/119 [==============================] - 141s 1s/step - loss: 0.3381 - accuracy: 0.8714 - val_loss: 0.9616 - val_accuracy: 0.7123\n",
            "Epoch 44/80\n",
            "119/119 [==============================] - 144s 1s/step - loss: 0.3974 - accuracy: 0.8513 - val_loss: 0.5626 - val_accuracy: 0.8037\n",
            "Epoch 45/80\n",
            "119/119 [==============================] - 142s 1s/step - loss: 0.3409 - accuracy: 0.8731 - val_loss: 0.6391 - val_accuracy: 0.7717\n",
            "Epoch 46/80\n",
            "119/119 [==============================] - 141s 1s/step - loss: 0.3520 - accuracy: 0.8706 - val_loss: 0.6182 - val_accuracy: 0.7945\n",
            "Epoch 47/80\n",
            "119/119 [==============================] - 140s 1s/step - loss: 0.3343 - accuracy: 0.8790 - val_loss: 0.6130 - val_accuracy: 0.7763\n",
            "Epoch 48/80\n",
            "119/119 [==============================] - 142s 1s/step - loss: 0.3385 - accuracy: 0.8605 - val_loss: 0.6815 - val_accuracy: 0.7306\n",
            "Epoch 49/80\n",
            "119/119 [==============================] - 143s 1s/step - loss: 0.3414 - accuracy: 0.8622 - val_loss: 0.7038 - val_accuracy: 0.7489\n",
            "Epoch 50/80\n",
            " 11/119 [=>............................] - ETA: 1:49 - loss: 0.3521 - accuracy: 0.8727"
          ]
        }
      ]
    },
    {
      "cell_type": "code",
      "source": [
        "value=model.evaluate(test_data,verbose=0)\n",
        "print('loss', value[0])\n",
        "print('accuracy', value[1])"
      ],
      "metadata": {
        "id": "vhJfI6NeiDSm"
      },
      "execution_count": null,
      "outputs": []
    },
    {
      "cell_type": "code",
      "source": [
        "model.save('/content/drive/MyDrive/Colab Notebooks/modelfinal5.h5')"
      ],
      "metadata": {
        "id": "wZSiYCDFDcxw"
      },
      "execution_count": null,
      "outputs": []
    },
    {
      "cell_type": "code",
      "source": [
        "\n",
        "accuracy =history.history['accuracy']\n",
        "loss = history.history['loss']\n",
        "epochs=range(len(accuracy))\n",
        "\n",
        "import matplotlib.pyplot as plt\n",
        "plt.plot(epochs, accuracy, 'bo', label='Training accuracy', color='green')\n",
        "plt.plot(epochs,loss , 'b', label ='Training loss')\n",
        "plt.show()"
      ],
      "metadata": {
        "id": "oOlNLHFuiFh7"
      },
      "execution_count": null,
      "outputs": []
    },
    {
      "cell_type": "code",
      "source": [
        "## lay model tu google drive va tien hanh nhan dien\n",
        "model = load_model('/content/drive/MyDrive/Colab Notebooks/modelfinal5.h5')\n",
        "name_foods=['Corn_Common_Rust', 'Corn_Gray_Leaf_Spot', 'Corn_Healthy', 'bean_healthy', 'bean_leaf_spot', 'bean_rust']\n",
        "filePath = '/content/drive/MyDrive/data_test/Corn_Gray_leaf_spot/Corn_Gray_Spot (501).JPG'\n",
        "testImage = load_img(filePath, color_mode = 'rgb', target_size=(128,128))\n",
        "arrayImage = img_to_array(testImage).reshape(1,128,128,3)/255\n",
        "pred = int(np.argmax(model.predict(arrayImage)))\n",
        "print(\"Predicted: \", name_foods[pred])\n",
        "plt.imshow(testImage)"
      ],
      "metadata": {
        "id": "SRNUkhcFiH7Z"
      },
      "execution_count": null,
      "outputs": []
    }
  ]
}
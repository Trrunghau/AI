{
  "nbformat": 4,
  "nbformat_minor": 0,
  "metadata": {
    "colab": {
      "provenance": [],
      "authorship_tag": "ABX9TyOKjendlPTri+mFeXDpq37L",
      "include_colab_link": true
    },
    "kernelspec": {
      "name": "python3",
      "display_name": "Python 3"
    },
    "language_info": {
      "name": "python"
    }
  },
  "cells": [
    {
      "cell_type": "markdown",
      "metadata": {
        "id": "view-in-github",
        "colab_type": "text"
      },
      "source": [
        "<a href=\"https://colab.research.google.com/github/Trrunghau/Trrunghau/blob/main/Untitled2.ipynb\" target=\"_parent\"><img src=\"https://colab.research.google.com/assets/colab-badge.svg\" alt=\"Open In Colab\"/></a>"
      ]
    },
    {
      "cell_type": "code",
      "execution_count": 9,
      "metadata": {
        "id": "FKuNhzm1eZRX",
        "colab": {
          "base_uri": "https://localhost:8080/"
        },
        "outputId": "881b91f7-a604-4476-cc95-a784a69289de"
      },
      "outputs": [
        {
          "output_type": "execute_result",
          "data": {
            "text/plain": [
              "Year  City         Sport       Discipline     NOC  Event            Event gender  Medal \n",
              "1968  Grenoble     Skating     Speed skating  USA  500m             W             Silver    3\n",
              "1948  St. Moritz   Skating     Speed skating  USA  500m             M             Silver    2\n",
              "1924  Chamonix     Ice Hockey  Ice Hockey     USA  ice hockey       M             Silver    1\n",
              "1998  Nagano       Skating     Speed skating  USA  1000m            W             Silver    1\n",
              "1994  Lillehammer  Skiing      Alpine Skiing  USA  downhill         W             Silver    1\n",
              "                                                                                           ..\n",
              "1972  Sapporo      Skating     Speed skating  USA  1000m            W             Bronze    1\n",
              "                                                   1500m            W             Gold      1\n",
              "                                                   3000m            W             Silver    1\n",
              "                                                   500m             W             Gold      1\n",
              "2006  Turin        Skiing      Snowboard      USA  Snowboard Cross  W             Silver    1\n",
              "Length: 213, dtype: int64"
            ]
          },
          "metadata": {},
          "execution_count": 9
        }
      ],
      "source": [
        "# Tổng hợp winterolimpic của USA\n",
        "from pandas.core.groupby.generic import DataFrameGroupBy\n",
        "import pandas as pd\n",
        "url = 'http://winterolympicsmedals.com/medals.csv'\n",
        "data = pd.read_csv(url)\n",
        "data[(data['NOC']=='USA')].value_counts()"
      ]
    },
    {
      "cell_type": "code",
      "source": [
        "# Tổng số lượng huy chương từng bộ môn\n",
        "from pandas.core.groupby.generic import DataFrameGroupBy\n",
        "import pandas as pd\n",
        "url = 'http://winterolympicsmedals.com/medals.csv'\n",
        "data = pd.read_csv(url)\n",
        "data[(data['NOC']=='USA')].groupby(['Event'])['Medal'].count()"
      ],
      "metadata": {
        "colab": {
          "base_uri": "https://localhost:8080/"
        },
        "id": "4ElVYLxgEanw",
        "outputId": "428cf769-13b4-425d-afe7-3b6a6ac65035"
      },
      "execution_count": 52,
      "outputs": [
        {
          "output_type": "execute_result",
          "data": {
            "text/plain": [
              "Event\n",
              "10000m                    3\n",
              "1000m                    19\n",
              "1500m                    11\n",
              "3000m                     2\n",
              "3000m relay               2\n",
              "30km mass start           1\n",
              "5000m                     5\n",
              "5000m relay               2\n",
              "500m                     31\n",
              "Alpine combined           1\n",
              "Giant parallel slalom     2\n",
              "Half-pipe                10\n",
              "K90 individual (70m)      1\n",
              "Snowboard Cross           2\n",
              "aerials                   3\n",
              "alpine combined           2\n",
              "curling                   1\n",
              "doubles                   4\n",
              "downhill                  7\n",
              "five-man                  2\n",
              "four-man                  8\n",
              "giant slalom              8\n",
              "ice dancing               2\n",
              "ice hockey               12\n",
              "individual               42\n",
              "moguls                    7\n",
              "pairs                     5\n",
              "slalom                   10\n",
              "super-G                   3\n",
              "two-man                   8\n",
              "Name: Medal, dtype: int64"
            ]
          },
          "metadata": {},
          "execution_count": 52
        }
      ]
    },
    {
      "cell_type": "code",
      "source": [
        "# Tổng số lượng huy chương từng năm\n",
        "from pandas.core.groupby.generic import DataFrameGroupBy\n",
        "import pandas as pd\n",
        "url = 'http://winterolympicsmedals.com/medals.csv'\n",
        "data = pd.read_csv(url)\n",
        "data[(data['NOC']=='USA')].groupby(['Year'])['Medal'].count()"
      ],
      "metadata": {
        "colab": {
          "base_uri": "https://localhost:8080/"
        },
        "id": "h2Xx0fEpzrKC",
        "outputId": "0e2e59b4-310c-42e4-dc94-8d2dc730f9c9"
      },
      "execution_count": 51,
      "outputs": [
        {
          "output_type": "execute_result",
          "data": {
            "text/plain": [
              "Year\n",
              "1924     4\n",
              "1928     6\n",
              "1932    12\n",
              "1936     4\n",
              "1948     9\n",
              "1952    11\n",
              "1956     7\n",
              "1960    10\n",
              "1964     6\n",
              "1968     7\n",
              "1972     8\n",
              "1976    10\n",
              "1980    12\n",
              "1984     8\n",
              "1988     6\n",
              "1992    11\n",
              "1994    13\n",
              "1998    13\n",
              "2002    34\n",
              "2006    25\n",
              "Name: Medal, dtype: int64"
            ]
          },
          "metadata": {},
          "execution_count": 51
        }
      ]
    },
    {
      "cell_type": "code",
      "source": [
        "# tổng số lượng huy chương\n",
        "from pandas.core.groupby.generic import DataFrameGroupBy\n",
        "import pandas as pd\n",
        "url = 'http://winterolympicsmedals.com/medals.csv'\n",
        "data = pd.read_csv(url)\n",
        "data[(data['NOC']=='USA')]['Medal'].count()"
      ],
      "metadata": {
        "colab": {
          "base_uri": "https://localhost:8080/"
        },
        "id": "mc67YDDhw8eO",
        "outputId": "e12d4c1c-9c4c-423a-a781-eeb7e206943c"
      },
      "execution_count": 53,
      "outputs": [
        {
          "output_type": "execute_result",
          "data": {
            "text/plain": [
              "216"
            ]
          },
          "metadata": {},
          "execution_count": 53
        }
      ]
    },
    {
      "cell_type": "code",
      "source": [
        "# Tổng số lượng từng huy chương\n",
        "from pandas.core.groupby.generic import DataFrameGroupBy\n",
        "import pandas as pd\n",
        "url = 'http://winterolympicsmedals.com/medals.csv'\n",
        "data = pd.read_csv(url)\n",
        "data[(data['NOC']=='USA')].groupby(['Medal'])['Medal'].count()"
      ],
      "metadata": {
        "colab": {
          "base_uri": "https://localhost:8080/"
        },
        "id": "Nqn6lzrc09nE",
        "outputId": "26a338c7-1c05-4c31-89b9-8dc2c9067ff3"
      },
      "execution_count": 54,
      "outputs": [
        {
          "output_type": "execute_result",
          "data": {
            "text/plain": [
              "Medal\n",
              "Bronze    58\n",
              "Gold      78\n",
              "Silver    80\n",
              "Name: Medal, dtype: int64"
            ]
          },
          "metadata": {},
          "execution_count": 54
        }
      ]
    },
    {
      "cell_type": "code",
      "source": [
        "# ở từng nội dung thi thì huy chương nào đạt nhiều nhất\n",
        "from pandas.core.groupby.generic import DataFrameGroupBy\n",
        "import pandas as pd\n",
        "url = 'http://winterolympicsmedals.com/medals.csv'\n",
        "data = pd.read_csv(url)\n",
        "data[(data['NOC']=='USA')].groupby(['Event'])['Medal'].max()"
      ],
      "metadata": {
        "colab": {
          "base_uri": "https://localhost:8080/"
        },
        "id": "zcZydWBl2I3U",
        "outputId": "943a1c2a-29e4-4053-b23a-7ef4424ee4a6"
      },
      "execution_count": 58,
      "outputs": [
        {
          "output_type": "execute_result",
          "data": {
            "text/plain": [
              "Event\n",
              "10000m                   Silver\n",
              "1000m                    Silver\n",
              "1500m                    Silver\n",
              "3000m                    Silver\n",
              "3000m relay              Silver\n",
              "30km mass start          Silver\n",
              "5000m                    Silver\n",
              "5000m relay              Silver\n",
              "500m                     Silver\n",
              "Alpine combined            Gold\n",
              "Giant parallel slalom    Bronze\n",
              "Half-pipe                Silver\n",
              "K90 individual (70m)     Bronze\n",
              "Snowboard Cross          Silver\n",
              "aerials                  Silver\n",
              "alpine combined          Silver\n",
              "curling                  Bronze\n",
              "doubles                  Silver\n",
              "downhill                 Silver\n",
              "five-man                 Silver\n",
              "four-man                 Silver\n",
              "giant slalom             Silver\n",
              "ice dancing              Silver\n",
              "ice hockey               Silver\n",
              "individual               Silver\n",
              "moguls                   Silver\n",
              "pairs                    Silver\n",
              "slalom                   Silver\n",
              "super-G                  Silver\n",
              "two-man                  Silver\n",
              "Name: Medal, dtype: object"
            ]
          },
          "metadata": {},
          "execution_count": 58
        }
      ]
    },
    {
      "cell_type": "code",
      "source": [
        "# ở từng nội dung thi thì huy chương nào đạt ít nhất\n",
        "from pandas.core.groupby.generic import DataFrameGroupBy\n",
        "import pandas as pd\n",
        "url = 'http://winterolympicsmedals.com/medals.csv'\n",
        "data = pd.read_csv(url)\n",
        "data[(data['NOC']=='USA')].groupby(['Event'])['Medal'].min()"
      ],
      "metadata": {
        "colab": {
          "base_uri": "https://localhost:8080/"
        },
        "id": "OyVK9u0y3_QR",
        "outputId": "5f3332aa-1572-4771-e2b7-476a28b2b872"
      },
      "execution_count": 59,
      "outputs": [
        {
          "output_type": "execute_result",
          "data": {
            "text/plain": [
              "Event\n",
              "10000m                     Gold\n",
              "1000m                    Bronze\n",
              "1500m                    Bronze\n",
              "3000m                    Bronze\n",
              "3000m relay              Bronze\n",
              "30km mass start          Silver\n",
              "5000m                      Gold\n",
              "5000m relay              Bronze\n",
              "500m                     Bronze\n",
              "Alpine combined            Gold\n",
              "Giant parallel slalom    Bronze\n",
              "Half-pipe                Bronze\n",
              "K90 individual (70m)     Bronze\n",
              "Snowboard Cross            Gold\n",
              "aerials                    Gold\n",
              "alpine combined          Silver\n",
              "curling                  Bronze\n",
              "doubles                  Bronze\n",
              "downhill                 Bronze\n",
              "five-man                   Gold\n",
              "four-man                 Bronze\n",
              "giant slalom               Gold\n",
              "ice dancing              Bronze\n",
              "ice hockey               Bronze\n",
              "individual               Bronze\n",
              "moguls                   Bronze\n",
              "pairs                    Bronze\n",
              "slalom                   Bronze\n",
              "super-G                    Gold\n",
              "two-man                  Bronze\n",
              "Name: Medal, dtype: object"
            ]
          },
          "metadata": {},
          "execution_count": 59
        }
      ]
    },
    {
      "cell_type": "code",
      "source": [],
      "metadata": {
        "id": "4ueFGoDQ4pra"
      },
      "execution_count": null,
      "outputs": []
    }
  ]
}
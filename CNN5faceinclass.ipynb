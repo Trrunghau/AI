{
  "nbformat": 4,
  "nbformat_minor": 0,
  "metadata": {
    "colab": {
      "provenance": [],
      "mount_file_id": "1KRrl9zKRKZzOtCFRK0aTpYmaLuSbAJCn",
      "authorship_tag": "ABX9TyPyxq6wMw3BcJsfxGNuJCME",
      "include_colab_link": true
    },
    "kernelspec": {
      "name": "python3",
      "display_name": "Python 3"
    },
    "language_info": {
      "name": "python"
    }
  },
  "cells": [
    {
      "cell_type": "markdown",
      "metadata": {
        "id": "view-in-github",
        "colab_type": "text"
      },
      "source": [
        "<a href=\"https://colab.research.google.com/github/Trrunghau/AI/blob/main/CNN5faceinclass.ipynb\" target=\"_parent\"><img src=\"https://colab.research.google.com/assets/colab-badge.svg\" alt=\"Open In Colab\"/></a>"
      ]
    },
    {
      "cell_type": "code",
      "execution_count": null,
      "metadata": {
        "id": "nwkvtpqlGzN0"
      },
      "outputs": [],
      "source": [
        "from os import listdir\n",
        "from numpy import asarray,save\n",
        "from keras.utils import load_img, img_to_array"
      ]
    },
    {
      "cell_type": "code",
      "source": [
        "folder = '/content/drive/MyDrive/anhlop_train/'\n",
        "\n",
        "photos, labels = list(), list()\n",
        "for file in listdir(folder) :\n",
        "  output = 0.0\n",
        "  if file.startswith('dung'):\n",
        "    output = 1.0\n",
        "  if file.startswith('Ha'):\n",
        "    output = 2.0\n",
        "  if file.startswith('hakiet'):\n",
        "    output = 3.0\n",
        "  if file.startswith('hau'):\n",
        "    output = 4.0\n",
        "  if file.startswith('Hieu_'):\n",
        "    output = 5.0\n",
        "  photo = load_img(folder + file, target_size = (30,40))\n",
        "  photo = img_to_array(photo)\n",
        "  photos.append(photo)\n",
        "  labels.append(output)\n",
        "photos_train = asarray(photos)\n",
        "labels_train = asarray(labels)\n",
        "print(photos_train.shape, labels_train.shape)\n",
        "save('/content/drive/MyDrive/Colab Notebooks/photos.npy',photos_train)\n",
        "save('/content/drive/MyDrive/Colab Notebooks/labels.npy',labels_train)"
      ],
      "metadata": {
        "id": "i0DOlSn7X797",
        "colab": {
          "base_uri": "https://localhost:8080/"
        },
        "outputId": "fcb5fbdf-167b-4e59-e182-e01aae541ed4"
      },
      "execution_count": 20,
      "outputs": [
        {
          "output_type": "stream",
          "name": "stdout",
          "text": [
            "(260, 30, 40, 3) (260,)\n"
          ]
        }
      ]
    },
    {
      "cell_type": "code",
      "source": [
        "folder = '/content/drive/MyDrive/anhlop_test/'\n",
        "\n",
        "photos, labels = list(), list()\n",
        "for file in listdir(folder) :\n",
        "  output = 0.0\n",
        "  if file.startswith('dung'):\n",
        "    output = 1.0\n",
        "  if file.startswith('Ha'):\n",
        "    output = 2.0\n",
        "  if file.startswith('hakiet'):\n",
        "    output = 3.0\n",
        "  if file.startswith('hau'):\n",
        "    output = 4.0\n",
        "  if file.startswith('Hieu_'):\n",
        "    output = 5.0\n",
        "  photo = load_img(folder + file, target_size = (30,40))\n",
        "  photo = img_to_array(photo)\n",
        "  photos.append(photo)\n",
        "  labels.append(output)\n",
        "photos_test = asarray(photos)\n",
        "labels_test = asarray(labels)\n",
        "print(photos_test.shape, labels_test.shape)\n",
        "save('/content/drive/MyDrive/anhlop_test/photos.npy',photos_test)\n",
        "save('/content/drive/MyDrive/anhlop_test/labels.npy',labels_test)"
      ],
      "metadata": {
        "id": "jy36OpHkGwc-",
        "colab": {
          "base_uri": "https://localhost:8080/"
        },
        "outputId": "8bab5884-e935-4a46-ca8d-901e9a6b8d4d"
      },
      "execution_count": 21,
      "outputs": [
        {
          "output_type": "stream",
          "name": "stdout",
          "text": [
            "(50, 30, 40, 3) (50,)\n"
          ]
        }
      ]
    },
    {
      "cell_type": "code",
      "source": [
        "import matplotlib.pyplot as plt\n",
        "import numpy as np\n",
        "chosen_idx = 50\n",
        "chosen_img = photos_train[chosen_idx]\n",
        "plt.imshow((chosen_img*255).astype(np.uint8))\n",
        "plt.show()"
      ],
      "metadata": {
        "colab": {
          "base_uri": "https://localhost:8080/",
          "height": 430
        },
        "id": "UnskSsP5Pz3i",
        "outputId": "ccd4eb9c-24d3-4673-9f78-40b0aba2e7b3"
      },
      "execution_count": 23,
      "outputs": [
        {
          "output_type": "display_data",
          "data": {
            "text/plain": [
              "<Figure size 640x480 with 1 Axes>"
            ],
            "image/png": "[encoded data removed]"
          },
          "metadata": {}
        }
      ]
    },
    {
      "cell_type": "code",
      "source": [
        "photos_train = photos_train.reshape(260, 30, 40, 3)\n",
        "photos_train = photos_train.astype('float32')/255 \n",
        "photos_test = photos_test.reshape(50, 30, 40, 3)\n",
        "photos_test = photos_test.astype('float32')/255\n",
        "\n",
        "from keras.utils import  to_categorical\n",
        "labels_train = to_categorical(labels_train)\n",
        "labels_test = to_categorical(labels_test)\n",
        "photos_train.shape, labels_train.shape, photos_test.shape, labels_test.shape"
      ],
      "metadata": {
        "colab": {
          "base_uri": "https://localhost:8080/"
        },
        "id": "M7iKY3o-P9UV",
        "outputId": "1f33501f-9fc3-46e6-d139-90ef6e3a20f9"
      },
      "execution_count": 24,
      "outputs": [
        {
          "output_type": "execute_result",
          "data": {
            "text/plain": [
              "((260, 30, 40, 3), (260, 6), (50, 30, 40, 3), (50, 6))"
            ]
          },
          "metadata": {},
          "execution_count": 24
        }
      ]
    },
    {
      "cell_type": "code",
      "source": [
        "from keras.models import Sequential, Model\n",
        "from keras import Input, Model\n",
        "from keras.optimizers import Adam\n",
        "from keras.layers import Dense, Dropout, Flatten, Conv2D, MaxPooling2D\n",
        "from keras.layers import BatchNormalization, LeakyReLU\n",
        "batch_size = 64\n",
        "epochs = 20\n",
        "classes = 6\n",
        "\n",
        "model = Sequential()\n",
        "#CNN\n",
        "model.add(Conv2D(32, kernel_size = (3,3), activation = 'linear',\n",
        "                 input_shape = (30,40,3), padding = 'same')) \n",
        "# nhan tich chap 32 lan\n",
        "model.add(LeakyReLU(alpha = 0.1))\n",
        "model.add(MaxPooling2D((2,2), padding = 'same'))\n",
        "\n",
        "model.add(Conv2D(64, (3,3), activation = 'linear', padding ='same'))\n",
        "model.add(LeakyReLU(alpha = 0.1))\n",
        "model.add(MaxPooling2D((2,2), padding = 'same'))\n",
        "\n",
        "model.add(Conv2D(128, (3,3), activation = 'linear', padding = 'same'))\n",
        "model.add(LeakyReLU(alpha = 0.1))\n",
        "model.add(MaxPooling2D((2,2), padding = 'same'))\n",
        "#ANN\n",
        "model.add(Flatten())\n",
        "model.add(Dense(128, activation = 'linear'))\n",
        "model.add(LeakyReLU(alpha = 0.1))\n",
        "model.add(Dense(classes, activation ='softmax'))"
      ],
      "metadata": {
        "id": "gDi6lSPQQQt4"
      },
      "execution_count": 25,
      "outputs": []
    },
    {
      "cell_type": "code",
      "source": [
        "#compile\n",
        "model.compile(optimizer = Adam(), loss = 'categorical_crossentropy', \n",
        "              metrics = ['accuracy'])\n",
        "model.summary()\n",
        "\n",
        "train = model.fit(photos_train, labels_train, batch_size = batch_size , \n",
        "                  epochs = epochs, verbose = 1)\n",
        "\n",
        "test_loss, test_acc = model.evaluate(photos_test, labels_test)\n",
        "print('do chinh xac', test_acc)\n",
        "print('ham mat mat', test_loss)"
      ],
      "metadata": {
        "colab": {
          "base_uri": "https://localhost:8080/"
        },
        "id": "blM_IzgsQfN4",
        "outputId": "607d0063-5d54-44e4-cefd-4e6f41ca0250"
      },
      "execution_count": 26,
      "outputs": [
        {
          "output_type": "stream",
          "name": "stdout",
          "text": [
            "Model: \"sequential\"\n",
            "_________________________________________________________________\n",
            " Layer (type)                Output Shape              Param #   \n",
            "=================================================================\n",
            " conv2d (Conv2D)             (None, 30, 40, 32)        896       \n",
            "                                                                 \n",
            " leaky_re_lu (LeakyReLU)     (None, 30, 40, 32)        0         \n",
            "                                                                 \n",
            " max_pooling2d (MaxPooling2D  (None, 15, 20, 32)       0         \n",
            " )                                                               \n",
            "                                                                 \n",
            " conv2d_1 (Conv2D)           (None, 15, 20, 64)        18496     \n",
            "                                                                 \n",
            " leaky_re_lu_1 (LeakyReLU)   (None, 15, 20, 64)        0         \n",
            "                                                                 \n",
            " max_pooling2d_1 (MaxPooling  (None, 8, 10, 64)        0         \n",
            " 2D)                                                             \n",
            "                                                                 \n",
            " conv2d_2 (Conv2D)           (None, 8, 10, 128)        73856     \n",
            "                                                                 \n",
            " leaky_re_lu_2 (LeakyReLU)   (None, 8, 10, 128)        0         \n",
            "                                                                 \n",
            " max_pooling2d_2 (MaxPooling  (None, 4, 5, 128)        0         \n",
            " 2D)                                                             \n",
            "                                                                 \n",
            " flatten (Flatten)           (None, 2560)              0         \n",
            "                                                                 \n",
            " dense (Dense)               (None, 128)               327808    \n",
            "                                                                 \n",
            " leaky_re_lu_3 (LeakyReLU)   (None, 128)               0         \n",
            "                                                                 \n",
            " dense_1 (Dense)             (None, 6)                 774       \n",
            "                                                                 \n",
            "=================================================================\n",
            "Total params: 421,830\n",
            "Trainable params: 421,830\n",
            "Non-trainable params: 0\n",
            "_________________________________________________________________\n",
            "Epoch 1/20\n",
            "5/5 [==============================] - 2s 144ms/step - loss: 1.6975 - accuracy: 0.3192\n",
            "Epoch 2/20\n",
            "5/5 [==============================] - 1s 141ms/step - loss: 1.3467 - accuracy: 0.6038\n",
            "Epoch 3/20\n",
            "5/5 [==============================] - 1s 141ms/step - loss: 0.9067 - accuracy: 0.6654\n",
            "Epoch 4/20\n",
            "5/5 [==============================] - 1s 138ms/step - loss: 0.7084 - accuracy: 0.6885\n",
            "Epoch 5/20\n",
            "5/5 [==============================] - 1s 146ms/step - loss: 0.4087 - accuracy: 0.8538\n",
            "Epoch 6/20\n",
            "5/5 [==============================] - 1s 153ms/step - loss: 0.4015 - accuracy: 0.8731\n",
            "Epoch 7/20\n",
            "5/5 [==============================] - 1s 200ms/step - loss: 0.1970 - accuracy: 0.9192\n",
            "Epoch 8/20\n",
            "5/5 [==============================] - 1s 258ms/step - loss: 0.1085 - accuracy: 0.9692\n",
            "Epoch 9/20\n",
            "5/5 [==============================] - 1s 245ms/step - loss: 0.0762 - accuracy: 0.9923\n",
            "Epoch 10/20\n",
            "5/5 [==============================] - 1s 237ms/step - loss: 0.0382 - accuracy: 0.9962\n",
            "Epoch 11/20\n",
            "5/5 [==============================] - 1s 133ms/step - loss: 0.0297 - accuracy: 0.9885\n",
            "Epoch 12/20\n",
            "5/5 [==============================] - 1s 131ms/step - loss: 0.0210 - accuracy: 1.0000\n",
            "Epoch 13/20\n",
            "5/5 [==============================] - 1s 132ms/step - loss: 0.0118 - accuracy: 1.0000\n",
            "Epoch 14/20\n",
            "5/5 [==============================] - 1s 134ms/step - loss: 0.0078 - accuracy: 1.0000\n",
            "Epoch 15/20\n",
            "5/5 [==============================] - 1s 138ms/step - loss: 0.0065 - accuracy: 1.0000\n",
            "Epoch 16/20\n",
            "5/5 [==============================] - 1s 147ms/step - loss: 0.0043 - accuracy: 1.0000\n",
            "Epoch 17/20\n",
            "5/5 [==============================] - 1s 139ms/step - loss: 0.0035 - accuracy: 1.0000\n",
            "Epoch 18/20\n",
            "5/5 [==============================] - 1s 153ms/step - loss: 0.0027 - accuracy: 1.0000\n",
            "Epoch 19/20\n",
            "5/5 [==============================] - 1s 128ms/step - loss: 0.0017 - accuracy: 1.0000\n",
            "Epoch 20/20\n",
            "5/5 [==============================] - 1s 130ms/step - loss: 0.0012 - accuracy: 1.0000\n",
            "2/2 [==============================] - 0s 23ms/step - loss: 0.0021 - accuracy: 1.0000\n",
            "do chinh xac 1.0\n",
            "ham mat mat 0.0021219400223344564\n"
          ]
        }
      ]
    },
    {
      "cell_type": "code",
      "source": [
        "accuracy = train.history['accuracy']\n",
        "loss = train.history['loss']\n",
        "epochs = range(len(accuracy))\n",
        "plt.plot(epochs, accuracy, 'k', label = 'Train accuracy')\n",
        "plt.plot(epochs, loss, 'b', label = 'Train loss')\n",
        "plt.legend(['Train accuracy', 'Train loss'])\n",
        "plt.show()"
      ],
      "metadata": {
        "colab": {
          "base_uri": "https://localhost:8080/",
          "height": 430
        },
        "id": "wR64hkg_QkfS",
        "outputId": "a46c3b14-a55b-4e59-ac16-e2aa0257d7b2"
      },
      "execution_count": 27,
      "outputs": [
        {
          "output_type": "display_data",
          "data": {
            "text/plain": [
              "<Figure size 640x480 with 1 Axes>"
            ],
            "image/png": "[encoded data removed]"
          },
          "metadata": {}
        }
      ]
    },
    {
      "cell_type": "code",
      "source": [
        "model.save('/content/drive/MyDrive/Colab Notebooks/modelfaceClass.h5')"
      ],
      "metadata": {
        "id": "KPWDW-euRDN0"
      },
      "execution_count": 28,
      "outputs": []
    },
    {
      "cell_type": "code",
      "source": [
        "class_name = {1: 'dung',2: 'ha',3: 'kiet',\n",
        "                  4: 'hau',5: 'hieu'}"
      ],
      "metadata": {
        "id": "IGGVk9eORZOO"
      },
      "execution_count": 35,
      "outputs": []
    },
    {
      "cell_type": "code",
      "source": [
        "#test\n",
        "filePath = '/content/339908605_1293645758198956_7145497591037352619_n.jpg'\n",
        "testImage = load_img(filePath, color_mode = 'rgb', target_size=(30,40))\n",
        "arrayImage = img_to_array(testImage).reshape(1,30,40,3)/255\n",
        "pred = np.argmax(model.predict(arrayImage))\n",
        "print(\"Predicted: \", class_name[pred])\n",
        "plt.imshow(testImage)"
      ],
      "metadata": {
        "colab": {
          "base_uri": "https://localhost:8080/",
          "height": 482
        },
        "id": "F-9va7GRR0QW",
        "outputId": "77969b39-f4b5-4d22-f945-65838e9364f0"
      },
      "execution_count": 44,
      "outputs": [
        {
          "output_type": "stream",
          "name": "stdout",
          "text": [
            "1/1 [==============================] - 0s 28ms/step\n",
            "Predicted:  dung\n"
          ]
        },
        {
          "output_type": "execute_result",
          "data": {
            "text/plain": [
              "<matplotlib.image.AxesImage at 0x7f69cd50ab80>"
            ]
          },
          "metadata": {},
          "execution_count": 44
        },
        {
          "output_type": "display_data",
          "data": {
            "text/plain": [
              "<Figure size 640x480 with 1 Axes>"
            ],
            "image/png": "[encoded data removed]"
          },
          "metadata": {}
        }
      ]
    },
    {
      "cell_type": "code",
      "source": [],
      "metadata": {
        "id": "Qlo5V3sWSVWw"
      },
      "execution_count": null,
      "outputs": []
    }
  ]
}